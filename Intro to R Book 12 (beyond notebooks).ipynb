{
 "cells": [
  {
   "cell_type": "markdown",
   "id": "644117cd",
   "metadata": {},
   "source": [
    "<img src=\"./intro_images/MIE.PNG\" alt=\"notebook banner image\" width=\"100%\" align=\"left\" />"
   ]
  },
  {
   "cell_type": "markdown",
   "id": "181149b9",
   "metadata": {},
   "source": [
    "<table style=\"float:right;\">\n",
    "    <tr>\n",
    "        <td>                      \n",
    "            <div style=\"text-align: right\"><a href=\"https://alandavies.netlify.com\" target=\"_blank\">Dr Alan Davies</a></div>\n",
    "            <div style=\"text-align: right\">Senior Lecturer Health Data Science</div>\n",
    "            <div style=\"text-align: right\">University of Manchester</div>\n",
    "         </td>\n",
    "         <td>\n",
    "             <img src=\"./intro_images/alan.PNG\" alt=\"Alan Davies Photo\" width=\"30%\" />\n",
    "         </td>\n",
    "     </tr>\n",
    "</table>"
   ]
  },
  {
   "cell_type": "markdown",
   "id": "652db64f",
   "metadata": {},
   "source": [
    "# 12.0 Beyond notebooks\n",
    "****"
   ]
  },
  {
   "cell_type": "markdown",
   "id": "d7568ca2",
   "metadata": {},
   "source": [
    "#### About this Notebook\n",
    "This notebook introduces Integrated Development Environments (IDEs) that are used to manage larger R projects. We also look at using R for data science and analysis."
   ]
  },
  {
   "cell_type": "markdown",
   "id": "7dc631ea",
   "metadata": {},
   "source": [
    "<div class=\"alert alert-block alert-warning\"><b>Learning Objectives:</b> \n",
    "<br/> At the end of this notebook you will be able to:\n",
    "    \n",
    "- Investigate key features of Integrated Development Environments (IDEs)\n",
    "\n",
    "- Explore some of the primary uses of R\n",
    "\n",
    "</div> "
   ]
  },
  {
   "cell_type": "markdown",
   "id": "2e367bf7",
   "metadata": {},
   "source": [
    "<a id=\"top\"></a>\n",
    "\n",
    "<b>Table of contents</b><br>\n",
    "\n",
    "12.1 [Integrated development environments](#ide)\n",
    "\n",
    "12.2 [R for data science](#ds)\n",
    "\n",
    "12.3 [Data visualization](#dataviz)"
   ]
  },
  {
   "cell_type": "markdown",
   "id": "1d19cc89",
   "metadata": {},
   "source": [
    "So far we have used R in the context of <code>Jupyter</code> notebooks. Notebooks are often used in research to report findings as an interactive means of presenting results with text and other resources. This is also good practice for reproducible research where the data and analysis can be displayed together for other researchers to examine and use. Although widely used for teaching and research, notebooks are less useful for building complete software systems. For this sort of work programmers would usually use an <code>IDE</code> (Integrated Development Environment). One that comes for free and is the one of the most used for R is <code>RStudio</code>. Such IDE's can handle multiple files and provide a wealth of other tools to help with coding tasks."
   ]
  },
  {
   "cell_type": "markdown",
   "id": "56a0e769",
   "metadata": {},
   "source": [
    "<a id=\"ide\"></a>\n",
    "#### 12.1 Integrated development environments"
   ]
  },
  {
   "cell_type": "markdown",
   "id": "a17da84b",
   "metadata": {},
   "source": [
    "<img src=\"./intro_images/spyder.PNG\" alt=\"Spyder IDE interface\" width=\"100%\" />"
   ]
  },
  {
   "cell_type": "markdown",
   "id": "d2a80ea8",
   "metadata": {},
   "source": [
    "The image above shows the RStudio IDE. IDE's provide several useful features. These usually include a file/function explorer to work on and switch between multiple files in a project. A main code editing window or windows. In the case of RStudio a variable explorer showing the contents of variables and a console for viewing output or trying out bits of code."
   ]
  },
  {
   "cell_type": "markdown",
   "id": "36ab82ab",
   "metadata": {},
   "source": [
    "You can see the main code window on the top left. Below that is the console that allows direct execution of code and displays various outputs. The top right has various tabs including one to display the contents of variable. Below this is a window that is used to display plots and other visualisations as well as details of packages that are installed and help information. IDEs also allow for tasks like <code>debugging</code> where you can step through code executing it line by line or watch the contents of variables to determine where errors may be occurring. "
   ]
  },
  {
   "cell_type": "markdown",
   "id": "3e7cf0e5",
   "metadata": {},
   "source": [
    "For large projects, programmers will use an IDE to manage the various resources of a project (images, source code files, etc.) To see some of the features of an IDE play the video below to see some of the basic features."
   ]
  },
  {
   "cell_type": "markdown",
   "id": "bddd57f3",
   "metadata": {},
   "source": [
    "<div class=\"alert alert-block alert-info\">\n",
    "<b>Task 1:</b>\n",
    "<br> \n",
    "    Follow <a href=\"https://rstudio-education.github.io/hopr/starting.html\" target=\"blank\">this</a> short guide to install R and then RStudio. Have a go with the various settings and features. You can do things like adjust the colours, font size, add line numbers etc. Aim to become familiar with the various features of the IDE as they can be very useful and powerful. You may also prefer watching a video on how to use the main features on YouTube or other video platform.\n",
    "</div>"
   ]
  },
  {
   "cell_type": "markdown",
   "id": "52cfe4dc",
   "metadata": {},
   "source": [
    "<a id=\"ds\"></a>\n",
    "#### 12.2 R  for data science"
   ]
  },
  {
   "cell_type": "markdown",
   "id": "0c3f7c28",
   "metadata": {},
   "source": [
    "<div class=\"alert alert-danger\">\n",
    "<b>Note:</b> This section of the notebook is just for additional information to see some of the functionality of R. Here we just introduce some the main concepts. It is not essential for you to learn this.\n",
    "</div>"
   ]
  },
  {
   "cell_type": "markdown",
   "id": "7f9a019b",
   "metadata": {},
   "source": [
    "R is a fully featured programming language, but unlike other more general purpose programming languages (e.g. Python), R was designed for carrying out statistical analysis and data science tasks and therefore includes much inbuilt functionality for these tasks. Other languages often require additional libraries to accomplish this. "
   ]
  },
  {
   "cell_type": "markdown",
   "id": "8d64eff6",
   "metadata": {},
   "source": [
    "One structure for storing data used often in data science is the <code>data frame</code>. One can think of a data frame in a similar way to that of spreadsheet. It is made up of rows and columns. The columns are typically features (data fields) and the rows are records. R has inbuilt functionality for creating and manipulating data frames. In the example below we make a data frame containing data about 3 peoples names, ages and blood pressure readings."
   ]
  },
  {
   "cell_type": "code",
   "execution_count": 4,
   "id": "c33310fd",
   "metadata": {},
   "outputs": [
    {
     "name": "stdout",
     "output_type": "stream",
     "text": [
      "          name age     BP\n",
      "1   Paul Smith  52 128/70\n",
      "2 Nick Bandera  18 130/60\n",
      "3 Julie Miller  31 142/72\n"
     ]
    }
   ],
   "source": [
    "names <- c(\"Paul Smith\", \"Nick Bandera\", \"Julie Miller\")\n",
    "ages <- c(52, 18, 31)\n",
    "blood_pressures <- c(\"128/70\", \"130/60\", \"142/72\")\n",
    "\n",
    "my_df <- data.frame(name=names, age=ages, BP=blood_pressures)\n",
    "print(my_df)"
   ]
  },
  {
   "cell_type": "markdown",
   "id": "cdbaad2d",
   "metadata": {},
   "source": [
    "For a nicer output, just use the data frame name:"
   ]
  },
  {
   "cell_type": "code",
   "execution_count": 5,
   "id": "6d7694f4",
   "metadata": {},
   "outputs": [
    {
     "data": {
      "text/html": [
       "<table>\n",
       "<thead><tr><th scope=col>name</th><th scope=col>age</th><th scope=col>BP</th></tr></thead>\n",
       "<tbody>\n",
       "\t<tr><td>Paul Smith  </td><td>52          </td><td>128/70      </td></tr>\n",
       "\t<tr><td>Nick Bandera</td><td>18          </td><td>130/60      </td></tr>\n",
       "\t<tr><td>Julie Miller</td><td>31          </td><td>142/72      </td></tr>\n",
       "</tbody>\n",
       "</table>\n"
      ],
      "text/latex": [
       "\\begin{tabular}{r|lll}\n",
       " name & age & BP\\\\\n",
       "\\hline\n",
       "\t Paul Smith   & 52           & 128/70      \\\\\n",
       "\t Nick Bandera & 18           & 130/60      \\\\\n",
       "\t Julie Miller & 31           & 142/72      \\\\\n",
       "\\end{tabular}\n"
      ],
      "text/markdown": [
       "\n",
       "| name | age | BP |\n",
       "|---|---|---|\n",
       "| Paul Smith   | 52           | 128/70       |\n",
       "| Nick Bandera | 18           | 130/60       |\n",
       "| Julie Miller | 31           | 142/72       |\n",
       "\n"
      ],
      "text/plain": [
       "  name         age BP    \n",
       "1 Paul Smith   52  128/70\n",
       "2 Nick Bandera 18  130/60\n",
       "3 Julie Miller 31  142/72"
      ]
     },
     "metadata": {},
     "output_type": "display_data"
    }
   ],
   "source": [
    "my_df"
   ]
  },
  {
   "cell_type": "markdown",
   "id": "c41af81d",
   "metadata": {},
   "source": [
    "<div class=\"alert alert-success\">\n",
    "<b>Note:</b> In reality data scientists will often load data from other sources, such as CSV (Comma Separated Value) files into data frames so they can perform analysis with the data, rather than making their own data frames like we do here. \n",
    "</div>"
   ]
  },
  {
   "cell_type": "markdown",
   "id": "8f8f3dd6",
   "metadata": {},
   "source": [
    "We can see the column names with <code>colnames</code>."
   ]
  },
  {
   "cell_type": "code",
   "execution_count": 6,
   "id": "57a808cb",
   "metadata": {},
   "outputs": [
    {
     "data": {
      "text/html": [
       "<ol class=list-inline>\n",
       "\t<li>'name'</li>\n",
       "\t<li>'age'</li>\n",
       "\t<li>'BP'</li>\n",
       "</ol>\n"
      ],
      "text/latex": [
       "\\begin{enumerate*}\n",
       "\\item 'name'\n",
       "\\item 'age'\n",
       "\\item 'BP'\n",
       "\\end{enumerate*}\n"
      ],
      "text/markdown": [
       "1. 'name'\n",
       "2. 'age'\n",
       "3. 'BP'\n",
       "\n",
       "\n"
      ],
      "text/plain": [
       "[1] \"name\" \"age\"  \"BP\"  "
      ]
     },
     "metadata": {},
     "output_type": "display_data"
    }
   ],
   "source": [
    "colnames(my_df)"
   ]
  },
  {
   "cell_type": "markdown",
   "id": "9f1704ab",
   "metadata": {},
   "source": [
    "We can also look at the columns with the inbuilt functionality using the <code>$</code> operator."
   ]
  },
  {
   "cell_type": "code",
   "execution_count": 7,
   "id": "c8f50b7d",
   "metadata": {},
   "outputs": [
    {
     "data": {
      "text/html": [
       "<ol class=list-inline>\n",
       "\t<li>128/70</li>\n",
       "\t<li>130/60</li>\n",
       "\t<li>142/72</li>\n",
       "</ol>\n",
       "\n",
       "<details>\n",
       "\t<summary style=display:list-item;cursor:pointer>\n",
       "\t\t<strong>Levels</strong>:\n",
       "\t</summary>\n",
       "\t<ol class=list-inline>\n",
       "\t\t<li>'128/70'</li>\n",
       "\t\t<li>'130/60'</li>\n",
       "\t\t<li>'142/72'</li>\n",
       "\t</ol>\n",
       "</details>"
      ],
      "text/latex": [
       "\\begin{enumerate*}\n",
       "\\item 128/70\n",
       "\\item 130/60\n",
       "\\item 142/72\n",
       "\\end{enumerate*}\n",
       "\n",
       "\\emph{Levels}: \\begin{enumerate*}\n",
       "\\item '128/70'\n",
       "\\item '130/60'\n",
       "\\item '142/72'\n",
       "\\end{enumerate*}\n"
      ],
      "text/markdown": [
       "1. 128/70\n",
       "2. 130/60\n",
       "3. 142/72\n",
       "\n",
       "\n",
       "\n",
       "**Levels**: 1. '128/70'\n",
       "2. '130/60'\n",
       "3. '142/72'\n",
       "\n",
       "\n"
      ],
      "text/plain": [
       "[1] 128/70 130/60 142/72\n",
       "Levels: 128/70 130/60 142/72"
      ]
     },
     "metadata": {},
     "output_type": "display_data"
    }
   ],
   "source": [
    "my_df$BP"
   ]
  },
  {
   "cell_type": "code",
   "execution_count": 9,
   "id": "4b4c89ef",
   "metadata": {},
   "outputs": [
    {
     "data": {
      "text/html": [
       "142/72\n",
       "<details>\n",
       "\t<summary style=display:list-item;cursor:pointer>\n",
       "\t\t<strong>Levels</strong>:\n",
       "\t</summary>\n",
       "\t<ol class=list-inline>\n",
       "\t\t<li>'128/70'</li>\n",
       "\t\t<li>'130/60'</li>\n",
       "\t\t<li>'142/72'</li>\n",
       "\t</ol>\n",
       "</details>"
      ],
      "text/latex": [
       "142/72\n",
       "\\emph{Levels}: \\begin{enumerate*}\n",
       "\\item '128/70'\n",
       "\\item '130/60'\n",
       "\\item '142/72'\n",
       "\\end{enumerate*}\n"
      ],
      "text/markdown": [
       "142/72\n",
       "**Levels**: 1. '128/70'\n",
       "2. '130/60'\n",
       "3. '142/72'\n",
       "\n",
       "\n"
      ],
      "text/plain": [
       "[1] 142/72\n",
       "Levels: 128/70 130/60 142/72"
      ]
     },
     "metadata": {},
     "output_type": "display_data"
    }
   ],
   "source": [
    "my_df$BP[[3]]"
   ]
  },
  {
   "cell_type": "markdown",
   "id": "bca8f468",
   "metadata": {},
   "source": [
    "We can also use the <code>summary</code> function to get some basic statistical information out of the data as well. Here we see the average, standard deviation, min and max values and quartiles where appropriate. "
   ]
  },
  {
   "cell_type": "code",
   "execution_count": 10,
   "id": "6f551e6f",
   "metadata": {},
   "outputs": [
    {
     "data": {
      "text/plain": [
       "           name        age             BP   \n",
       " Julie Miller:1   Min.   :18.00   128/70:1  \n",
       " Nick Bandera:1   1st Qu.:24.50   130/60:1  \n",
       " Paul Smith  :1   Median :31.00   142/72:1  \n",
       "                  Mean   :33.67             \n",
       "                  3rd Qu.:41.50             \n",
       "                  Max.   :52.00             "
      ]
     },
     "metadata": {},
     "output_type": "display_data"
    }
   ],
   "source": [
    "summary(my_df)"
   ]
  },
  {
   "cell_type": "markdown",
   "id": "724a2bb5",
   "metadata": {},
   "source": [
    "<a id=\"dataviz\"></a>\n",
    "#### 12.3 Data visualization"
   ]
  },
  {
   "cell_type": "markdown",
   "id": "7d275103",
   "metadata": {},
   "source": [
    "We can also create visualizations of data using inbuilt functionality or the popular <code>ggplot2</code> library (among others). Here we create a <code>boxplot</code> of the <code>Age</code> data that you can compare to the textual output produced with the <code>summary()</code> function."
   ]
  },
  {
   "cell_type": "code",
   "execution_count": 12,
   "id": "60d65d0c",
   "metadata": {},
   "outputs": [
    {
     "name": "stderr",
     "output_type": "stream",
     "text": [
      "Loading required package: ggplot2\n",
      "Warning message:\n",
      "\"package 'ggplot2' was built under R version 3.6.3\""
     ]
    }
   ],
   "source": [
    "require(ggplot2)"
   ]
  },
  {
   "cell_type": "code",
   "execution_count": 13,
   "id": "06f6d9f6",
   "metadata": {},
   "outputs": [
    {
     "data": {
      "image/png": "[encoded data removed]",
      "text/plain": [
       "plot without title"
      ]
     },
     "metadata": {},
     "output_type": "display_data"
    }
   ],
   "source": [
    "ggplot(my_df, aes(x = \"\", y = age)) + geom_boxplot()"
   ]
  },
  {
   "cell_type": "markdown",
   "id": "3a2fd12e",
   "metadata": {},
   "source": [
    "<div class=accessibility>\n",
    "<b>Accessibility:</b> The cell above displays a box plot that represents patients' ages.\n",
    "</div>"
   ]
  },
  {
   "cell_type": "markdown",
   "id": "b393d8da",
   "metadata": {},
   "source": [
    "The <code>ggplot2</code> library allows a visualiaation to be constructed in multiple layers with the use of aesthetics <code>aes</code>."
   ]
  },
  {
   "cell_type": "markdown",
   "id": "515d5666",
   "metadata": {},
   "source": [
    "Here is another example, this time of a <code>bar chart</code> showing the name plotted against the age. This time we have included axis labels. "
   ]
  },
  {
   "cell_type": "code",
   "execution_count": 17,
   "id": "6ec0e677",
   "metadata": {},
   "outputs": [
    {
     "data": {
      "image/png": "[encoded data removed]",
      "text/plain": [
       "plot without title"
      ]
     },
     "metadata": {},
     "output_type": "display_data"
    }
   ],
   "source": [
    "bar_plt <- ggplot(my_df, aes(x=name, y=age)) +\n",
    "    geom_bar(stat=\"identity\") +\n",
    "    coord_flip() +\n",
    "    ylab(\"Age (years)\") +\n",
    "    xlab(\"Patient name\")\n",
    "\n",
    "print(bar_plt)"
   ]
  },
  {
   "cell_type": "markdown",
   "id": "c4ed5c58",
   "metadata": {},
   "source": [
    "<div class=accessibility>\n",
    "<b>Accessibility:</b> The cell above displays a bar plot with three bars representing patients on the y-axis. The x-axis shows age in years from 0 to 52 years.\n",
    "</div>"
   ]
  },
  {
   "cell_type": "markdown",
   "id": "53d55650",
   "metadata": {},
   "source": [
    "Let's add some more information. A column of heart rates."
   ]
  },
  {
   "cell_type": "code",
   "execution_count": 18,
   "id": "2f787e2e",
   "metadata": {},
   "outputs": [],
   "source": [
    "my_df$HR <- c(101, 68, 80)"
   ]
  },
  {
   "cell_type": "code",
   "execution_count": 19,
   "id": "4c1614c0",
   "metadata": {},
   "outputs": [
    {
     "data": {
      "text/html": [
       "<table>\n",
       "<thead><tr><th scope=col>name</th><th scope=col>age</th><th scope=col>BP</th><th scope=col>HR</th></tr></thead>\n",
       "<tbody>\n",
       "\t<tr><td>Paul Smith  </td><td>52          </td><td>128/70      </td><td>101         </td></tr>\n",
       "\t<tr><td>Nick Bandera</td><td>18          </td><td>130/60      </td><td> 68         </td></tr>\n",
       "\t<tr><td>Julie Miller</td><td>31          </td><td>142/72      </td><td> 80         </td></tr>\n",
       "</tbody>\n",
       "</table>\n"
      ],
      "text/latex": [
       "\\begin{tabular}{r|llll}\n",
       " name & age & BP & HR\\\\\n",
       "\\hline\n",
       "\t Paul Smith   & 52           & 128/70       & 101         \\\\\n",
       "\t Nick Bandera & 18           & 130/60       &  68         \\\\\n",
       "\t Julie Miller & 31           & 142/72       &  80         \\\\\n",
       "\\end{tabular}\n"
      ],
      "text/markdown": [
       "\n",
       "| name | age | BP | HR |\n",
       "|---|---|---|---|\n",
       "| Paul Smith   | 52           | 128/70       | 101          |\n",
       "| Nick Bandera | 18           | 130/60       |  68          |\n",
       "| Julie Miller | 31           | 142/72       |  80          |\n",
       "\n"
      ],
      "text/plain": [
       "  name         age BP     HR \n",
       "1 Paul Smith   52  128/70 101\n",
       "2 Nick Bandera 18  130/60  68\n",
       "3 Julie Miller 31  142/72  80"
      ]
     },
     "metadata": {},
     "output_type": "display_data"
    }
   ],
   "source": [
    "my_df"
   ]
  },
  {
   "cell_type": "markdown",
   "id": "4c04ee06",
   "metadata": {
    "solution2": "hidden",
    "solution2_first": true
   },
   "source": [
    "<div class=\"alert alert-block alert-info\">\n",
    "<b>Task 2:</b>\n",
    "<br> \n",
    "1. Look up how to create a <code>scatterplot</code> and plot <code>Age</code> on the x-axis against <code>HR</code> on the y-axis<br>\n",
    "2. Add a title and x and y axis labels.\n",
    "</div>"
   ]
  },
  {
   "cell_type": "code",
   "execution_count": 31,
   "id": "1c6e1a2f",
   "metadata": {
    "solution2": "hidden"
   },
   "outputs": [
    {
     "data": {
      "image/png": "[encoded data removed]",
      "text/plain": [
       "plot without title"
      ]
     },
     "metadata": {},
     "output_type": "display_data"
    }
   ],
   "source": [
    "hr_plt <- ggplot(my_df, aes(x=age, y=HR)) +\n",
    "    geom_point() +\n",
    "    ggtitle(\"Scatter plot of age and heart rate\") +\n",
    "    xlab(\"Age (years)\") +\n",
    "    ylab(\"Heart rate (beats per minute)\")\n",
    "\n",
    "print(hr_plt)"
   ]
  },
  {
   "cell_type": "code",
   "execution_count": null,
   "id": "31ea0429",
   "metadata": {},
   "outputs": [],
   "source": []
  },
  {
   "cell_type": "markdown",
   "id": "6a3e7ba2",
   "metadata": {},
   "source": [
    "<div class=\"alert alert-success\">\n",
    "<b>Note:</b> We can also develop web-based graphical front ends in R to make our programs easier to use and more attractive to users. We can do this using <code>Shiny</code>. For more information on R Shiny have a look\n",
    "    <a href=\"https://shiny.rstudio.com/tutorial/\" target=\"_blank\">here</a>.\n",
    "</div>"
   ]
  },
  {
   "cell_type": "markdown",
   "id": "27f67fec",
   "metadata": {},
   "source": [
    "<div class=\"alert alert-warning\">\n",
    "<b>Conclusion</b>  \n",
    "</div>"
   ]
  },
  {
   "cell_type": "markdown",
   "id": "961aa20c",
   "metadata": {},
   "source": [
    "This is just a small sample of the sort of things you can use R for. If you have a sound understanding of the topics covered to this point, you can build on them to use R for a variety of different projects. Hopefully this short introduction to programming using R has provided a broad background on which you can go on to develop your skills. Many of the concepts explained here are present in many other modern programming languages (even if their syntax is different). Programming is a skill that requires practice and trial and error. The more you do it, the better you will get, rather like playing a musical instrument. So..."
   ]
  },
  {
   "cell_type": "code",
   "execution_count": 20,
   "id": "4a153413",
   "metadata": {},
   "outputs": [
    {
     "data": {
      "text/html": [
       "<ol class=list-inline>\n",
       "\t<li>'pactice'</li>\n",
       "\t<li>'pactice'</li>\n",
       "\t<li>'pactice'</li>\n",
       "</ol>\n"
      ],
      "text/latex": [
       "\\begin{enumerate*}\n",
       "\\item 'pactice'\n",
       "\\item 'pactice'\n",
       "\\item 'pactice'\n",
       "\\end{enumerate*}\n"
      ],
      "text/markdown": [
       "1. 'pactice'\n",
       "2. 'pactice'\n",
       "3. 'pactice'\n",
       "\n",
       "\n"
      ],
      "text/plain": [
       "[1] \"pactice\" \"pactice\" \"pactice\""
      ]
     },
     "metadata": {},
     "output_type": "display_data"
    }
   ],
   "source": [
    "rep(\"pactice\", 3)"
   ]
  },
  {
   "cell_type": "markdown",
   "id": "789fa241",
   "metadata": {},
   "source": [
    "### Notebook details\n",
    "<br>\n",
    "<i>Notebook created by <strong>Dr. Alan Davies</strong>.\n",
    "<br>\n",
    "&copy; Alan Davies 2022"
   ]
  },
  {
   "cell_type": "markdown",
   "id": "50c79ba5",
   "metadata": {},
   "source": [
    "## Notes:"
   ]
  },
  {
   "cell_type": "code",
   "execution_count": null,
   "id": "df5b8fc2",
   "metadata": {},
   "outputs": [],
   "source": []
  },
  {
   "cell_type": "code",
   "execution_count": null,
   "id": "64ede8f7",
   "metadata": {},
   "outputs": [],
   "source": []
  },
  {
   "cell_type": "code",
   "execution_count": null,
   "id": "1a2abe47",
   "metadata": {},
   "outputs": [],
   "source": []
  },
  {
   "cell_type": "code",
   "execution_count": 1,
   "id": "e3a9fd1d",
   "metadata": {},
   "outputs": [
    {
     "data": {
      "text/html": [
       "<style>\n",
       "div.accessibility {    \n",
       "    background-color: #DDC4DE;\n",
       "    border-color: #8D398F;\n",
       "    border-left: 5px solid #8D398F;\n",
       "    padding: 0.5em;\n",
       "}\n",
       "</style>"
      ],
      "text/plain": [
       "<IPython.core.display.HTML object>"
      ]
     },
     "execution_count": 1,
     "metadata": {},
     "output_type": "execute_result"
    }
   ],
   "source": [
    "#This cell maintains the accessibility of the notebook content.\n",
    "from IPython.core.display import HTML\n",
    "def css_styling():\n",
    "    styles = open(\"./styles/custom.css\", \"r\").read()\n",
    "    return HTML(styles)\n",
    "css_styling()"
   ]
  },
  {
   "cell_type": "code",
   "execution_count": null,
   "id": "4000c468",
   "metadata": {},
   "outputs": [],
   "source": []
  }
 ],
 "metadata": {
  "hide_input": false,
  "kernelspec": {
   "display_name": "Python 3 (ipykernel)",
   "language": "python",
   "name": "python3"
  },
  "language_info": {
   "codemirror_mode": {
    "name": "ipython",
    "version": 3
   },
   "file_extension": ".py",
   "mimetype": "text/x-python",
   "name": "python",
   "nbconvert_exporter": "python",
   "pygments_lexer": "ipython3",
   "version": "3.9.12"
  }
 },
 "nbformat": 4,
 "nbformat_minor": 5
}
