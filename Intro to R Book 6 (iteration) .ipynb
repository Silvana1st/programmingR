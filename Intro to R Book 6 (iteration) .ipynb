{
 "cells": [
  {
   "cell_type": "markdown",
   "id": "c26aa062",
   "metadata": {},
   "source": [
    "<img src=\"./intro_images/MIE.PNG\" alt=\"notebook banner image\" width=\"100%\" align=\"left\" />"
   ]
  },
  {
   "cell_type": "markdown",
   "id": "d9d4460d",
   "metadata": {},
   "source": [
    "<table style=\"float:right;\">\n",
    "    <tr>\n",
    "        <td>                      \n",
    "            <div style=\"text-align: right\"><a href=\"https://alandavies.netlify.com\" target=\"_blank\">Dr Alan Davies</a></div>\n",
    "            <div style=\"text-align: right\">Senior Lecturer Health Data Science</div>\n",
    "            <div style=\"text-align: right\">University of Manchester</div>\n",
    "         </td>\n",
    "         <td>\n",
    "             <img src=\"./intro_images/alan.PNG\" alt=\"Alan Davies photo\" width=\"30%\" />\n",
    "         </td>\n",
    "     </tr>\n",
    "</table>"
   ]
  },
  {
   "cell_type": "markdown",
   "id": "d8121d6a",
   "metadata": {},
   "source": [
    "# 6.0 Iteration\n",
    "****"
   ]
  },
  {
   "cell_type": "markdown",
   "id": "cfa7988b",
   "metadata": {},
   "source": [
    "#### About this Notebook\n",
    "This notebook introduces the concept iteration - using loops to repeat blocks of code for a certain number of times or until a certain condition is met. This is often used with data structures to apply operations/computation to data held within them."
   ]
  },
  {
   "cell_type": "markdown",
   "id": "e2e453f5",
   "metadata": {},
   "source": [
    "<div class=\"alert alert-block alert-warning\"><b>Learning Objectives:</b> \n",
    "<br/> At the end of this notebook you will be able to:\n",
    "    \n",
    "- Investigate key loops and methods of iteration available in R\n",
    "\n",
    "- Explore how these can be used to iterate over data structures\n",
    "\n",
    "</div> "
   ]
  },
  {
   "cell_type": "markdown",
   "id": "3ceb862f",
   "metadata": {},
   "source": [
    "<a id=\"top\"></a>\n",
    "\n",
    "<b>Table of contents</b><br>\n",
    "\n",
    "6.1 [For loops](#for)\n",
    "\n",
    "6.2 [While loops](#while)\n",
    "\n",
    "6.3 [Apply functions](#apply)"
   ]
  },
  {
   "cell_type": "markdown",
   "id": "3ac0823d",
   "metadata": {},
   "source": [
    "R has many ways of applying computations to its data structures without having to use <code>loops</code> to access individual elements of a data structure and apply changes. We will see some of these later. We will cover loops here for the benefit of knowing this concept as it's key to many different programming languages."
   ]
  },
  {
   "cell_type": "markdown",
   "id": "53867fbc",
   "metadata": {},
   "source": [
    "Now we have seen data structures such as lists and dictionaries it makes sense to look at iteration as these concepts are often used together to exploit the power of such data structures. Iteration is a way of saying doing something over and over again or in a <code>loop</code>. This is useful when we want to do things like a repeat an operation a number of times or traverse through data structures like lists or vectors. Let's look at an example of this. Let's say we have a list of medical procedures that we offer in our hospital cardiac catheterization lab:"
   ]
  },
  {
   "cell_type": "code",
   "execution_count": 1,
   "id": "897abfe8",
   "metadata": {},
   "outputs": [],
   "source": [
    "cathlab_procedures <- c('angiogram', \n",
    "                      'pacemaker insertion', \n",
    "                      'electrophysiological studies', \n",
    "                      'transoesophageal echocardiogram',\n",
    "                      'Percutaneous Coronary Intervention',\n",
    "                      'AICD insertion',\n",
    "                      'reveal monitor insertion')"
   ]
  },
  {
   "cell_type": "markdown",
   "id": "326a1481",
   "metadata": {},
   "source": [
    "We can list them one by one as before using the elements index:"
   ]
  },
  {
   "cell_type": "code",
   "execution_count": 4,
   "id": "ddaad50d",
   "metadata": {},
   "outputs": [
    {
     "data": {
      "text/html": [
       "'AICD insertion'"
      ],
      "text/latex": [
       "'AICD insertion'"
      ],
      "text/markdown": [
       "'AICD insertion'"
      ],
      "text/plain": [
       "[1] \"AICD insertion\""
      ]
     },
     "metadata": {},
     "output_type": "display_data"
    }
   ],
   "source": [
    "cathlab_procedures[6]"
   ]
  },
  {
   "cell_type": "markdown",
   "id": "3cd012f8",
   "metadata": {},
   "source": [
    "Doing this item at a time would be extremely time consuming. Also what if we offered 250 procedures? Instead we can use a <code>loop</code> to go through each item and print the result."
   ]
  },
  {
   "cell_type": "markdown",
   "id": "5391c96e",
   "metadata": {},
   "source": [
    "<a id=\"for\"></a>\n",
    "#### 6.1 For loops"
   ]
  },
  {
   "cell_type": "code",
   "execution_count": 5,
   "id": "3c8ec7d3",
   "metadata": {},
   "outputs": [
    {
     "name": "stdout",
     "output_type": "stream",
     "text": [
      "[1] \"The procedures we offer are:\"\n",
      "[1] \"angiogram\"\n",
      "[1] \"pacemaker insertion\"\n",
      "[1] \"electrophysiological studies\"\n",
      "[1] \"transoesophageal echocardiogram\"\n",
      "[1] \"Percutaneous Coronary Intervention\"\n",
      "[1] \"AICD insertion\"\n",
      "[1] \"reveal monitor insertion\"\n"
     ]
    }
   ],
   "source": [
    "print(\"The procedures we offer are:\")\n",
    "\n",
    "for(procedure in cathlab_procedures)\n",
    "{\n",
    "    print(procedure)\n",
    "}"
   ]
  },
  {
   "cell_type": "markdown",
   "id": "e4f1537d",
   "metadata": {},
   "source": [
    "Here we use the <code>for</code> keyword to create a loop for every procedure in our vector. All the code within the opening and closing braces <code>{}</code> is contained within the loop. We can use loops to repeat items. Here is an example of saying hello 5 times."
   ]
  },
  {
   "cell_type": "code",
   "execution_count": 7,
   "id": "af91dddf",
   "metadata": {},
   "outputs": [
    {
     "name": "stdout",
     "output_type": "stream",
     "text": [
      "[1] \"Hello\"\n",
      "[1] \"Hello\"\n",
      "[1] \"Hello\"\n",
      "[1] \"Hello\"\n",
      "[1] \"Hello\"\n"
     ]
    }
   ],
   "source": [
    "for(i in 1:5)\n",
    "{\n",
    "    print(\"Hello\")\n",
    "}"
   ]
  },
  {
   "cell_type": "markdown",
   "id": "46e0ac6f",
   "metadata": {},
   "source": [
    "Each time the loop repeats it automatically adds to the loop counter variable (in this case called <code>i</code>). This is called <code>incrementation</code> (the opposite is <code>decrementing</code>). We can see this in action if we print the value if <code>i</code> in the loop:"
   ]
  },
  {
   "cell_type": "code",
   "execution_count": 10,
   "id": "5e95a868",
   "metadata": {},
   "outputs": [
    {
     "name": "stdout",
     "output_type": "stream",
     "text": [
      "i = 1 \n",
      "i = 2 \n",
      "i = 3 \n",
      "i = 4 \n",
      "i = 5 \n"
     ]
    }
   ],
   "source": [
    "for(i in 1:5)\n",
    "{\n",
    "    cat(\"i =\", i, \"\\n\")\n",
    "}"
   ]
  },
  {
   "cell_type": "markdown",
   "id": "0ded3bcc",
   "metadata": {
    "solution2": "hidden",
    "solution2_first": true
   },
   "source": [
    "<div class=\"alert alert-block alert-info\">\n",
    "<b>Task 1:</b>\n",
    "<br> \n",
    "Write a loop that prints your name 10 times.\n",
    "</div>"
   ]
  },
  {
   "cell_type": "code",
   "execution_count": 11,
   "id": "8a52d7c6",
   "metadata": {
    "solution2": "hidden"
   },
   "outputs": [
    {
     "name": "stdout",
     "output_type": "stream",
     "text": [
      "[1] \"Your name\"\n",
      "[1] \"Your name\"\n",
      "[1] \"Your name\"\n",
      "[1] \"Your name\"\n",
      "[1] \"Your name\"\n",
      "[1] \"Your name\"\n",
      "[1] \"Your name\"\n",
      "[1] \"Your name\"\n",
      "[1] \"Your name\"\n",
      "[1] \"Your name\"\n"
     ]
    }
   ],
   "source": [
    "for(i in 1:10)\n",
    "{\n",
    "    print(\"Your name\")\n",
    "}"
   ]
  },
  {
   "cell_type": "code",
   "execution_count": null,
   "id": "6899f233",
   "metadata": {},
   "outputs": [],
   "source": []
  },
  {
   "cell_type": "markdown",
   "id": "60868851",
   "metadata": {},
   "source": [
    "We have 7 items in our list of procedures above so we could also write:"
   ]
  },
  {
   "cell_type": "code",
   "execution_count": 12,
   "id": "96ade3d3",
   "metadata": {},
   "outputs": [
    {
     "name": "stdout",
     "output_type": "stream",
     "text": [
      "[1] \"angiogram\"\n",
      "[1] \"pacemaker insertion\"\n",
      "[1] \"electrophysiological studies\"\n",
      "[1] \"transoesophageal echocardiogram\"\n",
      "[1] \"Percutaneous Coronary Intervention\"\n",
      "[1] \"AICD insertion\"\n",
      "[1] \"reveal monitor insertion\"\n"
     ]
    }
   ],
   "source": [
    "for(i in 1:7)\n",
    "{\n",
    "    print(cathlab_procedures[i])\n",
    "}"
   ]
  },
  {
   "cell_type": "markdown",
   "id": "a1efd05d",
   "metadata": {
    "solution2": "hidden",
    "solution2_first": true
   },
   "source": [
    "<div class=\"alert alert-block alert-info\">\n",
    "<b>Task 2:</b>\n",
    "<br> \n",
    "1. Can you think of a reason why putting the number 7 in the range might not be best practice? <br />\n",
    "2. How might we resolve this?\n",
    "</div>"
   ]
  },
  {
   "cell_type": "markdown",
   "id": "a3ee33bb",
   "metadata": {
    "solution2": "hidden"
   },
   "source": [
    "**1.** This would not be good practice because we could add or remove items from our procedures which would cause an error if we try to access an element in the list that doesn't exist. Alternatively if we added extra items (above 7) we wouldn't see them output as the loop would stop at 7."
   ]
  },
  {
   "cell_type": "markdown",
   "id": "6c8aaab0",
   "metadata": {
    "solution2": "hidden"
   },
   "source": [
    "**2.** We could use the <code>length()</code> function to work out the exact length of the list so we only loop over items that actually exist. Alternatively we could use the <code>for ... in</code> method shown above."
   ]
  },
  {
   "cell_type": "code",
   "execution_count": null,
   "id": "c950216f",
   "metadata": {},
   "outputs": [],
   "source": []
  },
  {
   "cell_type": "markdown",
   "id": "86f0b52e",
   "metadata": {},
   "source": [
    "Let's add another item to our procedures and output the values again:"
   ]
  },
  {
   "cell_type": "code",
   "execution_count": 13,
   "id": "0ad68d46",
   "metadata": {},
   "outputs": [],
   "source": [
    "cathlab_procedures <- append(cathlab_procedures, \"cox maze\")"
   ]
  },
  {
   "cell_type": "code",
   "execution_count": 14,
   "id": "479cd43d",
   "metadata": {},
   "outputs": [
    {
     "name": "stdout",
     "output_type": "stream",
     "text": [
      "[1] \"angiogram\"\n",
      "[1] \"pacemaker insertion\"\n",
      "[1] \"electrophysiological studies\"\n",
      "[1] \"transoesophageal echocardiogram\"\n",
      "[1] \"Percutaneous Coronary Intervention\"\n",
      "[1] \"AICD insertion\"\n",
      "[1] \"reveal monitor insertion\"\n"
     ]
    }
   ],
   "source": [
    "for(i in 1:7)\n",
    "{\n",
    "    print(cathlab_procedures[i])\n",
    "}"
   ]
  },
  {
   "cell_type": "markdown",
   "id": "25a4da07",
   "metadata": {},
   "source": [
    "Here we are missing the last item. So it is good practice to do this as we did in the first instance or by using the <code>length()</code> function."
   ]
  },
  {
   "cell_type": "code",
   "execution_count": 15,
   "id": "38ab42c9",
   "metadata": {},
   "outputs": [
    {
     "name": "stdout",
     "output_type": "stream",
     "text": [
      "[1] \"angiogram\"\n",
      "[1] \"pacemaker insertion\"\n",
      "[1] \"electrophysiological studies\"\n",
      "[1] \"transoesophageal echocardiogram\"\n",
      "[1] \"Percutaneous Coronary Intervention\"\n",
      "[1] \"AICD insertion\"\n",
      "[1] \"reveal monitor insertion\"\n",
      "[1] \"cox maze\"\n"
     ]
    }
   ],
   "source": [
    "for(i in 1:length(cathlab_procedures))\n",
    "{\n",
    "    print(cathlab_procedures[i])\n",
    "}"
   ]
  },
  {
   "cell_type": "markdown",
   "id": "8cdab70f",
   "metadata": {},
   "source": [
    "A short hand way of ensuring that you only output values that exist is:"
   ]
  },
  {
   "cell_type": "code",
   "execution_count": 16,
   "id": "043c4de6",
   "metadata": {},
   "outputs": [
    {
     "name": "stdout",
     "output_type": "stream",
     "text": [
      "[1] \"angiogram\"\n",
      "[1] \"pacemaker insertion\"\n",
      "[1] \"electrophysiological studies\"\n",
      "[1] \"transoesophageal echocardiogram\"\n",
      "[1] \"Percutaneous Coronary Intervention\"\n",
      "[1] \"AICD insertion\"\n",
      "[1] \"reveal monitor insertion\"\n",
      "[1] \"cox maze\"\n"
     ]
    }
   ],
   "source": [
    "for(procedure in cathlab_procedures)\n",
    "{\n",
    "    print(procedure)\n",
    "}"
   ]
  },
  {
   "cell_type": "markdown",
   "id": "7ff04ae6",
   "metadata": {},
   "source": [
    "<div class=\"alert alert-success\">\n",
    "<b>Note:</b> Using the <code>for ... in</code> is best practice in R. The option above of looping with a range is how loops work in most other programming languages. These tend to have an initialisation statement, a condition that must be met and an incrementation statement for example in the C language:<br> <code>for(i=0; i&lt;10; i++){ }</code>.  \n",
    "</div>"
   ]
  },
  {
   "cell_type": "markdown",
   "id": "c8ec6bd8",
   "metadata": {},
   "source": [
    "Using loops allows us to perform operations on entire vectors (and other data structures). Let's say we had some working hours and we needed to reduce everyone's working hours by a single hour. We can use iteration to loop over the list and carry out this operation on each element:"
   ]
  },
  {
   "cell_type": "code",
   "execution_count": 18,
   "id": "d1b64326",
   "metadata": {},
   "outputs": [
    {
     "name": "stdout",
     "output_type": "stream",
     "text": [
      "[1]  7.5  8.0 11.0  5.0  5.5  7.5 11.0 11.0  8.0\n"
     ]
    }
   ],
   "source": [
    "hours_worked <- c(8.5, 9, 12, 6, 6.5, 8.5, 12, 12, 9)\n",
    "for(i in 1:length(hours_worked))\n",
    "{\n",
    "    hours_worked[i] <- hours_worked[i] - 1\n",
    "}   \n",
    "print(hours_worked)"
   ]
  },
  {
   "cell_type": "markdown",
   "id": "11ee9749",
   "metadata": {},
   "source": [
    "In fact, this kind of thing is much easier to accomplish in R than many other programming languages as it has been optimized for vectorisation. For example we could do the same thing as above far more simply. "
   ]
  },
  {
   "cell_type": "code",
   "execution_count": 19,
   "id": "b242e8db",
   "metadata": {},
   "outputs": [
    {
     "name": "stdout",
     "output_type": "stream",
     "text": [
      "[1]  7.5  8.0 11.0  5.0  5.5  7.5 11.0 11.0  8.0\n"
     ]
    }
   ],
   "source": [
    "hours_worked <- c(8.5, 9, 12, 6, 6.5, 8.5, 12, 12, 9)\n",
    "print(hours_worked-1)"
   ]
  },
  {
   "cell_type": "markdown",
   "id": "93753993",
   "metadata": {},
   "source": [
    "Here R applies the <code>-1</code> to every element of the vector automatically negating the need to use a loop which would be required in most other languages."
   ]
  },
  {
   "cell_type": "markdown",
   "id": "0e7ebf2f",
   "metadata": {},
   "source": [
    "It is also possible to <code>nest</code> one loop inside another like so:"
   ]
  },
  {
   "cell_type": "code",
   "execution_count": 24,
   "id": "fe9dcca9",
   "metadata": {},
   "outputs": [
    {
     "name": "stdout",
     "output_type": "stream",
     "text": [
      "x = 1 , y = 1 \n",
      "x = 1 , y = 2 \n",
      "x = 1 , y = 3 \n",
      "x = 2 , y = 1 \n",
      "x = 2 , y = 2 \n",
      "x = 2 , y = 3 \n",
      "x = 3 , y = 1 \n",
      "x = 3 , y = 2 \n",
      "x = 3 , y = 3 \n"
     ]
    }
   ],
   "source": [
    "for(x in 1:3)\n",
    "{\n",
    "    for(y in 1:3)\n",
    "    {\n",
    "        cat(\"x =\", x, \", y =\", y, \"\\n\")\n",
    "    }\n",
    "}"
   ]
  },
  {
   "cell_type": "markdown",
   "id": "6765200f",
   "metadata": {},
   "source": [
    "If there is a single item in a loop we can omit the braces and produce the same output e.g."
   ]
  },
  {
   "cell_type": "code",
   "execution_count": 25,
   "id": "a67355c0",
   "metadata": {},
   "outputs": [
    {
     "name": "stdout",
     "output_type": "stream",
     "text": [
      "x = 1 , y = 1 \n",
      "x = 1 , y = 2 \n",
      "x = 1 , y = 3 \n",
      "x = 2 , y = 1 \n",
      "x = 2 , y = 2 \n",
      "x = 2 , y = 3 \n",
      "x = 3 , y = 1 \n",
      "x = 3 , y = 2 \n",
      "x = 3 , y = 3 \n"
     ]
    }
   ],
   "source": [
    "for(x in 1:3)\n",
    "    for(y in 1:3)\n",
    "        cat(\"x =\", x, \", y =\", y, \"\\n\")"
   ]
  },
  {
   "cell_type": "markdown",
   "id": "261ef546",
   "metadata": {
    "solution2": "hidden",
    "solution2_first": true
   },
   "source": [
    "<div class=\"alert alert-block alert-info\">\n",
    "<b>Task 3:</b>\n",
    "<br> \n",
    "    Using the <code>readline()</code> function for the maximum number of stars (<code>*</code>) and 2 nested (a loop inside a loop) loops. Output the following pattern: <br />\n",
    "*<br />\n",
    "* *<br />\n",
    "* * *<br />\n",
    "* * * *<br />\n",
    "The above pattern was produced with an input of <code>5</code>. Hint: you will need use the <code>cat</code> function to output the stars and to add a newline using <code>cat(\"\\n\")</code> after each line of stars.\n",
    "</div>"
   ]
  },
  {
   "cell_type": "code",
   "execution_count": 20,
   "id": "f44a9741",
   "metadata": {
    "solution2": "hidden"
   },
   "outputs": [
    {
     "name": "stdout",
     "output_type": "stream",
     "text": [
      "Enter number of stars:6\n",
      "* \n",
      "* * \n",
      "* * * \n",
      "* * * * \n",
      "* * * * * \n",
      "* * * * * * \n"
     ]
    }
   ],
   "source": [
    "num_stars <- as.integer(readline(prompt=\"Enter number of stars:\"))\n",
    "for(i in 1:num_stars){\n",
    "    for(j in 1:i)\n",
    "    {\n",
    "        cat(\"* \")\n",
    "    }\n",
    "    cat(\"\\n\")\n",
    "}"
   ]
  },
  {
   "cell_type": "code",
   "execution_count": null,
   "id": "ba56e7da",
   "metadata": {},
   "outputs": [],
   "source": []
  },
  {
   "cell_type": "markdown",
   "id": "f05040ef",
   "metadata": {},
   "source": [
    "<a id=\"while\"></a>\n",
    "#### 6.2 While loops"
   ]
  },
  {
   "cell_type": "markdown",
   "id": "c70dc127",
   "metadata": {},
   "source": [
    "Sometimes we don't want to loop through something or repeat something a set number of times (or we might not know how many times). Instead we sometimes want to keep looping until a certain condition is met. This is where we can use a different type of loop that works with the logical operators we saw earlier. Let's say we want to read in password from a user. To read input we can use the <code>readline()</code> function like so:"
   ]
  },
  {
   "cell_type": "code",
   "execution_count": 26,
   "id": "71f86d9b",
   "metadata": {},
   "outputs": [
    {
     "name": "stdout",
     "output_type": "stream",
     "text": [
      "Type something: hi\n"
     ]
    }
   ],
   "source": [
    "readline(prompt=\"Type something: \")"
   ]
  },
  {
   "cell_type": "markdown",
   "id": "c372e497",
   "metadata": {},
   "source": [
    "We might want to keep prompting a user for a login until they enter the correct login details. In this case when you run the code below it will keep prompting you to enter your username until you type in <code>letmein</code>. Give it a go. Try entering something else first before the required login."
   ]
  },
  {
   "cell_type": "code",
   "execution_count": 27,
   "id": "ebdd3c37",
   "metadata": {},
   "outputs": [
    {
     "name": "stdout",
     "output_type": "stream",
     "text": [
      "Enter username: hi\n",
      "Enter username: letmein\n"
     ]
    }
   ],
   "source": [
    "login <- \"\"\n",
    "while(login != \"letmein\")\n",
    "{\n",
    "    login = readline(prompt=\"Enter username: \")\n",
    "}"
   ]
  },
  {
   "cell_type": "markdown",
   "id": "bb6d13c6",
   "metadata": {},
   "source": [
    "Here we are saying keep repeating everything between the braces (<code>{}</code>) <code>while</code> (or as long as) the variable <code>login</code> does not equal (<code>!=</code>) the string <code>letmein</code>."
   ]
  },
  {
   "cell_type": "markdown",
   "id": "4853141d",
   "metadata": {},
   "source": [
    "<div class=\"alert alert-danger\">\n",
    "<b>Note:</b> You should use caution with <code>while</code> (and other) loops because you can inadvertently trap your code in an infinite loop if the exit condition is not met. This will cause your program to lock up and freeze.   \n",
    "</div>"
   ]
  },
  {
   "cell_type": "markdown",
   "id": "b8ef7882",
   "metadata": {},
   "source": [
    "<a id=\"apply\"></a>\n",
    "#### 6.3 Apply functions"
   ]
  },
  {
   "cell_type": "markdown",
   "id": "afee1c5a",
   "metadata": {},
   "source": [
    "There are a bunch of built in <code>apply</code> functions in R that can apply functions to various data structures such as matrices, lists, dataframes and so on. These include <code>apply()</code>, <code>lapply()</code>, <code>sapply()</code>, <code>vapply()</code>, <code>mapply()</code>, <code>rapply()</code>, and <code>tapply()</code>."
   ]
  },
  {
   "cell_type": "markdown",
   "id": "8e2b36ac",
   "metadata": {},
   "source": [
    "Let's look at a couple of example. First let's create a matrix with some values."
   ]
  },
  {
   "cell_type": "code",
   "execution_count": 28,
   "id": "196eb057",
   "metadata": {},
   "outputs": [],
   "source": [
    "M = matrix(c(2,4,2,1,6,2), nrow=2, ncol=3, byrow=TRUE)"
   ]
  },
  {
   "cell_type": "code",
   "execution_count": 30,
   "id": "24d80887",
   "metadata": {},
   "outputs": [
    {
     "name": "stdout",
     "output_type": "stream",
     "text": [
      "     [,1] [,2] [,3]\n",
      "[1,]    2    4    2\n",
      "[2,]    1    6    2\n"
     ]
    }
   ],
   "source": [
    "print(M)"
   ]
  },
  {
   "cell_type": "markdown",
   "id": "143d4881",
   "metadata": {},
   "source": [
    "If we wanted to sum the columns of the matrix we could use loops but this would be overly complex as the apply functions will take care of this kind of thing for us. The first parameter is the matrix <code>M</code>, the second is the <code>MARGIN</code> where a value of <code>1</code> is for rows and <code>2</code> is for columns. The final parameter is the function that we want to apply. In this case we use the built in <code>sum</code> function to sum by column. "
   ]
  },
  {
   "cell_type": "code",
   "execution_count": 31,
   "id": "0f8dd492",
   "metadata": {},
   "outputs": [
    {
     "data": {
      "text/html": [
       "<ol class=list-inline>\n",
       "\t<li>3</li>\n",
       "\t<li>10</li>\n",
       "\t<li>4</li>\n",
       "</ol>\n"
      ],
      "text/latex": [
       "\\begin{enumerate*}\n",
       "\\item 3\n",
       "\\item 10\n",
       "\\item 4\n",
       "\\end{enumerate*}\n"
      ],
      "text/markdown": [
       "1. 3\n",
       "2. 10\n",
       "3. 4\n",
       "\n",
       "\n"
      ],
      "text/plain": [
       "[1]  3 10  4"
      ]
     },
     "metadata": {},
     "output_type": "display_data"
    }
   ],
   "source": [
    "apply(M, 2, sum)"
   ]
  },
  {
   "cell_type": "markdown",
   "id": "a60fcb45",
   "metadata": {},
   "source": [
    "<div class=\"alert alert-success\">\n",
    "<b>Note:</b> For both rows and columns we can pass in <code>MARGIN=c(1,2)</code>.\n",
    "</div>"
   ]
  },
  {
   "cell_type": "markdown",
   "id": "3b9c1e9f",
   "metadata": {
    "solution2": "hidden",
    "solution2_first": true
   },
   "source": [
    "<div class=\"alert alert-block alert-info\">\n",
    "<b>Task 4:</b>\n",
    "<br> \n",
    "    Using <code>apply()</code> find the average value (<code>mean</code>) for each of the rows in <code>M</code>.\n",
    "</div>"
   ]
  },
  {
   "cell_type": "code",
   "execution_count": 32,
   "id": "96ac855f",
   "metadata": {
    "solution2": "hidden"
   },
   "outputs": [
    {
     "data": {
      "text/html": [
       "<ol class=list-inline>\n",
       "\t<li>2.66666666666667</li>\n",
       "\t<li>3</li>\n",
       "</ol>\n"
      ],
      "text/latex": [
       "\\begin{enumerate*}\n",
       "\\item 2.66666666666667\n",
       "\\item 3\n",
       "\\end{enumerate*}\n"
      ],
      "text/markdown": [
       "1. 2.66666666666667\n",
       "2. 3\n",
       "\n",
       "\n"
      ],
      "text/plain": [
       "[1] 2.666667 3.000000"
      ]
     },
     "metadata": {},
     "output_type": "display_data"
    }
   ],
   "source": [
    "apply(M, 1, mean)"
   ]
  },
  {
   "cell_type": "code",
   "execution_count": null,
   "id": "d6357c6e",
   "metadata": {},
   "outputs": [],
   "source": []
  },
  {
   "cell_type": "markdown",
   "id": "c9561c69",
   "metadata": {},
   "source": [
    "The <code>lapply</code> function can be applied to lists. In the example below we use to apply the <code>toupper</code> function that makes text upper case to all the items in the vector."
   ]
  },
  {
   "cell_type": "code",
   "execution_count": 33,
   "id": "c3378db8",
   "metadata": {},
   "outputs": [
    {
     "name": "stdout",
     "output_type": "stream",
     "text": [
      "[[1]]\n",
      "[1] \"DIABETES\"\n",
      "\n",
      "[[2]]\n",
      "[1] \"HEART FAILURE\"\n",
      "\n",
      "[[3]]\n",
      "[1] \"ANGINA\"\n",
      "\n",
      "[[4]]\n",
      "[1] \"STROKE\"\n",
      "\n"
     ]
    }
   ],
   "source": [
    "conditions <- c(\"Diabetes\", \"Heart failure\", \"Angina\", \"Stroke\")\n",
    "print(lapply(conditions, toupper))"
   ]
  },
  {
   "cell_type": "markdown",
   "id": "aa4fe54b",
   "metadata": {},
   "source": [
    "Whenever you want to do something to an entire data structure in R consider using the apply functions as this provides a quick and easy way of applying a function to each element of a structure without having to use complex looping."
   ]
  },
  {
   "cell_type": "markdown",
   "id": "fd39dad1",
   "metadata": {},
   "source": [
    "In the next notebook we will take a deeper look at functions. You have already been using a range of inbuilt functions for various purposes like <code>print()</code> to output messages, <code>length()</code> for the length of vectors and <code>subset()</code> to retrieve a subset of data from a data frame. We will look at how we can produce our own functions to break up tasks into smaller manageable and reusable chunks of code."
   ]
  },
  {
   "cell_type": "markdown",
   "id": "20b4955f",
   "metadata": {},
   "source": [
    "### Notebook details\n",
    "<br>\n",
    "<i>Notebook created by <strong>Dr. Alan Davies</strong>.\n",
    "<br>\n",
    "&copy; Alan Davies 2022"
   ]
  },
  {
   "cell_type": "markdown",
   "id": "c20efcdd",
   "metadata": {},
   "source": [
    "## Notes:"
   ]
  },
  {
   "cell_type": "code",
   "execution_count": null,
   "id": "2b9a982a",
   "metadata": {},
   "outputs": [],
   "source": []
  },
  {
   "cell_type": "code",
   "execution_count": null,
   "id": "151378ae",
   "metadata": {},
   "outputs": [],
   "source": []
  }
 ],
 "metadata": {
  "hide_input": false,
  "kernelspec": {
   "display_name": "Python 3 (ipykernel)",
   "language": "python",
   "name": "python3"
  },
  "language_info": {
   "codemirror_mode": {
    "name": "ipython",
    "version": 3
   },
   "file_extension": ".py",
   "mimetype": "text/x-python",
   "name": "python",
   "nbconvert_exporter": "python",
   "pygments_lexer": "ipython3",
   "version": "3.9.12"
  }
 },
 "nbformat": 4,
 "nbformat_minor": 5
}
