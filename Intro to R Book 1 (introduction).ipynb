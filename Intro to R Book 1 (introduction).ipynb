{
 "cells": [
  {
   "cell_type": "markdown",
   "id": "bdbc3b8b",
   "metadata": {},
   "source": [
    "<img src=\"./intro_images/MIE.PNG\" alt=\"notebook banner image\" width=\"100%\" align=\"left\" />"
   ]
  },
  {
   "cell_type": "markdown",
   "id": "8ee2e9d7",
   "metadata": {},
   "source": [
    "<table style=\"float:right;\">\n",
    "    <tr>\n",
    "        <td>                      \n",
    "            <div style=\"text-align: right\"><a href=\"https://alandavies.netlify.com\" target=\"_blank\">Dr Alan Davies</a></div>\n",
    "            <div style=\"text-align: right\">Senior Lecturer Health Data Science</div>\n",
    "            <div style=\"text-align: right\">University of Manchester</div>\n",
    "         </td>\n",
    "         <td>\n",
    "             <img src=\"./intro_images/alan.PNG\" alt=\"Alan Davies photo\" width=\"30%\" />\n",
    "         </td>\n",
    "     </tr>\n",
    "</table>"
   ]
  },
  {
   "cell_type": "markdown",
   "id": "2757576b",
   "metadata": {},
   "source": [
    "# 1.0 Introduction to programming with R\n",
    "****"
   ]
  },
  {
   "cell_type": "markdown",
   "id": "fd068655",
   "metadata": {},
   "source": [
    "#### About this Notebook\n",
    "This notebook introduces the <code>R</code> programming language and the <code>Jupyter</code> notebook environment."
   ]
  },
  {
   "cell_type": "markdown",
   "id": "47c30e46",
   "metadata": {},
   "source": [
    "<div class=\"alert alert-block alert-warning\"><b>Learning Objectives:</b> \n",
    "<br/> At the end of this notebook you will be able to:\n",
    "    \n",
    "- Run code in the notebook environment\n",
    "\n",
    "- Know where to go to find answers to coding questions\n",
    "\n",
    "</div> "
   ]
  },
  {
   "cell_type": "markdown",
   "id": "ef979a5a",
   "metadata": {},
   "source": [
    "<a id=\"top\"></a>\n",
    "\n",
    "<b>Table of contents</b><br>\n",
    "\n",
    "1.0 [Jupyter notebooks](#jupyter)<br>\n",
    "2.0 [Learning to code](#learning)<br>\n",
    "3.0 [Getting help](#gettinghelp)"
   ]
  },
  {
   "cell_type": "markdown",
   "id": "931b422c",
   "metadata": {},
   "source": [
    "<a id=\"jupyter\"></a>\n",
    "#### 1.0 Jupyter notebooks"
   ]
  },
  {
   "cell_type": "markdown",
   "id": "fe84e1d2",
   "metadata": {},
   "source": [
    "This series of notebooks contains details about how to program with R. Take your time to read through them and have a go at answering the questions/tasks. The best way to learn to code is to learn by doing. "
   ]
  },
  {
   "cell_type": "markdown",
   "id": "7d61f4e3",
   "metadata": {},
   "source": [
    "We use several conventions used in the notebooks. Code snippets and keywords/new terms are displayed using <code>this</code> format. Each notebook is numbered and contains sub-headings that can be jumped to by clicking on the heading in the table of contents. Each notebook also starts by outlining the purpose of the book."
   ]
  },
  {
   "cell_type": "markdown",
   "id": "e02759d1",
   "metadata": {},
   "source": [
    "<div class=\"alert alert-block alert-warning\">\n",
    "Learning objectives are displayed in the yellow box.\n",
    "</div> "
   ]
  },
  {
   "cell_type": "markdown",
   "id": "3a95f65c",
   "metadata": {},
   "source": [
    "<div class=\"alert alert-success\">\n",
    "Green boxes are for notes and extra information. Something that might be interesting or provide additional context/information about a topic.\n",
    "</div>"
   ]
  },
  {
   "cell_type": "markdown",
   "id": "d5f7e447",
   "metadata": {},
   "source": [
    "<div class=\"alert alert-danger\">\n",
    "Red boxes are for important points that you should pay attention to. \n",
    "</div>"
   ]
  },
  {
   "cell_type": "markdown",
   "id": "03a03280",
   "metadata": {},
   "source": [
    "<div class=\"alert alert-block alert-info\">\n",
    "Blue boxes are for tasks. Most tasks are followed by an empty code cell or cells for you to attempt a solution to the task. Many tasks also have a <b>show solution</b> button that shows and hides the model answer. Don't worry if your solution is not exactly the same as ours. There are usually multiple ways to solve the same problem.\n",
    "</div>"
   ]
  },
  {
   "cell_type": "markdown",
   "id": "1a0310fd",
   "metadata": {},
   "source": [
    "<a id=\"learning\"></a>\n",
    "#### 2.0 Learning to code"
   ]
  },
  {
   "cell_type": "markdown",
   "id": "2b37825e",
   "metadata": {},
   "source": [
    "Learning to code is an emotional journey. There will be ups and downs. It is also important that you have realistic expectations. I will share two analogies with you to give some context. Learning to code is like learning to play an instrument like the guitar. We can show you what a guitar looks like, what notes the strings represent and teach you a few chords. By the end you could play a few simple tunes. You will certainly not be <a href=\"https://en.wikipedia.org/wiki/Jimi_Hendrix\" target=\"_blank\">Jimi Hendrix</a>. You would need to spend a lot of time practicing and developing these skills in your own time outside of lessons. Another analogy is something like carpentry. We can show you the tool kit (hammer, saw, plane etc.), we can explain how the tools work and show you with examples some of the things you can do with those tools. But again we can't show you all the possible combinations of things you could make with them. This is something you will experience over time and by working on different projects. Programming is as much an art as it is a science. "
   ]
  },
  {
   "cell_type": "markdown",
   "id": "2c66339b",
   "metadata": {},
   "source": [
    "The notebook lets us present you with text, images, videos and other interactive elements all in one place. Green boxes contain additional notes or extra information. The code cells allow you to input and run R code. The blue boxes represent exercises. You can click on the <code>Show solution</code> button under an exercise to show or hide the suggested solution. To run a cell hold the <code>shift</code> key and press the <code>enter</code> button at the same time <code>shift + enter</code>."
   ]
  },
  {
   "cell_type": "markdown",
   "id": "3db4cf41",
   "metadata": {},
   "source": [
    "****"
   ]
  },
  {
   "cell_type": "markdown",
   "id": "a570b9a5",
   "metadata": {},
   "source": [
    "Some information about R:\n",
    "<ul>\n",
    "<li>Developed by Guido Van Rossum in 1991</li>\n",
    "<li>Named after Monty Python (English comedians)</li>\n",
    "<li>Supports multiple programming paradigms</li>\n",
    "<li>Is open source (free)</li>\n",
    "<li>Programs are platform independent</li>\n",
    "<li>Often referred to as a ‘glue’ language</li>\n",
    "<li>One of the most popular languages for data science</li>\n",
    "</ul>"
   ]
  },
  {
   "cell_type": "markdown",
   "id": "3561aac3",
   "metadata": {},
   "source": [
    "<div class=\"alert alert-block alert-info\">\n",
    "<b>Task 1:</b>\n",
    "<br> \n",
    "Let's run our very first R program to display the classic <code>Hello world</code> message on the screen. To do this select (click on) the cell below and hold the <code>SHIFT</code> key and press the <code>ENTER</code> key at the same time. Alternatively click on the <code>run cell</code> button on the menu above. You should see <code>Hello world</code> displayed under the cell.\n",
    "</div>"
   ]
  },
  {
   "cell_type": "code",
   "execution_count": 3,
   "id": "e8352388",
   "metadata": {},
   "outputs": [
    {
     "name": "stdout",
     "output_type": "stream",
     "text": [
      "[1] \"Hello world\"\n"
     ]
    }
   ],
   "source": [
    "print(\"Hello world\")"
   ]
  },
  {
   "cell_type": "markdown",
   "id": "987410a0",
   "metadata": {},
   "source": [
    "<div class=\"alert alert-danger\">\n",
    "<b>Note:</b> You should run every cell in the notebook. Sometimes a cell will require that a previous cell or cells have been run first.\n",
    "</div>"
   ]
  },
  {
   "cell_type": "markdown",
   "id": "137f7320",
   "metadata": {
    "solution2": "hidden",
    "solution2_first": true
   },
   "source": [
    "<div class=\"alert alert-block alert-info\">\n",
    "<b>Task 2:</b>\n",
    "<br> \n",
    "1. Write the line of code that outputs \"Hello world\" above again in the cell below but this time change it to say <code>Hello R</code><br />\n",
    "2. Run the cell and view the output.<br />\n",
    "3. Click on <code>Show solution</code> and compare your answer.\n",
    "</div>"
   ]
  },
  {
   "cell_type": "code",
   "execution_count": 4,
   "id": "9f6f48cf",
   "metadata": {
    "solution2": "hidden"
   },
   "outputs": [
    {
     "name": "stdout",
     "output_type": "stream",
     "text": [
      "[1] \"Hello R\"\n"
     ]
    }
   ],
   "source": [
    "print(\"Hello R\")"
   ]
  },
  {
   "cell_type": "code",
   "execution_count": null,
   "id": "4d49fe3d",
   "metadata": {},
   "outputs": [],
   "source": []
  },
  {
   "cell_type": "markdown",
   "id": "80140781",
   "metadata": {},
   "source": [
    "<a id=\"gettinghelp\"></a>\n",
    "#### 3.0 Getting help"
   ]
  },
  {
   "cell_type": "markdown",
   "id": "8a2d27ce",
   "metadata": {},
   "source": [
    "When learning to code you may run into problems when trying to solve problems. A lot of coding (programming) involves problem solving. There are often many different ways of solving a problem. Even seasoned software engineers have to look things up all the time. One way to do this is to do an internet search for the problem you are trying to solve. One useful resource is <code>Stack overflow</code> that answers many programming questions. You can post your own questions too but usually someone has already asked a similar question before. People vote on the answers."
   ]
  },
  {
   "cell_type": "markdown",
   "id": "ba70fa8d",
   "metadata": {},
   "source": [
    "<img src=\"./intro_images/overflow.PNG\" alt=\"A screen shot of Stack overflow page\" width=\"100%\" />"
   ]
  },
  {
   "cell_type": "markdown",
   "id": "2144a667",
   "metadata": {},
   "source": [
    "One of the most difficult aspects of this is knowing what to ask. Over time you will learn the best way to phrase your questions. You can also find answers to questions very similar to your own that you can modify for your own purposes. You can find Stack Overflow here <a href=\"https://stackoverflow.com/\" target=\"_blank\">https://stackoverflow.com/</a>. Other useful resources include the R projects official website <a href=\"https://www.r-project.org/\" target=\"_blank\">www.r-project.org/</a>."
   ]
  },
  {
   "cell_type": "markdown",
   "id": "580c778b",
   "metadata": {},
   "source": [
    "You have completed the first notebook. Go to the next book in the sequence to learn about <code>variables</code>."
   ]
  },
  {
   "cell_type": "markdown",
   "id": "20453839",
   "metadata": {},
   "source": [
    "### Notebook details\n",
    "<br>\n",
    "<i>Notebook created by <strong>Dr. Alan Davies</strong>.\n",
    "<br>\n",
    "&copy; Alan Davies 2022"
   ]
  },
  {
   "cell_type": "markdown",
   "id": "a0178838",
   "metadata": {},
   "source": [
    "## Notes:"
   ]
  },
  {
   "cell_type": "code",
   "execution_count": null,
   "id": "bd5fdea8",
   "metadata": {},
   "outputs": [],
   "source": []
  },
  {
   "cell_type": "code",
   "execution_count": null,
   "id": "23dccd56",
   "metadata": {},
   "outputs": [],
   "source": []
  }
 ],
 "metadata": {
  "hide_input": false,
  "kernelspec": {
   "display_name": "Python 3 (ipykernel)",
   "language": "python",
   "name": "python3"
  },
  "language_info": {
   "codemirror_mode": {
    "name": "ipython",
    "version": 3
   },
   "file_extension": ".py",
   "mimetype": "text/x-python",
   "name": "python",
   "nbconvert_exporter": "python",
   "pygments_lexer": "ipython3",
   "version": "3.9.12"
  }
 },
 "nbformat": 4,
 "nbformat_minor": 5
}
