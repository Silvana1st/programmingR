{
 "cells": [
  {
   "cell_type": "markdown",
   "id": "9f4496ad",
   "metadata": {},
   "source": [
    "<img src=\"./intro_images/MIE.PNG\" alt=\"notebook banner image\" width=\"100%\" align=\"left\" />"
   ]
  },
  {
   "cell_type": "markdown",
   "id": "a4b76ad6",
   "metadata": {},
   "source": [
    "<table style=\"float:right;\">\n",
    "    <tr>\n",
    "        <td>                      \n",
    "            <div style=\"text-align: right\"><a href=\"https://alandavies.netlify.com\" target=\"_blank\">Dr Alan Davies</a></div>\n",
    "            <div style=\"text-align: right\">Senior Lecturer Health Data Science</div>\n",
    "            <div style=\"text-align: right\">University of Manchester</div>\n",
    "         </td>\n",
    "         <td>\n",
    "             <img src=\"./intro_images/alan.PNG\" alt=\"Alan Davies photo\" width=\"30%\" />\n",
    "         </td>\n",
    "     </tr>\n",
    "</table>"
   ]
  },
  {
   "cell_type": "markdown",
   "id": "f0bea5c1",
   "metadata": {},
   "source": [
    "# 3.0 Comments and keywords\n",
    "****"
   ]
  },
  {
   "cell_type": "markdown",
   "id": "0a62039b",
   "metadata": {},
   "source": [
    "#### About this Notebook\n",
    "This notebook introduces the <code>keywords</code> that can be used in R programs and how we can document code using <code>comments</code>."
   ]
  },
  {
   "cell_type": "markdown",
   "id": "f0abb9da",
   "metadata": {},
   "source": [
    "<div class=\"alert alert-block alert-warning\"><b>Learning Objectives:</b> \n",
    "<br/> At the end of this notebook you will be able to:\n",
    "    \n",
    "- Investigate key features of documenting code with both single and multi-line comments\n",
    "\n",
    "- Explore the keywords available in R and how to find out information about them\n",
    "\n",
    "</div> "
   ]
  },
  {
   "cell_type": "markdown",
   "id": "b95a7960",
   "metadata": {},
   "source": [
    "<a id=\"top\"></a>\n",
    "\n",
    "<b>Table of contents</b><br>\n",
    "\n",
    "3.1 [Comments](#comments)\n",
    "\n",
    "3.2 [Keywords](#keywords)"
   ]
  },
  {
   "cell_type": "markdown",
   "id": "aa4be90f",
   "metadata": {},
   "source": [
    "<a id=\"comments\"></a>\n",
    "#### 3.1 Comments"
   ]
  },
  {
   "cell_type": "markdown",
   "id": "1e1ea779",
   "metadata": {},
   "source": [
    "Comments are essentially text that are added to source code that are not executed (so they are ignored by a complier or interpreter). The purpose of this is for documentation of code. This can be to aid yourself and others to understand what a particular bit of code does. In R this can be done several ways. Short comments are made using the hash <code>#</code>."
   ]
  },
  {
   "cell_type": "code",
   "execution_count": 1,
   "id": "edeb439f",
   "metadata": {},
   "outputs": [
    {
     "name": "stdout",
     "output_type": "stream",
     "text": [
      "[1] \"This is some code.\"\n"
     ]
    }
   ],
   "source": [
    "# This is a comment and is ignored by the interpreter\n",
    "print(\"This is some code.\")"
   ]
  },
  {
   "cell_type": "markdown",
   "id": "5ec4b368",
   "metadata": {},
   "source": [
    "Here we can see the output of the print function but not the text above which is ignored by R Sometimes you will see comments on the same line as code i.e."
   ]
  },
  {
   "cell_type": "code",
   "execution_count": 2,
   "id": "e739ebbc",
   "metadata": {},
   "outputs": [],
   "source": [
    "x <- 10     # the number of runs\n",
    "y <- 7.4    # the magnitude\n",
    "C <- 4.2    # the constant value"
   ]
  },
  {
   "cell_type": "markdown",
   "id": "d861e054",
   "metadata": {},
   "source": [
    "R does not support multi-line comments like some other languages such as Python. "
   ]
  },
  {
   "cell_type": "markdown",
   "id": "f77ba99d",
   "metadata": {},
   "source": [
    "<img src=\"./intro_images/views.PNG\" width=\"70%\" />"
   ]
  },
  {
   "cell_type": "markdown",
   "id": "a7b87d03",
   "metadata": {},
   "source": [
    "The image above shows some example code from a R program. The comments are being used to give some details of the file, author, the date made and a description of what the program does. Adding too many comments to code can make it difficult to read. With descriptive variable names it should be fairly obvious what is happening. You might want to use comments for very tricky bits of code where things are not obvious, or to describe the purpose of a file or function. Consider the variables below and why well named variables can be as useful as a comment or even replace the need for many comments."
   ]
  },
  {
   "cell_type": "code",
   "execution_count": 4,
   "id": "9720c005",
   "metadata": {},
   "outputs": [],
   "source": [
    "year_of_bith <- 1978\n",
    "number_of_times_accessed <- 5\n",
    "username <- \"myusername69!\""
   ]
  },
  {
   "cell_type": "markdown",
   "id": "679a12a1",
   "metadata": {},
   "source": [
    "These variable names are more intuitive than those below which require the use of comments to make sense of what they represent:"
   ]
  },
  {
   "cell_type": "code",
   "execution_count": 5,
   "id": "34e9d240",
   "metadata": {},
   "outputs": [],
   "source": [
    "yob <- 1978             # year of birth\n",
    "num_accessed <- 5       # the number of times accessed \n",
    "un <- \"myusername69!\"   # username "
   ]
  },
  {
   "cell_type": "markdown",
   "id": "280ab5ae",
   "metadata": {},
   "source": [
    "Remember that unlike math notation, in programing we can be more expressive with our variable names to aid readability. This also helps if you come back to a program that you haven't worked on for a while and need to remember how it works."
   ]
  },
  {
   "cell_type": "markdown",
   "id": "16f449a4",
   "metadata": {
    "solution2": "hidden",
    "solution2_first": true
   },
   "source": [
    "<div class=\"alert alert-block alert-info\">\n",
    "<b>Task 1:</b>\n",
    "<br> \n",
    "Can you think of any other uses for comments apart from documentation of code?\n",
    "</div>"
   ]
  },
  {
   "cell_type": "markdown",
   "id": "c11af2d8",
   "metadata": {
    "solution2": "hidden"
   },
   "source": [
    "Sometimes people use comments to comment out code to prevent a portion of code running while they are developing it. It isn't good practice to keep sections of commented out code in your code base. Redundant code should always be removed."
   ]
  },
  {
   "cell_type": "markdown",
   "id": "d98b490b",
   "metadata": {},
   "source": [
    "<a id=\"keywords\"></a>\n",
    "#### 3.2 Keywords"
   ]
  },
  {
   "cell_type": "markdown",
   "id": "0a9f1ade",
   "metadata": {},
   "source": [
    "As mentioned previously there are several reserved words called <code>keywords</code> that R reserves for use. A variable name must NOT be the same as one of these keywords. To see what these keywords are, type <code>help(reserved)</code> into the cell below."
   ]
  },
  {
   "cell_type": "code",
   "execution_count": null,
   "id": "f47ad0be",
   "metadata": {},
   "outputs": [],
   "source": []
  },
  {
   "cell_type": "markdown",
   "id": "f61a427d",
   "metadata": {},
   "source": [
    "<div class=\"alert alert-success\">\n",
    "<b>Note:</b> This is the <code>help()</code> function and you can use it to find out how functions and keywords work in R. For example if you type <code>help('for')</code> you will see information about the <code>for</code> statement.  \n",
    "</div>"
   ]
  },
  {
   "cell_type": "markdown",
   "id": "aea36881",
   "metadata": {},
   "source": [
    "In fact the <code>help</code> function can be used for things other than just keywords.  "
   ]
  },
  {
   "cell_type": "markdown",
   "id": "49928125",
   "metadata": {
    "solution2": "hidden",
    "solution2_first": true
   },
   "source": [
    "<div class=\"alert alert-block alert-info\">\n",
    "<b>Task 2:</b>\n",
    "<br> \n",
    "Try using the <code>help()</code> function to get help about the <code>print()</code> function.\n",
    "</div>"
   ]
  },
  {
   "cell_type": "code",
   "execution_count": 8,
   "id": "b0e84679",
   "metadata": {
    "solution2": "hidden"
   },
   "outputs": [],
   "source": [
    "help(print)"
   ]
  },
  {
   "cell_type": "code",
   "execution_count": null,
   "id": "675b2500",
   "metadata": {},
   "outputs": [],
   "source": []
  },
  {
   "cell_type": "markdown",
   "id": "591e1107",
   "metadata": {},
   "source": [
    "In the next notebook we will look at <code>operators</code> and <code>selection</code> which are used to carry out computations and make choices in terms of which code is executed based on certain conditions being met."
   ]
  },
  {
   "cell_type": "markdown",
   "id": "2c3374ae",
   "metadata": {},
   "source": [
    "### Notebook details\n",
    "<br>\n",
    "<i>Notebook created by <strong>Dr. Alan Davies</strong>.\n",
    "<br>\n",
    "&copy; Alan Davies 2022"
   ]
  },
  {
   "cell_type": "markdown",
   "id": "22d68427",
   "metadata": {},
   "source": [
    "## Notes:"
   ]
  },
  {
   "cell_type": "code",
   "execution_count": null,
   "id": "46322506",
   "metadata": {},
   "outputs": [],
   "source": []
  },
  {
   "cell_type": "code",
   "execution_count": null,
   "id": "87b798e3",
   "metadata": {},
   "outputs": [],
   "source": []
  },
  {
   "cell_type": "code",
   "execution_count": null,
   "id": "937bf729",
   "metadata": {},
   "outputs": [],
   "source": []
  }
 ],
 "metadata": {
  "hide_input": false,
  "kernelspec": {
   "display_name": "Python 3 (ipykernel)",
   "language": "python",
   "name": "python3"
  },
  "language_info": {
   "codemirror_mode": {
    "name": "ipython",
    "version": 3
   },
   "file_extension": ".py",
   "mimetype": "text/x-python",
   "name": "python",
   "nbconvert_exporter": "python",
   "pygments_lexer": "ipython3",
   "version": "3.9.12"
  }
 },
 "nbformat": 4,
 "nbformat_minor": 5
}
