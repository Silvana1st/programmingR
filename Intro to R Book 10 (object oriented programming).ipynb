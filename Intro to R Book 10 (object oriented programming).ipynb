{
 "cells": [
  {
   "cell_type": "markdown",
   "id": "995ee3e1",
   "metadata": {},
   "source": [
    "<img src=\"./intro_images/MIE.PNG\" alt=\"pretty banner\" alt=\"notebook banner image\" width=\"100%\" align=\"left\" />"
   ]
  },
  {
   "cell_type": "markdown",
   "id": "cc9c30fc",
   "metadata": {},
   "source": [
    "<table style=\"float:right;\">\n",
    "    <tr>\n",
    "        <td>                      \n",
    "            <div style=\"text-align: right\"><a href=\"https://alandavies.netlify.com\" target=\"_blank\">Dr Alan Davies</a></div>\n",
    "            <div style=\"text-align: right\">Senior Lecturer Health Data Science</div>\n",
    "            <div style=\"text-align: right\">University of Manchester</div>\n",
    "         </td>\n",
    "         <td>\n",
    "             <img src=\"./intro_images/alan.PNG\" alt=\"Alan Davies Photo\" width=\"30%\" />\n",
    "         </td>\n",
    "     </tr>\n",
    "</table>"
   ]
  },
  {
   "cell_type": "markdown",
   "id": "cb9007e7",
   "metadata": {},
   "source": [
    "# 10.0 Object oriented programming\n",
    "****"
   ]
  },
  {
   "cell_type": "markdown",
   "id": "988faf68",
   "metadata": {},
   "source": [
    "#### About this Notebook\n",
    "This notebook introduces the Object Oriented Programming (OOP) paradigm in R. This allows us to encapsulate variables, functions and other data structures in a single overarching reusable data structure that can model real world objects."
   ]
  },
  {
   "cell_type": "markdown",
   "id": "e9581d4b",
   "metadata": {},
   "source": [
    "<div class=\"alert alert-block alert-warning\"><b>Learning Objectives:</b> \n",
    "<br/> At the end of this notebook you will be able to:\n",
    "    \n",
    "- Investigate key features of OOP represented in R\n",
    "\n",
    "- Practice creating classes and objects using R \n",
    "\n",
    "</div> "
   ]
  },
  {
   "cell_type": "markdown",
   "id": "2c982d2a",
   "metadata": {},
   "source": [
    "R also supports the <code>Object Orientated Programming</code> (OOP) paradigm. This is essentially a way of storing multiple functions and variables that are in some way semantically related together in an overarching data structure. "
   ]
  },
  {
   "cell_type": "markdown",
   "id": "2b1b89f2",
   "metadata": {},
   "source": [
    "Consider building a system that could model health interactions. We could create <code>objects</code> to represent the key elements of this system such as doctors, nurses and patients. To do this we can design a <code>class</code> for each of these that <code>encapsulates</code> various functions (called <code>methods</code>) and variables (<code>attributes</code>). Let's start by building a basic class for a doctor."
   ]
  },
  {
   "cell_type": "markdown",
   "id": "e73769dd",
   "metadata": {},
   "source": [
    "In R there are actually several ways of creating classes called <code>s3</code> and <code>s4</code>. S3 classes don't have a predefined definition whereas S4 classes do. Let's start by taking a look at making our doctor class using S3."
   ]
  },
  {
   "cell_type": "code",
   "execution_count": 1,
   "id": "c6039ca8",
   "metadata": {},
   "outputs": [
    {
     "data": {
      "text/plain": [
       "$name\n",
       "[1] \"Sandra Clark\"\n",
       "\n",
       "$role\n",
       "[1] \"Cardiac consultant\"\n",
       "\n",
       "$patients_processed\n",
       "[1] 0\n",
       "\n",
       "attr(,\"class\")\n",
       "[1] \"Consultant\""
      ]
     },
     "metadata": {},
     "output_type": "display_data"
    }
   ],
   "source": [
    "Doctor <- list(name=\"Sandra Clark\", role=\"Cardiac consultant\", patients_processed=0)\n",
    "class(Doctor) <- \"Consultant\"\n",
    "Doctor"
   ]
  },
  {
   "cell_type": "markdown",
   "id": "8de7af29",
   "metadata": {},
   "source": [
    "This basic class takes some parameters for the type of doctor, their name and number of patients they have processed and stores these in variables inside the class using a list. "
   ]
  },
  {
   "cell_type": "markdown",
   "id": "230d2e23",
   "metadata": {},
   "source": [
    "<div class=\"alert alert-success\">\n",
    "<b>Note:</b> Class names tend to start with capital letters to distinguish them from other variables and functions. \n",
    "</div>"
   ]
  },
  {
   "cell_type": "markdown",
   "id": "bde7d1b1",
   "metadata": {},
   "source": [
    "We can associate functions called <code>methods</code> in OOP terminology with the class. Let's make a function called <code>admit_patient</code> that will deal with admitting patients. We will use a simple message but in reality this could represent many lines of code. We create the function in a similar way to how we ave previously but using <code>UseMethod</code> this is a simple generic function mechanism that can be used for OOP."
   ]
  },
  {
   "cell_type": "code",
   "execution_count": 2,
   "id": "51d68f1f",
   "metadata": {},
   "outputs": [],
   "source": [
    "admit_patient <- function(object, patient)\n",
    "{\n",
    "   UseMethod(\"admit_patient\") \n",
    "}"
   ]
  },
  {
   "cell_type": "markdown",
   "id": "6e8718b4",
   "metadata": {},
   "source": [
    "Now we have taken care of the message dispatch we can create the function. Here we output the name of the doctor and the patient that will be admitted. To access variables in the class we use the dollar sign <code>$</code>."
   ]
  },
  {
   "cell_type": "code",
   "execution_count": 3,
   "id": "66228297",
   "metadata": {},
   "outputs": [],
   "source": [
    "admit_patient.Consultant <- function(object, patient)\n",
    "{\n",
    "    cat(object$name, \"will admit patient\", patient)\n",
    "}"
   ]
  },
  {
   "cell_type": "markdown",
   "id": "86a2f551",
   "metadata": {},
   "source": [
    "Finally, we can use the function as shown here."
   ]
  },
  {
   "cell_type": "code",
   "execution_count": 4,
   "id": "80ab8d15",
   "metadata": {},
   "outputs": [
    {
     "name": "stdout",
     "output_type": "stream",
     "text": [
      "Sandra Clark will admit patient Alan Davies"
     ]
    }
   ],
   "source": [
    "admit_patient(Doctor, \"Alan Davies\")"
   ]
  },
  {
   "cell_type": "markdown",
   "id": "03294060",
   "metadata": {},
   "source": [
    "<div class=\"alert alert-success\">\n",
    "<b>Note:</b> R uses generic function OOP unlike the encapsulated OOP that many other programming languages use. \n",
    "</div>"
   ]
  },
  {
   "cell_type": "markdown",
   "id": "2dd7e0a3",
   "metadata": {},
   "source": [
    "The S4 method provides a more structured way of creating a class with a more rigid definition and is suited to building larger systems. \n",
    "****"
   ]
  },
  {
   "cell_type": "markdown",
   "id": "7c504ece",
   "metadata": {},
   "source": [
    "Here we use <code>setClass</code> to define a 'doctor' class. Instead of using attributes like other systems, R uses <code>slots</code> to define class attributes. Here we added a name for the doctor, their role and number of patients processed. We also define the data type for these slot variables (e.g. character for text and numeric for numbers etc.). We can also define initial values for these variables as well. In this case the <code>name</code> is empty, <code>role</code> is <code>Medical Doctor</code> by default and <code>patients_processed</code> is <code>0</code>."
   ]
  },
  {
   "cell_type": "code",
   "execution_count": 5,
   "id": "01304ae2",
   "metadata": {},
   "outputs": [],
   "source": [
    "Doctor <- setClass(\n",
    "    # name of class\n",
    "    \"Doctor\",\n",
    "    # slot definitions \n",
    "    slots = c(\n",
    "        name = \"character\",\n",
    "        role = \"character\",\n",
    "        patients_processed = \"numeric\"\n",
    "    ),\n",
    "    # default slot values\n",
    "    prototype = list(\n",
    "        name = \"\",\n",
    "        role = \"Medical Doctor\",\n",
    "        patients_processed = 0\n",
    "    )\n",
    ")"
   ]
  },
  {
   "cell_type": "markdown",
   "id": "96fee950",
   "metadata": {},
   "source": [
    "Next we need to define the methods (functions) we want to add to the class with <code>setGeneric</code> and <code>standardGeneric</code>. Here we are going to add three methods <code>admit_patient</code>, <code>diagnose_patient</code> and <code>discharge_patient</code>."
   ]
  },
  {
   "cell_type": "code",
   "execution_count": 55,
   "id": "24a4b83d",
   "metadata": {},
   "outputs": [
    {
     "data": {
      "text/html": [
       "'admit_patient'"
      ],
      "text/latex": [
       "'admit\\_patient'"
      ],
      "text/markdown": [
       "'admit_patient'"
      ],
      "text/plain": [
       "[1] \"admit_patient\""
      ]
     },
     "metadata": {},
     "output_type": "display_data"
    },
    {
     "data": {
      "text/html": [
       "'diagnose_patient'"
      ],
      "text/latex": [
       "'diagnose\\_patient'"
      ],
      "text/markdown": [
       "'diagnose_patient'"
      ],
      "text/plain": [
       "[1] \"diagnose_patient\""
      ]
     },
     "metadata": {},
     "output_type": "display_data"
    },
    {
     "data": {
      "text/html": [
       "'discharge_patient'"
      ],
      "text/latex": [
       "'discharge\\_patient'"
      ],
      "text/markdown": [
       "'discharge_patient'"
      ],
      "text/plain": [
       "[1] \"discharge_patient\""
      ]
     },
     "metadata": {},
     "output_type": "display_data"
    }
   ],
   "source": [
    "setGeneric(\"admit_patient\", function(object, patient) standardGeneric(\"admit_patient\"))\n",
    "setGeneric(\"diagnose_patient\", function(object, patient) standardGeneric(\"diagnose_patient\"))\n",
    "setGeneric(\"discharge_patient\", function(object, patient) standardGeneric(\"discharge_patient\"))"
   ]
  },
  {
   "cell_type": "markdown",
   "id": "32f31980",
   "metadata": {},
   "source": [
    "Next we use <code>setMethod</code> to create the actual methods. In this case they just display a simple message. We can reference the slots using the at symbol <code>@</code>."
   ]
  },
  {
   "cell_type": "code",
   "execution_count": 59,
   "id": "d2e918c9",
   "metadata": {},
   "outputs": [],
   "source": [
    "setMethod(\"admit_patient\", \"Doctor\",\n",
    "    function(object, patient)\n",
    "    {\n",
    "        cat(\"\\n\", object@name, \"will admit patient\", patient)\n",
    "    }\n",
    ")\n",
    "setMethod(\"diagnose_patient\", \"Doctor\",\n",
    "    function(object, patient)\n",
    "    {\n",
    "        cat(\"\\n\", object@name, \"will diagnose patient\", patient)\n",
    "    }\n",
    ")\n",
    "setMethod(\"discharge_patient\", \"Doctor\",\n",
    "    function(object, patient)\n",
    "    {\n",
    "        cat(\"\\n\", object@name, \"will discharge patient\", patient)\n",
    "    }\n",
    ")"
   ]
  },
  {
   "cell_type": "markdown",
   "id": "fa29ea60",
   "metadata": {},
   "source": [
    "Classes can be used to make multiple instances (objects). Each object has their own version of the classes data. To see this in practice we can create two instances of the 'doctor' class, one called <code>sandra</code> the other called <code>mike</code> that represent two different doctors. As you can see we can give them different names and roles. We can then call the methods for the two doctors like so:"
   ]
  },
  {
   "cell_type": "code",
   "execution_count": 60,
   "id": "bee006c4",
   "metadata": {},
   "outputs": [
    {
     "name": "stdout",
     "output_type": "stream",
     "text": [
      "\n",
      " Sandra Clark will admit patient Alan\n",
      " Sandra Clark will diagnose patient Alan\n",
      " Sandra Clark will discharge patient Alan\n",
      " Mike Smith will admit patient Jane\n",
      " Mike Smith will discharge patient Jane"
     ]
    }
   ],
   "source": [
    "sandra <- new(\"Doctor\", name=\"Sandra Clark\", role=\"Cardiac consultant\")\n",
    "mike <- new(\"Doctor\", name=\"Mike Smith\", role=\"Respiratory F1\")\n",
    "\n",
    "admit_patient(sandra, \"Alan\")\n",
    "diagnose_patient(sandra, \"Alan\")\n",
    "discharge_patient(sandra, \"Alan\")\n",
    "\n",
    "admit_patient(mike, \"Jane\")\n",
    "discharge_patient(mike, \"Jane\")"
   ]
  },
  {
   "cell_type": "markdown",
   "id": "e51a3625",
   "metadata": {
    "solution2": "hidden",
    "solution2_first": true
   },
   "source": [
    "<div class=\"alert alert-block alert-info\">\n",
    "<b>Task 1:</b>\n",
    "<br> \n",
    "1. Write a method in the class called <code>current_role</code> that outputs the doctors role.<br />\n",
    "2. Create a new doctor instance called <code>mary</code> and call the new method.<br />\n",
    "3. Make Mary a <code>nephrologist</code> (kidney doctor)\n",
    "</div>"
   ]
  },
  {
   "cell_type": "code",
   "execution_count": 68,
   "id": "ffb7d5e2",
   "metadata": {
    "solution2": "hidden"
   },
   "outputs": [
    {
     "data": {
      "text/html": [
       "'current_role'"
      ],
      "text/latex": [
       "'current\\_role'"
      ],
      "text/markdown": [
       "'current_role'"
      ],
      "text/plain": [
       "[1] \"current_role\""
      ]
     },
     "metadata": {},
     "output_type": "display_data"
    },
    {
     "name": "stdout",
     "output_type": "stream",
     "text": [
      "\n",
      "Doctors role: Nephrologist"
     ]
    }
   ],
   "source": [
    "setGeneric(\"current_role\", function(object, patient) standardGeneric(\"current_role\"))\n",
    "           \n",
    "setMethod(\"current_role\", \"Doctor\",\n",
    "    function(object)\n",
    "    {\n",
    "        cat(\"\\nDoctors role:\", object@role)\n",
    "    }\n",
    ")\n",
    "           \n",
    "mary <- new(\"Doctor\", name=\"Mary Smith\", role=\"Nephrologist\")\n",
    "current_role(mary)"
   ]
  },
  {
   "cell_type": "code",
   "execution_count": null,
   "id": "648225a8",
   "metadata": {},
   "outputs": [],
   "source": []
  },
  {
   "cell_type": "markdown",
   "id": "fe6adf4d",
   "metadata": {},
   "source": [
    "There are some other useful functions for working with classes and objects such as <code>getSlots</code> that returns the name of the slots and their associated data types."
   ]
  },
  {
   "cell_type": "code",
   "execution_count": 61,
   "id": "325db5c3",
   "metadata": {},
   "outputs": [
    {
     "data": {
      "text/html": [
       "<dl class=dl-horizontal>\n",
       "\t<dt>name</dt>\n",
       "\t\t<dd>'character'</dd>\n",
       "\t<dt>role</dt>\n",
       "\t\t<dd>'character'</dd>\n",
       "\t<dt>patients_processed</dt>\n",
       "\t\t<dd>'numeric'</dd>\n",
       "</dl>\n"
      ],
      "text/latex": [
       "\\begin{description*}\n",
       "\\item[name] 'character'\n",
       "\\item[role] 'character'\n",
       "\\item[patients\\textbackslash{}\\_processed] 'numeric'\n",
       "\\end{description*}\n"
      ],
      "text/markdown": [
       "name\n",
       ":   'character'role\n",
       ":   'character'patients_processed\n",
       ":   'numeric'\n",
       "\n"
      ],
      "text/plain": [
       "              name               role patients_processed \n",
       "       \"character\"        \"character\"          \"numeric\" "
      ]
     },
     "metadata": {},
     "output_type": "display_data"
    }
   ],
   "source": [
    "getSlots(\"Doctor\")"
   ]
  },
  {
   "cell_type": "markdown",
   "id": "6bfaba86",
   "metadata": {},
   "source": [
    "We can also see details of a class and its slots by passing an object to <code>getClass</code>."
   ]
  },
  {
   "cell_type": "code",
   "execution_count": 63,
   "id": "a378a423",
   "metadata": {},
   "outputs": [
    {
     "data": {
      "text/plain": [
       "An object of class \"Doctor\"\n",
       "Slot \"name\":\n",
       "[1] \"Sandra Clark\"\n",
       "\n",
       "Slot \"role\":\n",
       "[1] \"Cardiac consultant\"\n",
       "\n",
       "Slot \"patients_processed\":\n",
       "[1] 0\n"
      ]
     },
     "metadata": {},
     "output_type": "display_data"
    }
   ],
   "source": [
    "getClass(sandra)"
   ]
  },
  {
   "cell_type": "markdown",
   "id": "981a615e",
   "metadata": {},
   "source": [
    "Slots can be accessed using <code>slot</code> or with the <code>@</code> operator. "
   ]
  },
  {
   "cell_type": "code",
   "execution_count": 65,
   "id": "a46efdd2",
   "metadata": {},
   "outputs": [
    {
     "data": {
      "text/html": [
       "'Sandra Clark'"
      ],
      "text/latex": [
       "'Sandra Clark'"
      ],
      "text/markdown": [
       "'Sandra Clark'"
      ],
      "text/plain": [
       "[1] \"Sandra Clark\""
      ]
     },
     "metadata": {},
     "output_type": "display_data"
    }
   ],
   "source": [
    "slot(sandra, \"name\")"
   ]
  },
  {
   "cell_type": "code",
   "execution_count": 66,
   "id": "2503d823",
   "metadata": {},
   "outputs": [
    {
     "data": {
      "text/html": [
       "'Sandra Clark'"
      ],
      "text/latex": [
       "'Sandra Clark'"
      ],
      "text/markdown": [
       "'Sandra Clark'"
      ],
      "text/plain": [
       "[1] \"Sandra Clark\""
      ]
     },
     "metadata": {},
     "output_type": "display_data"
    }
   ],
   "source": [
    "sandra@name"
   ]
  },
  {
   "cell_type": "markdown",
   "id": "e74e00d1",
   "metadata": {},
   "source": [
    "<div class=\"alert alert-success\">\n",
    "    <b>Note:</b> You can update the contents of a slot using <code>slot</code> e.g. <code>slot(sandra, \"name\") &lt;- \"Sandra Smith\"</code>, or using <code>@</code> e.g. <code>sandra@name &lt;- \"Sandra Smith\"</code>.\n",
    "</div>"
   ]
  },
  {
   "cell_type": "markdown",
   "id": "d89b2e88",
   "metadata": {},
   "source": [
    "<div class=\"alert alert-danger\">\n",
    "    <b>Note:</b> It's considered bad practice to let users of your class directly update slots as this can lead to inconsistent data or errors. Instead you should create methods to <code>set</code> and <code>get</code> these values (often called setters and getters).\n",
    "</div>"
   ]
  },
  {
   "cell_type": "markdown",
   "id": "2d5b7d79",
   "metadata": {},
   "source": [
    "You can also check if an object is an S4 class or not with <code>isS4</code>."
   ]
  },
  {
   "cell_type": "code",
   "execution_count": 67,
   "id": "dcf5d7f0",
   "metadata": {},
   "outputs": [
    {
     "data": {
      "text/html": [
       "TRUE"
      ],
      "text/latex": [
       "TRUE"
      ],
      "text/markdown": [
       "TRUE"
      ],
      "text/plain": [
       "[1] TRUE"
      ]
     },
     "metadata": {},
     "output_type": "display_data"
    }
   ],
   "source": [
    "isS4(sandra)"
   ]
  },
  {
   "cell_type": "markdown",
   "id": "d5aba68e",
   "metadata": {},
   "source": [
    "Another way we can represent classes and design them/show interactions between them is by making a class diagram:"
   ]
  },
  {
   "cell_type": "markdown",
   "id": "51cee8fa",
   "metadata": {},
   "source": [
    "<img src=\"./intro_images/doctor.PNG\" width=\"500\" />"
   ]
  },
  {
   "cell_type": "markdown",
   "id": "ccd7977a",
   "metadata": {},
   "source": [
    "<div class=accessibility>\n",
    "<b>Accessibility:</b> The Doctor class diagram contains three attributes and six properties. The attributes are: name (String variable), role (String variable) and patient processes (Integer variable). The properties are constructor that calls name and role, admit patient, diagnose patient, discharge patient, process patient and number of times patient processed. \n",
    "</div>"
   ]
  },
  {
   "cell_type": "markdown",
   "id": "04d77479",
   "metadata": {},
   "source": [
    "The diagram shows the class name at the top followed by the attributes (slots) and what data type they represent. The next section shows the class methods and their inputs."
   ]
  },
  {
   "cell_type": "markdown",
   "id": "ce0073f6",
   "metadata": {},
   "source": [
    "<img src=\"./intro_images/class.PNG\" width=\"600\" />"
   ]
  },
  {
   "cell_type": "markdown",
   "id": "3c7c79b6",
   "metadata": {},
   "source": [
    "<i><strong>Davies and Mueller (2020)</strong> diagram showing several classes interacting</i>"
   ]
  },
  {
   "cell_type": "markdown",
   "id": "d63cb861",
   "metadata": {},
   "source": [
    "<div class=accessibility>\n",
    "<b>Accessibility:</b> The class digram has four classes. They are User, Patient, Carer and Symptom logger. User class is the parent class and its child classes are Patient and Carer. Each User has many Symptom loggers. \n",
    "</div>"
   ]
  },
  {
   "cell_type": "markdown",
   "id": "7213ff27",
   "metadata": {},
   "source": [
    "Class diagrams can be used to show relationships between multiple classes. For example in a system such as a symptom checker app as depicted in the diagram above. This can also show details of cardinality (e.g. 1 user can have multiple symptom logs) and inheritance (e.g. a patient and carer subclass of user) as well as other associations. You can find out more about how to draw class diagrams <a href=\"https://www.lucidchart.com/pages/uml-class-diagram/#section_2\" target=\"_blank\">here</a>."
   ]
  },
  {
   "cell_type": "markdown",
   "id": "173c8352",
   "metadata": {},
   "source": [
    "So far we have been representing our patients as simple strings. Let's make a patient class so that it can interact with our doctor class. We can give the patients a name, age, hospital number, presenting problem, diagnosis and past medical history. "
   ]
  },
  {
   "cell_type": "code",
   "execution_count": 82,
   "id": "562721b1",
   "metadata": {},
   "outputs": [],
   "source": [
    "Patient <- setClass(\n",
    "    # name of class\n",
    "    \"Patient\",\n",
    "    # slot definitions \n",
    "    slots = c(\n",
    "        name = \"character\",\n",
    "        hospital_number = \"character\",\n",
    "        presenting_complaint = \"character\",\n",
    "        PMH = \"list\",\n",
    "        diagnosis = \"character\"\n",
    "    ),\n",
    "    # default slot values\n",
    "    prototype = list(\n",
    "        name = \"\",\n",
    "        hospital_number = \"\",\n",
    "        presenting_complaint = \"\",\n",
    "        PMH = list(),\n",
    "        diagnosis = \"\"\n",
    "    )\n",
    ")"
   ]
  },
  {
   "cell_type": "code",
   "execution_count": 83,
   "id": "64259657",
   "metadata": {},
   "outputs": [
    {
     "data": {
      "text/html": [
       "'add_medical_history'"
      ],
      "text/latex": [
       "'add\\_medical\\_history'"
      ],
      "text/markdown": [
       "'add_medical_history'"
      ],
      "text/plain": [
       "[1] \"add_medical_history\""
      ]
     },
     "metadata": {},
     "output_type": "display_data"
    },
    {
     "data": {
      "text/html": [
       "'get_medical_history'"
      ],
      "text/latex": [
       "'get\\_medical\\_history'"
      ],
      "text/markdown": [
       "'get_medical_history'"
      ],
      "text/plain": [
       "[1] \"get_medical_history\""
      ]
     },
     "metadata": {},
     "output_type": "display_data"
    },
    {
     "data": {
      "text/html": [
       "'show_diagnosis'"
      ],
      "text/latex": [
       "'show\\_diagnosis'"
      ],
      "text/markdown": [
       "'show_diagnosis'"
      ],
      "text/plain": [
       "[1] \"show_diagnosis\""
      ]
     },
     "metadata": {},
     "output_type": "display_data"
    },
    {
     "data": {
      "text/html": [
       "'update_diagnosis'"
      ],
      "text/latex": [
       "'update\\_diagnosis'"
      ],
      "text/markdown": [
       "'update_diagnosis'"
      ],
      "text/plain": [
       "[1] \"update_diagnosis\""
      ]
     },
     "metadata": {},
     "output_type": "display_data"
    },
    {
     "data": {
      "text/html": [
       "'whats_wrong'"
      ],
      "text/latex": [
       "'whats\\_wrong'"
      ],
      "text/markdown": [
       "'whats_wrong'"
      ],
      "text/plain": [
       "[1] \"whats_wrong\""
      ]
     },
     "metadata": {},
     "output_type": "display_data"
    }
   ],
   "source": [
    "setGeneric(\"add_medical_history\", function(object, medical_history_item) standardGeneric(\"add_medical_history\"))\n",
    "setGeneric(\"get_medical_history\", function(object) standardGeneric(\"get_medical_history\"))\n",
    "setGeneric(\"show_diagnosis\", function(object) standardGeneric(\"show_diagnosis\"))\n",
    "setGeneric(\"update_diagnosis\", function(object, diagnosis) standardGeneric(\"update_diagnosis\"))\n",
    "setGeneric(\"whats_wrong\", function(object) standardGeneric(\"whats_wrong\"))           "
   ]
  },
  {
   "cell_type": "code",
   "execution_count": 124,
   "id": "5df26339",
   "metadata": {},
   "outputs": [],
   "source": [
    "setMethod(\"add_medical_history\", \"Patient\",\n",
    "    function(object, medical_history_item)\n",
    "    {\n",
    "        object@PMH <- append(object@PMH, medical_history_item)\n",
    "        return(object)\n",
    "    }\n",
    ")\n",
    "setMethod(\"get_medical_history\", \"Patient\",\n",
    "    function(object)\n",
    "    {\n",
    "        return(object@PMH)\n",
    "    }\n",
    ")\n",
    "setMethod(\"show_diagnosis\", \"Patient\",\n",
    "    function(object)\n",
    "    {\n",
    "        return(object@diagnosis)\n",
    "    }\n",
    ")\n",
    "setMethod(\"update_diagnosis\", \"Patient\",\n",
    "    function(object, diagnosis)\n",
    "    {\n",
    "        object@diagnosis <- diagnosis\n",
    "        return(object)\n",
    "    }\n",
    ")\n",
    "setMethod(\"whats_wrong\", \"Patient\",\n",
    "    function(object)\n",
    "    {\n",
    "        return(object@presenting_complaint)\n",
    "    }\n",
    ")"
   ]
  },
  {
   "cell_type": "markdown",
   "id": "55b5b3ec",
   "metadata": {},
   "source": [
    "Now let's make some patients and give them some past and current medical problems."
   ]
  },
  {
   "cell_type": "code",
   "execution_count": 116,
   "id": "c84c925d",
   "metadata": {},
   "outputs": [],
   "source": [
    "john <- new(\"Patient\", name=\"John Miles\", hospital_number=\"123456\", presenting_complaint=\"Abdominal pain\")\n",
    "john <- add_medical_history(john, \"Gout\")\n",
    "john <- add_medical_history(john, \"IHD\")\n",
    "john <- add_medical_history(john, \"MS\")\n",
    "\n",
    "jane <- new(\"Patient\", name=\"Jane Smith\", hospital_number=\"344532\", presenting_complaint=\"Chest pain\")\n",
    "jane <- add_medical_history(jane, \"Hypertension\")\n",
    "jane <- add_medical_history(jane, \"Type II diabetes\")"
   ]
  },
  {
   "cell_type": "code",
   "execution_count": 115,
   "id": "7ef88f13",
   "metadata": {},
   "outputs": [
    {
     "data": {
      "text/html": [
       "<ol>\n",
       "\t<li>'Gout'</li>\n",
       "\t<li>'IHD'</li>\n",
       "\t<li>'MS'</li>\n",
       "</ol>\n"
      ],
      "text/latex": [
       "\\begin{enumerate}\n",
       "\\item 'Gout'\n",
       "\\item 'IHD'\n",
       "\\item 'MS'\n",
       "\\end{enumerate}\n"
      ],
      "text/markdown": [
       "1. 'Gout'\n",
       "2. 'IHD'\n",
       "3. 'MS'\n",
       "\n",
       "\n"
      ],
      "text/plain": [
       "[[1]]\n",
       "[1] \"Gout\"\n",
       "\n",
       "[[2]]\n",
       "[1] \"IHD\"\n",
       "\n",
       "[[3]]\n",
       "[1] \"MS\"\n"
      ]
     },
     "metadata": {},
     "output_type": "display_data"
    }
   ],
   "source": [
    "get_medical_history(john)"
   ]
  },
  {
   "cell_type": "code",
   "execution_count": 117,
   "id": "4c36f671",
   "metadata": {},
   "outputs": [
    {
     "data": {
      "text/html": [
       "<ol>\n",
       "\t<li>'Hypertension'</li>\n",
       "\t<li>'Type II diabetes'</li>\n",
       "</ol>\n"
      ],
      "text/latex": [
       "\\begin{enumerate}\n",
       "\\item 'Hypertension'\n",
       "\\item 'Type II diabetes'\n",
       "\\end{enumerate}\n"
      ],
      "text/markdown": [
       "1. 'Hypertension'\n",
       "2. 'Type II diabetes'\n",
       "\n",
       "\n"
      ],
      "text/plain": [
       "[[1]]\n",
       "[1] \"Hypertension\"\n",
       "\n",
       "[[2]]\n",
       "[1] \"Type II diabetes\"\n"
      ]
     },
     "metadata": {},
     "output_type": "display_data"
    }
   ],
   "source": [
    "get_medical_history(jane)"
   ]
  },
  {
   "cell_type": "markdown",
   "id": "0ecda36f",
   "metadata": {},
   "source": [
    "Here we had to return the object and overwrite the original or the Past Medical History (PMH) we are adding will be lost. Hopefully you can start to see the power of using OOP to store and manipulate data and associated functionality. "
   ]
  },
  {
   "cell_type": "markdown",
   "id": "882793fb",
   "metadata": {},
   "source": [
    "Let's update the original <code>Doctor</code> class to work with the newly created <code>Patient</code> class."
   ]
  },
  {
   "cell_type": "code",
   "execution_count": 144,
   "id": "1fc8b4f7",
   "metadata": {},
   "outputs": [],
   "source": [
    "MedicalDoctor <- setClass(\n",
    "    # name of class\n",
    "    \"MedicalDoctor\",\n",
    "    # slot definitions \n",
    "    slots = c(\n",
    "        name = \"character\",\n",
    "        role = \"character\"\n",
    "    ),\n",
    "    # default slot values\n",
    "    prototype = list(\n",
    "        name = \"\",\n",
    "        role = \"Medical Doctor\"\n",
    "    )\n",
    ")"
   ]
  },
  {
   "cell_type": "code",
   "execution_count": 145,
   "id": "8782230b",
   "metadata": {},
   "outputs": [
    {
     "data": {
      "text/html": [
       "'admit_patient'"
      ],
      "text/latex": [
       "'admit\\_patient'"
      ],
      "text/markdown": [
       "'admit_patient'"
      ],
      "text/plain": [
       "[1] \"admit_patient\""
      ]
     },
     "metadata": {},
     "output_type": "display_data"
    },
    {
     "data": {
      "text/html": [
       "'diagnose_patient'"
      ],
      "text/latex": [
       "'diagnose\\_patient'"
      ],
      "text/markdown": [
       "'diagnose_patient'"
      ],
      "text/plain": [
       "[1] \"diagnose_patient\""
      ]
     },
     "metadata": {},
     "output_type": "display_data"
    },
    {
     "data": {
      "text/html": [
       "'discharge_patient'"
      ],
      "text/latex": [
       "'discharge\\_patient'"
      ],
      "text/markdown": [
       "'discharge_patient'"
      ],
      "text/plain": [
       "[1] \"discharge_patient\""
      ]
     },
     "metadata": {},
     "output_type": "display_data"
    }
   ],
   "source": [
    "setGeneric(\"admit_patient\", function(object, patient) standardGeneric(\"admit_patient\"))\n",
    "setGeneric(\"diagnose_patient\", function(object, patient, presenting_complaint) standardGeneric(\"diagnose_patient\"))\n",
    "setGeneric(\"discharge_patient\", function(object, patient) standardGeneric(\"discharge_patient\"))"
   ]
  },
  {
   "cell_type": "code",
   "execution_count": 146,
   "id": "739d6b26",
   "metadata": {},
   "outputs": [],
   "source": [
    "setMethod(\"admit_patient\", \"MedicalDoctor\",\n",
    "    function(object, patient)\n",
    "    {\n",
    "        cat(\"\\n\", object@name, \"will admit patient\", patient)\n",
    "    }\n",
    ")\n",
    "setMethod(\"diagnose_patient\", \"MedicalDoctor\",\n",
    "    function(object, patient, presenting_complaint)\n",
    "    {\n",
    "        diagnosis <- \"\"\n",
    "        cat(\"\\n\", object@name, \"will diagnose patient\", patient)\n",
    "        if(presenting_complaint == \"Abdominal pain\"){\n",
    "            diagnosis <- \"Gall stones\"\n",
    "        }else if(presenting_complaint == \"Chest pain\"){\n",
    "            diagnosis <- \"Myocardial infarction (heart attack)\"\n",
    "        }else{\n",
    "            diagnosis <- \"Unknown - need to run more tests\"\n",
    "        }\n",
    "        return(diagnosis)\n",
    "    }\n",
    ")\n",
    "setMethod(\"discharge_patient\", \"MedicalDoctor\",\n",
    "    function(object, patient)\n",
    "    {\n",
    "        cat(\"\\n\", object@name, \"will discharge patient\", patient)\n",
    "    }\n",
    ")"
   ]
  },
  {
   "cell_type": "markdown",
   "id": "d31a740d",
   "metadata": {},
   "source": [
    "Now lets use the class"
   ]
  },
  {
   "cell_type": "code",
   "execution_count": 147,
   "id": "5c63f41d",
   "metadata": {},
   "outputs": [
    {
     "name": "stdout",
     "output_type": "stream",
     "text": [
      "\n",
      "John's diagnosis = Gall stones\n",
      " David Lyle will admit patient John Miles\n",
      " David Lyle will diagnose patient John Miles"
     ]
    }
   ],
   "source": [
    "cat(\"\\nJohn's diagnosis =\", show_diagnosis(john))\n",
    "david <- new(\"MedicalDoctor\", name=\"David Lyle\", role=\"Cardiology registrar\")\n",
    "admit_patient(david, john@name)\n",
    "john <- update_diagnosis(john, diagnose_patient(david, john@name, whats_wrong(john)))"
   ]
  },
  {
   "cell_type": "code",
   "execution_count": 148,
   "id": "9650b256",
   "metadata": {},
   "outputs": [
    {
     "name": "stdout",
     "output_type": "stream",
     "text": [
      "\n",
      "John's diagnosis = Gall stones"
     ]
    }
   ],
   "source": [
    "cat(\"\\nJohn's diagnosis =\", show_diagnosis(john))"
   ]
  },
  {
   "cell_type": "markdown",
   "id": "10f768a3",
   "metadata": {
    "solution2": "hidden",
    "solution2_first": true
   },
   "source": [
    "<div class=\"alert alert-block alert-info\">\n",
    "<b>Task 2:</b>\n",
    "<br> \n",
    "1. Add a new method to the class called <code>get_name</code> that returns the patients name<br />\n",
    "    2. Rewrite the code above that uses <code>john@name</code> and replace this with your new <code>get_name</code> method.\n",
    "</div>"
   ]
  },
  {
   "cell_type": "code",
   "execution_count": 149,
   "id": "009e6224",
   "metadata": {
    "solution2": "hidden"
   },
   "outputs": [
    {
     "data": {
      "text/html": [
       "'get_name'"
      ],
      "text/latex": [
       "'get\\_name'"
      ],
      "text/markdown": [
       "'get_name'"
      ],
      "text/plain": [
       "[1] \"get_name\""
      ]
     },
     "metadata": {},
     "output_type": "display_data"
    },
    {
     "name": "stdout",
     "output_type": "stream",
     "text": [
      "\n",
      "John's diagnosis = Gall stones\n",
      " David Lyle will admit patient John Miles\n",
      " David Lyle will diagnose patient John Miles"
     ]
    }
   ],
   "source": [
    "setGeneric(\"get_name\", function(object) standardGeneric(\"get_name\"))   \n",
    "\n",
    "setMethod(\"get_name\", \"Patient\",\n",
    "    function(object)\n",
    "    {\n",
    "        return(object@name)\n",
    "    }\n",
    ")\n",
    "           \n",
    "cat(\"\\nJohn's diagnosis =\", show_diagnosis(john))\n",
    "david <- new(\"MedicalDoctor\", name=\"David Lyle\", role=\"Cardiology registrar\")\n",
    "admit_patient(david, get_name(john))\n",
    "john <- update_diagnosis(john, diagnose_patient(david, get_name(john), whats_wrong(john)))"
   ]
  },
  {
   "cell_type": "code",
   "execution_count": null,
   "id": "8a47e0b8",
   "metadata": {},
   "outputs": [],
   "source": []
  },
  {
   "cell_type": "markdown",
   "id": "f9f457e3",
   "metadata": {},
   "source": [
    "Hopefully you can start to see how we could continue to build this up into a more complex and interconnected system that we could use to start modeling things and processes in real life. There are 4 main general principles of OOP and these include:\n",
    "<ul>\n",
    "    <li><strong>Encapsulation:</strong> Storing the data and methods of an object such that they are invisible and inaccessible to unauthorized parties</li>\n",
    "    <li><strong>Abstraction:</strong> An abstract representation of a thing. The inner workings are hidden and are not essential to know in order to interact with the object</li>\n",
    "    <li><strong>Inheritance:</strong> Reusing and extending existing code to make something more specific. i.e. a <code>surgeon</code> may be based on a super class of <code>doctor</code> inheriting its methods and attributes and extending them with surgeon specific features</li>\n",
    "    <li><strong>Polymorphism:</strong> Used to process data differently depending on the input and redefine methods for a derived class </li>\n",
    "</ul>"
   ]
  },
  {
   "cell_type": "markdown",
   "id": "188c7532",
   "metadata": {},
   "source": [
    "We have already been using <code>encapsulation</code> in the previous examples. But let's look at using <code>inheritance</code> with an example of making a surgeon from our doctor class. "
   ]
  },
  {
   "cell_type": "code",
   "execution_count": 152,
   "id": "970d667d",
   "metadata": {},
   "outputs": [],
   "source": [
    "Surgeon <- setClass(\n",
    "    # name of class\n",
    "    \"Surgeon\",\n",
    "    # slot definitions \n",
    "    slots = c(surgical_speciality = \"character\"),\n",
    "    contains = \"Doctor\"\n",
    ")"
   ]
  },
  {
   "cell_type": "markdown",
   "id": "ed6e4e5c",
   "metadata": {},
   "source": [
    "The key here is the use of <code>contains</code> to link back to the parent class. We can then add a new method:"
   ]
  },
  {
   "cell_type": "code",
   "execution_count": 153,
   "id": "a245acaa",
   "metadata": {},
   "outputs": [
    {
     "data": {
      "text/html": [
       "'do_brain_surgery'"
      ],
      "text/latex": [
       "'do\\_brain\\_surgery'"
      ],
      "text/markdown": [
       "'do_brain_surgery'"
      ],
      "text/plain": [
       "[1] \"do_brain_surgery\""
      ]
     },
     "metadata": {},
     "output_type": "display_data"
    }
   ],
   "source": [
    "setGeneric(\"do_brain_surgery\", function(object, patient) standardGeneric(\"do_brain_surgery\"))\n",
    "\n",
    "setMethod(\"do_brain_surgery\", \"Surgeon\",\n",
    "    function(object, patient)\n",
    "    {\n",
    "        cat(\"\\n\", object@name, \"will perform\", object@surgical_speciality, \"on patient\", patient)\n",
    "    }\n",
    ")"
   ]
  },
  {
   "cell_type": "markdown",
   "id": "c68b7a82",
   "metadata": {},
   "source": [
    "Now a new instance of this class called <code>elley</code> has access to initial slots of the <code>Doctor</code> class like <code>name</code> and <code>role</code> but also the new <code>surgical_speciality</code> and the <code>do_brain_surgery</code> method."
   ]
  },
  {
   "cell_type": "code",
   "execution_count": 158,
   "id": "847a9f4f",
   "metadata": {},
   "outputs": [
    {
     "name": "stdout",
     "output_type": "stream",
     "text": [
      "\n",
      "Surgeon name: Elley Truss\n",
      "Surgeon role: Brain surgeon\n",
      " Elley Truss will perform brain surgery on patient Paul Davies"
     ]
    }
   ],
   "source": [
    "elley <- new(\"Surgeon\", name=\"Elley Truss\", role=\"Brain surgeon\", surgical_speciality=\"brain surgery\")\n",
    "cat(\"\\nSurgeon name:\", elley@name)\n",
    "cat(\"\\nSurgeon role:\", elley@role)\n",
    "do_brain_surgery(elley, \"Paul Davies\")"
   ]
  },
  {
   "cell_type": "markdown",
   "id": "6490439e",
   "metadata": {},
   "source": [
    "This way we could continue to build up a series of doctors like radiologists, GP's and so on, all of which have the basic doctor functions with a role specific version unique to themselves. "
   ]
  },
  {
   "cell_type": "markdown",
   "id": "4444bcec",
   "metadata": {
    "solution2": "hidden",
    "solution2_first": true
   },
   "source": [
    "<div class=\"alert alert-block alert-info\">\n",
    "<b>Task 3:</b>\n",
    "<br> \n",
    "1. Create a <code>Radiologist</code> class that extends the <code>Doctor</code> class. Give them 2 methods:<br />\n",
    "2. <code>do_xray</code> and <code>do_MRI</code> that take in a patients name as parameters and output an appropriate message.<br />\n",
    "3. Create 2 instances of the Radiologist class with each calling one of the 2 methods on <code>Jane</code> and <code>John</code>.\n",
    "</div>"
   ]
  },
  {
   "cell_type": "code",
   "execution_count": 160,
   "id": "be1cb617",
   "metadata": {
    "solution2": "hidden"
   },
   "outputs": [
    {
     "data": {
      "text/html": [
       "'do_xray'"
      ],
      "text/latex": [
       "'do\\_xray'"
      ],
      "text/markdown": [
       "'do_xray'"
      ],
      "text/plain": [
       "[1] \"do_xray\""
      ]
     },
     "metadata": {},
     "output_type": "display_data"
    },
    {
     "data": {
      "text/html": [
       "'do_MRI'"
      ],
      "text/latex": [
       "'do\\_MRI'"
      ],
      "text/markdown": [
       "'do_MRI'"
      ],
      "text/plain": [
       "[1] \"do_MRI\""
      ]
     },
     "metadata": {},
     "output_type": "display_data"
    }
   ],
   "source": [
    "Radiologist <- setClass(\"Radiologist\", contains = \"Doctor\")\n",
    "setGeneric(\"do_xray\", function(object, patient) standardGeneric(\"do_xray\"))\n",
    "setGeneric(\"do_MRI\", function(object, patient) standardGeneric(\"do_MRI\"))\n",
    "\n",
    "setMethod(\"do_xray\", \"Radiologist\",\n",
    "    function(object, patient)\n",
    "    {\n",
    "        cat(\"\\n\", object@name, \"will perform x-ray on patient\", patient)\n",
    "    }\n",
    ")\n",
    "setMethod(\"do_MRI\", \"Radiologist\",\n",
    "    function(object, patient)\n",
    "    {\n",
    "        cat(\"\\n\", object@name, \"will perform MRI on patient\", patient)\n",
    "    }\n",
    ")"
   ]
  },
  {
   "cell_type": "code",
   "execution_count": 161,
   "id": "06d09927",
   "metadata": {
    "solution2": "hidden"
   },
   "outputs": [
    {
     "name": "stdout",
     "output_type": "stream",
     "text": [
      "\n",
      " Norman Sanders will perform x-ray on patient Jane Smith\n",
      " Sarah Mullroy will perform MRI on patient John Miles"
     ]
    }
   ],
   "source": [
    "norman <- new(\"Radiologist\", name=\"Norman Sanders\", role=\"Radiologist\")\n",
    "sarah <- new(\"Radiologist\", name=\"Sarah Mullroy\", role=\"Radiologist\")\n",
    "\n",
    "do_xray(norman, jane@name)\n",
    "do_MRI(sarah, john@name)"
   ]
  },
  {
   "cell_type": "code",
   "execution_count": null,
   "id": "c3ad5dda",
   "metadata": {},
   "outputs": [],
   "source": []
  },
  {
   "cell_type": "code",
   "execution_count": null,
   "id": "11c653f9",
   "metadata": {},
   "outputs": [],
   "source": []
  },
  {
   "cell_type": "markdown",
   "id": "8c0b1ebd",
   "metadata": {},
   "source": [
    "<div class=\"alert alert-block alert-info\">\n",
    "<b>Task 4:</b>\n",
    "<br> \n",
    "1. Create a new class for another healthcare professional of your choice (i.e. Nurse, Paramedic, Physio, ...)<br />\n",
    "2. Think about what methods they might have and implement them<br />\n",
    "3. Test out your new class by making it interact with our existing <code>Doctor</code> and <code>Patient</code> classes.<br><br>\n",
    "    <strong>Note:</strong> We do not provide an answer here as you could pick any professional and we have already provided several examples for reference.\n",
    "</div>"
   ]
  },
  {
   "cell_type": "code",
   "execution_count": null,
   "id": "e3ea844e",
   "metadata": {},
   "outputs": [],
   "source": []
  },
  {
   "cell_type": "markdown",
   "id": "7b273dc1",
   "metadata": {},
   "source": [
    "### Notebook details\n",
    "<br>\n",
    "<i>Notebook created by <strong>Dr. Alan Davies</strong>.\n",
    "<br>\n",
    "&copy; Alan Davies 2022"
   ]
  },
  {
   "cell_type": "markdown",
   "id": "0984349d",
   "metadata": {},
   "source": [
    "## Notes:"
   ]
  },
  {
   "cell_type": "code",
   "execution_count": null,
   "id": "eebe1341",
   "metadata": {},
   "outputs": [],
   "source": []
  },
  {
   "cell_type": "code",
   "execution_count": null,
   "id": "53c0f219",
   "metadata": {},
   "outputs": [],
   "source": []
  },
  {
   "cell_type": "code",
   "execution_count": null,
   "id": "4d353b53",
   "metadata": {},
   "outputs": [],
   "source": []
  },
  {
   "cell_type": "code",
   "execution_count": 2,
   "id": "4d2df57d",
   "metadata": {},
   "outputs": [
    {
     "data": {
      "text/html": [
       "<style>\n",
       "div.accessibility {    \n",
       "    background-color: #DDC4DE;\n",
       "    border-color: #8D398F;\n",
       "    border-left: 5px solid #8D398F;\n",
       "    padding: 0.5em;\n",
       "}\n",
       "</style>"
      ],
      "text/plain": [
       "<IPython.core.display.HTML object>"
      ]
     },
     "execution_count": 2,
     "metadata": {},
     "output_type": "execute_result"
    }
   ],
   "source": [
    "#This cell maintains the accessibility of the notebook content.\n",
    "from IPython.core.display import HTML\n",
    "def css_styling():\n",
    "    styles = open(\"./styles/custom.css\", \"r\").read()\n",
    "    return HTML(styles)\n",
    "css_styling()"
   ]
  },
  {
   "cell_type": "code",
   "execution_count": null,
   "id": "31b20c98",
   "metadata": {},
   "outputs": [],
   "source": []
  }
 ],
 "metadata": {
  "hide_input": false,
  "kernelspec": {
   "display_name": "Python 3 (ipykernel)",
   "language": "python",
   "name": "python3"
  },
  "language_info": {
   "codemirror_mode": {
    "name": "ipython",
    "version": 3
   },
   "file_extension": ".py",
   "mimetype": "text/x-python",
   "name": "python",
   "nbconvert_exporter": "python",
   "pygments_lexer": "ipython3",
   "version": "3.9.12"
  }
 },
 "nbformat": 4,
 "nbformat_minor": 5
}
