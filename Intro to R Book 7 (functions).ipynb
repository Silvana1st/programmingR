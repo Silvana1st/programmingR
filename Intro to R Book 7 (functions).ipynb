{
 "cells": [
  {
   "cell_type": "markdown",
   "id": "3fc88080",
   "metadata": {},
   "source": [
    "<img src=\"./intro_images/MIE.PNG\" alt=\"notebook banner image\" width=\"100%\" align=\"left\" />"
   ]
  },
  {
   "cell_type": "markdown",
   "id": "e98fb7d4",
   "metadata": {},
   "source": [
    "<table style=\"float:right;\">\n",
    "    <tr>\n",
    "        <td>                      \n",
    "            <div style=\"text-align: right\"><a href=\"https://alandavies.netlify.com\" target=\"_blank\">Dr Alan Davies</a></div>\n",
    "            <div style=\"text-align: right\">Senior Lecturer Health Data Science</div>\n",
    "            <div style=\"text-align: right\">University of Manchester</div>\n",
    "         </td>\n",
    "         <td>\n",
    "             <img src=\"./intro_images/alan.PNG\" alt=\"Alan Davies photo\" width=\"30%\" />\n",
    "         </td>\n",
    "     </tr>\n",
    "</table>"
   ]
  },
  {
   "cell_type": "markdown",
   "id": "b529b8bb",
   "metadata": {},
   "source": [
    "# 7.0 Functions\n",
    "****"
   ]
  },
  {
   "cell_type": "markdown",
   "id": "0d35b021",
   "metadata": {},
   "source": [
    "#### About this Notebook\n",
    "This notebook introduces creating our own <code>functions</code> that can be used to write modular reusable code. We also introduce the concept of <code>recursion</code> where we can call a function from within itself."
   ]
  },
  {
   "cell_type": "markdown",
   "id": "c1781b39",
   "metadata": {},
   "source": [
    "<div class=\"alert alert-block alert-warning\"><b>Learning Objectives:</b> \n",
    "<br/> At the end of this notebook you will be able to:\n",
    "    \n",
    "- Explore how we can write our own custom functions to carry out specific tasks\n",
    "\n",
    "- Explore the concept of recursion\n",
    "\n",
    "</div> "
   ]
  },
  {
   "cell_type": "markdown",
   "id": "edbd8dc4",
   "metadata": {},
   "source": [
    "<a id=\"top\"></a>\n",
    "\n",
    "<b>Table of contents</b><br>\n",
    "\n",
    "7.1 [Function comments](#funccomments)\n",
    "\n",
    "7.2 [Variable scope](#scope)\n",
    "\n",
    "7.3 [Anonymous functions](#anon)\n",
    "\n",
    "7.4 [Recursion](#recursion)"
   ]
  },
  {
   "cell_type": "markdown",
   "id": "acda6aae",
   "metadata": {},
   "source": [
    "We have already been using functions in R. For example <code>print()</code> is a function, as is <code>length()</code> and <code>lapply()</code>. We use functions to make our code more modular and to contain code that we may need to repeat several times. We also use functions to carry out specific tasks. For example to convert the temperature between different units. To make a function in R we use the <code>function</code> keyword preceded by a function name (as with variables try to make this descriptive of what the function does). We can also provide any parameters that we may want to pass into a function. Functions can optionally take input values and return an output."
   ]
  },
  {
   "cell_type": "markdown",
   "id": "0d45a387",
   "metadata": {},
   "source": [
    "<div class=\"alert alert-success\">\n",
    "<b>Note:</b> Parameters are variables that we can pass into a function for the function to process internally. Parameters are optional. Not all functions have parameters.\n",
    "</div>"
   ]
  },
  {
   "cell_type": "code",
   "execution_count": 1,
   "id": "2ccbf9fd",
   "metadata": {},
   "outputs": [],
   "source": [
    "my_hello_function <- function()\n",
    "{\n",
    "    print(\"Hello world!!\")\n",
    "}"
   ]
  },
  {
   "cell_type": "markdown",
   "id": "09dce8b1",
   "metadata": {},
   "source": [
    "You will notice when you run the cell above that nothing happens. This is because to run the code contained within a function we need to first <code>call</code> the function. We do this by using the functions name followed by the parenthesis (round brackets). All the code inside braces <code>{}</code> belongs to the function and will only execute (run) when the function is called."
   ]
  },
  {
   "cell_type": "code",
   "execution_count": 2,
   "id": "c92935da",
   "metadata": {},
   "outputs": [
    {
     "name": "stdout",
     "output_type": "stream",
     "text": [
      "[1] \"Hello world!!\"\n"
     ]
    }
   ],
   "source": [
    "my_hello_function()"
   ]
  },
  {
   "cell_type": "markdown",
   "id": "f966ea0d",
   "metadata": {},
   "source": [
    "We can pass variables (parameters) to a function so that the values can be used internally by the function. For example we could extend the function to take a string input value and display that message instead of a hard coded one."
   ]
  },
  {
   "cell_type": "code",
   "execution_count": 3,
   "id": "749f03a1",
   "metadata": {},
   "outputs": [],
   "source": [
    "display_message <- function(msg)\n",
    "{\n",
    "    print(msg)\n",
    "}"
   ]
  },
  {
   "cell_type": "markdown",
   "id": "34f3f8e1",
   "metadata": {},
   "source": [
    "Now we can pass in a custom message as shown below. essentially we have just created a wrapper function for the <code>print()</code> function. In this case if we do not do any other preprocessing to the input, there is no advantages to doing this over just using <code>print()</code>."
   ]
  },
  {
   "cell_type": "code",
   "execution_count": 4,
   "id": "6469b6db",
   "metadata": {},
   "outputs": [
    {
     "name": "stdout",
     "output_type": "stream",
     "text": [
      "[1] \"Say Hi\"\n",
      "[1] \"Say something else\"\n"
     ]
    }
   ],
   "source": [
    "display_message(\"Say Hi\")\n",
    "display_message(\"Say something else\")"
   ]
  },
  {
   "cell_type": "markdown",
   "id": "7d782fa9",
   "metadata": {},
   "source": [
    "We could improve this by turning it into a simple logging function that add the date and time to the message that is passed in as a parameter:"
   ]
  },
  {
   "cell_type": "code",
   "execution_count": 7,
   "id": "bb96074b",
   "metadata": {},
   "outputs": [],
   "source": [
    "display_logger <- function(msg)\n",
    "{\n",
    "    today <- paste0(Sys.time())\n",
    "    cat(today, \": \", msg)\n",
    "}"
   ]
  },
  {
   "cell_type": "code",
   "execution_count": 8,
   "id": "74808b4d",
   "metadata": {},
   "outputs": [
    {
     "name": "stdout",
     "output_type": "stream",
     "text": [
      "2022-07-18 14:44:05 :  Write a log message!"
     ]
    }
   ],
   "source": [
    "display_logger(\"Write a log message!\")"
   ]
  },
  {
   "cell_type": "markdown",
   "id": "18eadbe4",
   "metadata": {},
   "source": [
    "We can also pass in multiple values to functions separating them with commas (<code>,</code>)."
   ]
  },
  {
   "cell_type": "code",
   "execution_count": 13,
   "id": "3ca323ca",
   "metadata": {},
   "outputs": [
    {
     "name": "stdout",
     "output_type": "stream",
     "text": [
      "Name: Dave\n",
      "\r",
      "Age:  56"
     ]
    }
   ],
   "source": [
    "print_person_data <- function(persons_name, persons_age)\n",
    "{\n",
    "    cat(\"Name:\", persons_name)\n",
    "    cat(\"\\n\\rAge: \", persons_age)\n",
    "}\n",
    "\n",
    "print_person_data(\"Dave\", 56)"
   ]
  },
  {
   "cell_type": "markdown",
   "id": "890de520",
   "metadata": {},
   "source": [
    "We can also <code>return</code> or pass back an output form our function. For example the outcome of a calculation that we might want to use later on."
   ]
  },
  {
   "cell_type": "code",
   "execution_count": 14,
   "id": "6df0a194",
   "metadata": {},
   "outputs": [],
   "source": [
    "add_numbers <- function(n1, n2)\n",
    "{\n",
    "    return(n1 + n2)\n",
    "}"
   ]
  },
  {
   "cell_type": "code",
   "execution_count": 15,
   "id": "068ffc53",
   "metadata": {},
   "outputs": [
    {
     "name": "stdout",
     "output_type": "stream",
     "text": [
      "[1] 7\n"
     ]
    }
   ],
   "source": [
    "answer <- add_numbers(5, 2)\n",
    "print(answer)"
   ]
  },
  {
   "cell_type": "markdown",
   "id": "3806433c",
   "metadata": {},
   "source": [
    "<div class=\"alert alert-success\">\n",
    "<b>Note:</b> Functions can have optional <code>input</code> (parameters) and <code>output</code> (return) values.\n",
    "</div>"
   ]
  },
  {
   "cell_type": "markdown",
   "id": "182e27f8",
   "metadata": {},
   "source": [
    "We can also cut out the step above of storing the returned value in a variable. This is inefficient if we don't need to use it again. Instead we could just print the output directly."
   ]
  },
  {
   "cell_type": "code",
   "execution_count": 16,
   "id": "981d0af1",
   "metadata": {},
   "outputs": [
    {
     "name": "stdout",
     "output_type": "stream",
     "text": [
      "[1] 7\n"
     ]
    }
   ],
   "source": [
    "print(add_numbers(5, 2))"
   ]
  },
  {
   "cell_type": "markdown",
   "id": "a0647abe",
   "metadata": {
    "solution2": "hidden",
    "solution2_first": true
   },
   "source": [
    "<div class=\"alert alert-block alert-info\">\n",
    "<b>Task 1:</b>\n",
    "<br> \n",
    "1. Create a vector called <code>nums</code> with the following values 1, 4, 5, 2, 1, 6<br />\n",
    "2. Write a function called <code>avg</code> to return the average of these numbers (add up all the numbers and divide by the count)<br>\n",
    "$$\n",
    "\\frac{x_1 + x_2 + ... + x_n}{n}\n",
    "$$\n",
    "</div>"
   ]
  },
  {
   "cell_type": "code",
   "execution_count": 29,
   "id": "3d805aa1",
   "metadata": {
    "solution2": "hidden"
   },
   "outputs": [
    {
     "name": "stdout",
     "output_type": "stream",
     "text": [
      "[1] 3.166667\n"
     ]
    }
   ],
   "source": [
    "nums <- c(1, 4, 5, 2, 1, 6)\n",
    "\n",
    "avg <- function(nums)\n",
    "{\n",
    "    total <- sum(nums)\n",
    "    return(total / length(nums))\n",
    "}\n",
    "\n",
    "print(avg(nums))"
   ]
  },
  {
   "cell_type": "code",
   "execution_count": null,
   "id": "ba67cfbe",
   "metadata": {},
   "outputs": [],
   "source": []
  },
  {
   "cell_type": "markdown",
   "id": "430e8af4",
   "metadata": {},
   "source": [
    "Another useful feature in R is the ability to provide a default value for a function parameter. Let's say we wanted to write a function to output a workers name and job title. We might have a lot of scientists in the company, so we could set this as the default value."
   ]
  },
  {
   "cell_type": "code",
   "execution_count": 32,
   "id": "56aefa28",
   "metadata": {},
   "outputs": [],
   "source": [
    "display_name_title <-function(persons_name, persons_role = \"Scientist\")\n",
    "{\n",
    "    cat(persons_role, persons_name)\n",
    "}"
   ]
  },
  {
   "cell_type": "code",
   "execution_count": 33,
   "id": "30878427",
   "metadata": {},
   "outputs": [
    {
     "name": "stdout",
     "output_type": "stream",
     "text": [
      "Scientist Alan Smith"
     ]
    }
   ],
   "source": [
    "display_name_title(\"Alan Smith\")"
   ]
  },
  {
   "cell_type": "markdown",
   "id": "3645f73d",
   "metadata": {},
   "source": [
    "This automatically uses <code>Scientist</code> as the default role. But this can also be overridden by supplying a value, i.e:"
   ]
  },
  {
   "cell_type": "code",
   "execution_count": 34,
   "id": "6ffb2002",
   "metadata": {},
   "outputs": [
    {
     "name": "stdout",
     "output_type": "stream",
     "text": [
      "Manager Paul Gantt"
     ]
    }
   ],
   "source": [
    "display_name_title(\"Paul Gantt\", \"Manager\")"
   ]
  },
  {
   "cell_type": "markdown",
   "id": "2fd9440d",
   "metadata": {},
   "source": [
    "If we have a variable number of parameters that we want to use we can use ellipsis (<code>...</code>). This produces a list to store all the variables. Let's say we had team members and the number could be different."
   ]
  },
  {
   "cell_type": "code",
   "execution_count": 35,
   "id": "3ba33707",
   "metadata": {},
   "outputs": [],
   "source": [
    "team_players <- function(...)\n",
    "{\n",
    "    players <- list(...)\n",
    "    print(players)\n",
    "}"
   ]
  },
  {
   "cell_type": "code",
   "execution_count": 36,
   "id": "e72aa709",
   "metadata": {},
   "outputs": [
    {
     "name": "stdout",
     "output_type": "stream",
     "text": [
      "[[1]]\n",
      "[1] \"Adam\"\n",
      "\n",
      "[[2]]\n",
      "[1] \"David\"\n",
      "\n",
      "[[3]]\n",
      "[1] \"Barry\"\n",
      "\n",
      "[[4]]\n",
      "[1] \"Steve\"\n",
      "\n"
     ]
    }
   ],
   "source": [
    "team_players(\"Adam\", \"David\", \"Barry\", \"Steve\")"
   ]
  },
  {
   "cell_type": "code",
   "execution_count": 37,
   "id": "5043c028",
   "metadata": {},
   "outputs": [
    {
     "name": "stdout",
     "output_type": "stream",
     "text": [
      "[[1]]\n",
      "[1] \"Paul\"\n",
      "\n",
      "[[2]]\n",
      "[1] \"Stan\"\n",
      "\n"
     ]
    }
   ],
   "source": [
    "team_players(\"Paul\", \"Stan\")"
   ]
  },
  {
   "cell_type": "markdown",
   "id": "10c27ab7",
   "metadata": {},
   "source": [
    "<div class=\"alert alert-success\">\n",
    "<b>Note:</b> For more than around 3 parameters we would typically use a data structure like a <code>list</code> or <code>vector</code> to keep the code cleaner and store the arguments we want to pass into a function rather than having a massive list of comma separated parameters. \n",
    "</div>"
   ]
  },
  {
   "cell_type": "markdown",
   "id": "2087f868",
   "metadata": {
    "cell_style": "split"
   },
   "source": [
    "<img src=\"./intro_images/circ.PNG\" width=\"90%\" align=\"left\" />"
   ]
  },
  {
   "cell_type": "markdown",
   "id": "64b9581e",
   "metadata": {},
   "source": [
    "<div class=accessibility>\n",
    "<b>Accessibility:</b> The cell above illustrates an image of a circle. It also indicates the diameter and radius of the circle.\n",
    "</div>"
   ]
  },
  {
   "cell_type": "code",
   "execution_count": 38,
   "id": "1e76aec0",
   "metadata": {
    "cell_style": "split"
   },
   "outputs": [
    {
     "name": "stdout",
     "output_type": "stream",
     "text": [
      "Circumference =  37.69911\n",
      "Radius =  6\n",
      "Area = 113.0973"
     ]
    }
   ],
   "source": [
    "diameter <- 12\n",
    "\n",
    "circles <- function(d)\n",
    "{\n",
    "    c <- pi * d\n",
    "    r <- d / 2\n",
    "    a <- pi * r^2\n",
    "    \n",
    "    cat(\"Circumference = \",c)\n",
    "    cat(\"\\nRadius = \",r)\n",
    "    cat(\"\\nArea =\", a)\n",
    "}\n",
    "\n",
    "circles(diameter)"
   ]
  },
  {
   "cell_type": "markdown",
   "id": "374a28ee",
   "metadata": {
    "solution2": "hidden",
    "solution2_first": true
   },
   "source": [
    "<div class=\"alert alert-block alert-info\">\n",
    "<b>Task 2:</b>\n",
    "<br>\n",
    "Regarding the function above that outputs the circumference, radius and area of a circle given a diameter.<br /> \n",
    "1. How could the function be redesigned to be more modular and reusable?<br />\n",
    "2. Have a go reimplementing this function as several smaller functions that carry out a specific task (i.e. one for circumference, area and radius).\n",
    "</div>"
   ]
  },
  {
   "cell_type": "code",
   "execution_count": 40,
   "id": "eb7f5849",
   "metadata": {
    "solution2": "hidden"
   },
   "outputs": [
    {
     "name": "stdout",
     "output_type": "stream",
     "text": [
      "Circumference =  37.69911\n",
      "Radius =  6\n",
      "Area = 113.0973"
     ]
    }
   ],
   "source": [
    "circle_circumference <- function(d)\n",
    "{\n",
    "    return(pi * d)\n",
    "}\n",
    "\n",
    "circle_radius <- function(d)\n",
    "{\n",
    "    return(d / 2)\n",
    "}\n",
    "\n",
    "circle_area <- function(d)\n",
    "{\n",
    "    return(pi * (d/2)^2)\n",
    "}\n",
    "\n",
    "diameter <- 12\n",
    "cat(\"Circumference = \",circle_circumference(diameter))\n",
    "cat(\"\\nRadius = \",circle_radius(diameter))\n",
    "cat(\"\\nArea =\", circle_area(diameter))"
   ]
  },
  {
   "cell_type": "code",
   "execution_count": null,
   "id": "8bac0b06",
   "metadata": {},
   "outputs": [],
   "source": []
  },
  {
   "cell_type": "markdown",
   "id": "b57a27fa",
   "metadata": {},
   "source": [
    "<a id=\"funccomments\"></a>\n",
    "#### 7.1 Function comments"
   ]
  },
  {
   "cell_type": "markdown",
   "id": "69ba11fc",
   "metadata": {},
   "source": [
    "It can be a good idea to provide function level comments to your code to explain what a function does. The level of detail is up to you. Here are two examples. The first is a lightweight approach the second provides more detail about the usage of the function. "
   ]
  },
  {
   "cell_type": "code",
   "execution_count": 41,
   "id": "75884ff2",
   "metadata": {},
   "outputs": [],
   "source": [
    "# function to return result of addtion of two mumbers\n",
    "add_two_nums <- function(n1, n2)\n",
    "{\n",
    "    return(n1 + n2)\n",
    "}"
   ]
  },
  {
   "cell_type": "code",
   "execution_count": 42,
   "id": "a8a96072",
   "metadata": {},
   "outputs": [],
   "source": [
    "# ---------------------------------------------------------------------------------\n",
    "# FUNCTION:     add_two_nums\n",
    "# INPUT:        int, int\n",
    "# OUTPUT:       int\n",
    "# DESCRIPTION:  Function to return result of addtion of two mumbers\n",
    "#               \n",
    "# ---------------------------------------------------------------------------------\n",
    "add_two_nums <- function(n1, n2)\n",
    "{\n",
    "    return(n1 + n2)\n",
    "}"
   ]
  },
  {
   "cell_type": "markdown",
   "id": "047df925",
   "metadata": {},
   "source": [
    "Of course you don't have to add comments to your functions, but picking a consistent method and using it to document your functions increases the readability of your code, especially for large programs with multiple contributors. This will save people having to read the code to try and work out what the function does. Combining this documentation with clear and descriptive variable and function names is very helpful to aid others (and yourself if you return to the code later) in understanding what your function does and how it is intended to be used. "
   ]
  },
  {
   "cell_type": "markdown",
   "id": "9b27e704",
   "metadata": {
    "solution2": "hidden",
    "solution2_first": true
   },
   "source": [
    "<div class=\"alert alert-block alert-info\">\n",
    "<b>Task 3:</b>\n",
    "<br> \n",
    "1. Write a function to calculate Body Mass Index (BMI) $$BMI = w \\div h^2 $$ This is the weight in kilograms divided by the height in meters squared. The height and weight should be parameters passed to the function.<br />\n",
    "2. Using <code>if</code> statements in the function - output the weight classification: less than 18.5 is underweight, between 18.5 and 24.9 is healthy weight and more than 24.9 is overweight.\n",
    "</div>"
   ]
  },
  {
   "cell_type": "code",
   "execution_count": 43,
   "id": "9850e8b7",
   "metadata": {
    "solution2": "hidden"
   },
   "outputs": [
    {
     "name": "stdout",
     "output_type": "stream",
     "text": [
      "BMI = 31.11111\n",
      "Overweight"
     ]
    }
   ],
   "source": [
    "calculate_BMI <- function(weight_kg, height_m)\n",
    "{\n",
    "    BMI <- weight_kg / height_m^2\n",
    "    cat(\"BMI =\", BMI)\n",
    "    if(BMI < 18.5) {\n",
    "        cat(\"\\nUnderweight\")\n",
    "    }else if(BMI >= 18.5 && BMI <= 24.9){\n",
    "        cat(\"\\nHealthy weight\")\n",
    "    }else if(BMI > 24.9){\n",
    "        cat(\"\\nOverweight\")\n",
    "    }\n",
    "}\n",
    "\n",
    "calculate_BMI(70, 1.5)"
   ]
  },
  {
   "cell_type": "code",
   "execution_count": null,
   "id": "fdee2c84",
   "metadata": {},
   "outputs": [],
   "source": []
  },
  {
   "cell_type": "markdown",
   "id": "0da59849",
   "metadata": {},
   "source": [
    "<a id=\"scope\"></a>\n",
    "#### 7.2 Variable scope"
   ]
  },
  {
   "cell_type": "markdown",
   "id": "1209e56d",
   "metadata": {},
   "source": [
    "You can think of the code inside a function as self-contained. This means that a variable with the same name inside a function is actually a different variable to one with the same name outside of a function. This is best illustrated with an example."
   ]
  },
  {
   "cell_type": "code",
   "execution_count": 44,
   "id": "8b65199a",
   "metadata": {},
   "outputs": [
    {
     "name": "stdout",
     "output_type": "stream",
     "text": [
      "x inside function = 7\n",
      "x outside function = 10"
     ]
    }
   ],
   "source": [
    "x <- 10\n",
    "\n",
    "my_function <- function()\n",
    "{\n",
    "    x <- 7    \n",
    "    cat(\"x inside function =\", x)\n",
    "}\n",
    "\n",
    "my_function()\n",
    "cat(\"\\nx outside function =\", x)"
   ]
  },
  {
   "cell_type": "markdown",
   "id": "723bf032",
   "metadata": {},
   "source": [
    "Here we have 2 variables both called <code>x</code>. The version of x outside of the function contains the value 10, whereas the one inside the function contains the value 7. These are 2 separate variables both with the same name. This is termed the <code>scope</code> of the variable. We can see when we output the values that we get 2 different results (10 and 7). One way to increase the scope of a variable is to give it <code>global</code> scope by making it what is referred to as a <code>global variable</code> by using <code>&lt;&lt;-</code>."
   ]
  },
  {
   "cell_type": "code",
   "execution_count": 45,
   "id": "6fbf2fe5",
   "metadata": {},
   "outputs": [
    {
     "name": "stdout",
     "output_type": "stream",
     "text": [
      "x = 15"
     ]
    }
   ],
   "source": [
    "x <<- 10\n",
    "\n",
    "my_function <- function()\n",
    "{\n",
    "    x <- x + 5\n",
    "    cat(\"x =\", x)\n",
    "}\n",
    "\n",
    "my_function()"
   ]
  },
  {
   "cell_type": "markdown",
   "id": "98631fa0",
   "metadata": {},
   "source": [
    "Here we can use <code>&lt;&lt;-</code> to tell R that the <code>x</code> in the function is actually the same <code>x</code> as the one outside of the function. Now when we add 5 to the value of <code>x</code> (which is 10) we get 15."
   ]
  },
  {
   "cell_type": "markdown",
   "id": "ede20579",
   "metadata": {
    "solution2": "hidden",
    "solution2_first": true
   },
   "source": [
    "<div class=\"alert alert-block alert-info\">\n",
    "<b>Task 4:</b>\n",
    "<br> \n",
    "1. Try removing the <code>&lt;&lt;-</code> from the code above and passing <code>x</code> into the function as a parameter.<br />\n",
    "2. Output the value of <code>x</code> inside the function and after calling the function.<br />\n",
    "3. What do you expect the value of <code>x</code> to be in both cases?\n",
    "</div>"
   ]
  },
  {
   "cell_type": "code",
   "execution_count": 47,
   "id": "b6b57229",
   "metadata": {
    "solution2": "hidden"
   },
   "outputs": [
    {
     "name": "stdout",
     "output_type": "stream",
     "text": [
      "x in function = 15\n",
      "x = 10"
     ]
    }
   ],
   "source": [
    "x <- 10\n",
    "\n",
    "my_function <- function(x)\n",
    "{\n",
    "    x <- x + 5\n",
    "    cat(\"x in function =\", x)\n",
    "}\n",
    "\n",
    "my_function(x)\n",
    "cat(\"\\nx =\", x)"
   ]
  },
  {
   "cell_type": "code",
   "execution_count": null,
   "id": "84a14aa5",
   "metadata": {},
   "outputs": [],
   "source": []
  },
  {
   "cell_type": "markdown",
   "id": "91a3210d",
   "metadata": {},
   "source": [
    "<div class=\"alert alert-success\">\n",
    "<b>Note:</b> Global variables are useful when you want to share a value with many functions and want to avoid passing it in and out of multiple functions. It is good practice however to use the smallest number of global variables needed as there is a risk they could be altered in unexpected ways if they are being used in multiple places. \n",
    "</div>"
   ]
  },
  {
   "cell_type": "markdown",
   "id": "acedf929",
   "metadata": {},
   "source": [
    "<a id=\"anon\"></a>\n",
    "#### 7.3 Anonymous functions"
   ]
  },
  {
   "cell_type": "markdown",
   "id": "96789e8f",
   "metadata": {},
   "source": [
    "Sometimes you need to write a quick disposable one time function to carry out some task and don't want to declare a complete function. R achieves this with what are known as <code>anonymous functions</code>. Consider writing a function to return the sum of two numbers. We might write a function that looks something like this:"
   ]
  },
  {
   "cell_type": "code",
   "execution_count": 48,
   "id": "50899ca6",
   "metadata": {},
   "outputs": [],
   "source": [
    "add_numbers <- function(n1, n2)\n",
    "{\n",
    "    return(n1 + n2)\n",
    "}"
   ]
  },
  {
   "cell_type": "code",
   "execution_count": 49,
   "id": "8f0fe5db",
   "metadata": {},
   "outputs": [
    {
     "name": "stdout",
     "output_type": "stream",
     "text": [
      "Result = 7"
     ]
    }
   ],
   "source": [
    "cat(\"Result =\", add_numbers(2, 5))"
   ]
  },
  {
   "cell_type": "markdown",
   "id": "cc15c543",
   "metadata": {},
   "source": [
    "We can achieve the same with a throw away anonymous function, which is useful if we just want to use a function once."
   ]
  },
  {
   "cell_type": "code",
   "execution_count": 65,
   "id": "a32f73b5",
   "metadata": {},
   "outputs": [
    {
     "name": "stdout",
     "output_type": "stream",
     "text": [
      "Result = 10"
     ]
    }
   ],
   "source": [
    "cat(\"Result =\", (function(n1, n2){n1 + n2}) (8, 2))"
   ]
  },
  {
   "cell_type": "markdown",
   "id": "9c7ba45c",
   "metadata": {},
   "source": [
    "<a id=\"recursion\"></a>\n",
    "#### 7.4 Recursion"
   ]
  },
  {
   "cell_type": "markdown",
   "id": "b48765c6",
   "metadata": {},
   "source": [
    "Another concept relating to functions is that of <code>recursion</code>. We have seen how we can use <code>iteration</code> in the form of loops and the apply functions to repeat actions. We can also have nested loops and this nesting can be very deep. There is however a limit to this. To overcome this we can use recursion to get a function to call itself over and over. Certain problems lend themselves to recursion and it is a technique often used in algorithm design."
   ]
  },
  {
   "cell_type": "markdown",
   "id": "3c66011b",
   "metadata": {},
   "source": [
    "Let's look at a classic problem that can be solved with recursion. The <code>tower of Hanoi</code>. This is mathematical  puzzle  where you have 3 pegs and have to move disks from one peg to another one at time such that no larger disk can be on-top of a smaller disk. The task is to do this in the minimum amount of moves possible. The animation below shows this in action."
   ]
  },
  {
   "cell_type": "markdown",
   "id": "fd4a8609",
   "metadata": {},
   "source": [
    "<img src=\"./intro_images/tower.gif\" width=\"500\" />"
   ]
  },
  {
   "cell_type": "markdown",
   "id": "0d2d0bf3",
   "metadata": {},
   "source": [
    "<div class=accessibility>\n",
    "<b>Accessibility:</b> The illustration above shows the Hanoi tower game animation.\n",
    "</div>"
   ]
  },
  {
   "cell_type": "markdown",
   "id": "45d3de54",
   "metadata": {},
   "source": [
    "\n",
    "So if we write a function that calls itself and pass in the number of disks (4) we can see how many moves it takes (15). You can count the moves in the animation to check."
   ]
  },
  {
   "cell_type": "code",
   "execution_count": 66,
   "id": "76498518",
   "metadata": {},
   "outputs": [],
   "source": [
    "hanoi <- function(n)\n",
    "{\n",
    "    if(n == 1){\n",
    "        return(1)\n",
    "    }\n",
    "    return(2 * hanoi(n - 1) + 1)\n",
    "}"
   ]
  },
  {
   "cell_type": "code",
   "execution_count": 67,
   "id": "aa6afb88",
   "metadata": {},
   "outputs": [
    {
     "name": "stdout",
     "output_type": "stream",
     "text": [
      "Number of moves for 4 disks = 15"
     ]
    }
   ],
   "source": [
    "cat(\"Number of moves for 4 disks =\", hanoi(4))"
   ]
  },
  {
   "cell_type": "markdown",
   "id": "4526abef",
   "metadata": {},
   "source": [
    "For 4 disks it is actually doing this:<br />\n",
    "$ = 2 \\times hanoi(3) + 1 $ <br />\n",
    "$ = 2 \\times (2 \\times hanoi(2) + 1) + 1 $ <br />\n",
    "$ = 2 \\times (2 \\times (2 \\times hanoi(1) + 1) + 1) + 1 $ <br />\n",
    "$ = 2 \\times (2 \\times (2 \\times 1 + 1) + 1) + 1 $ <br />\n",
    "$ = 2 \\times (2 \\times (3) + 1) + 1 $ <br />\n",
    "$ = 2 \\times (7) + 1 $ <br />\n",
    "$ = 15 $"
   ]
  },
  {
   "cell_type": "markdown",
   "id": "482c312e",
   "metadata": {},
   "source": [
    "The <code>Fibonacci</code> sequence is a number sequence (featured in The Davinci code book and film) where the next number in the sequence is found by summing the previous 2 numbers in the sequence. It looks like this:<br />\n",
    "$$0, 1, 1, 2, 3, 5, 8, 13, 21, 34, ... $$\n",
    "So $(0 + 1 = 1)$ and $(1 + 1 = 2)$ and $(1 + 2 = 3)$ and so on."
   ]
  },
  {
   "cell_type": "markdown",
   "id": "ec01475b",
   "metadata": {
    "solution2": "hidden",
    "solution2_first": true
   },
   "source": [
    "<div class=\"alert alert-block alert-info\">\n",
    "<b>Task 5:</b>\n",
    "<br> \n",
    "Given the information above about the Fibonacci sequence: <br />\n",
    "Write a function using <code>recursion</code> to return a value of the sequence provided as input to the function.<br />\n",
    "    <strong>Hint:</strong> You can use a loop when calling the function to output the results and pass the loop counter into the function i.e.<br>\n",
    "<code>n <- 6\n",
    "for(i in 0:n)\n",
    "{\n",
    "    cat(fib_sequence(i), \" \")\n",
    "}\n",
    "</code>\n",
    "</div>"
   ]
  },
  {
   "cell_type": "code",
   "execution_count": 70,
   "id": "f6146778",
   "metadata": {
    "solution2": "hidden"
   },
   "outputs": [
    {
     "name": "stdout",
     "output_type": "stream",
     "text": [
      "0  1  1  2  3  5  8  13  21  34  "
     ]
    }
   ],
   "source": [
    "fib_sequence <- function(n)\n",
    "{\n",
    "    if(n <= 1){\n",
    "        return(n)\n",
    "    }else{\n",
    "        return(fib_sequence(n-1) + fib_sequence(n-2))\n",
    "    }\n",
    "}\n",
    "\n",
    "n <- 9\n",
    "for(i in 0:n)\n",
    "{\n",
    "    cat(fib_sequence(i), \" \")\n",
    "}"
   ]
  },
  {
   "cell_type": "code",
   "execution_count": null,
   "id": "e8d94552",
   "metadata": {},
   "outputs": [],
   "source": []
  },
  {
   "cell_type": "markdown",
   "id": "267abe01",
   "metadata": {},
   "source": [
    "<div class=\"alert alert-success\">\n",
    "<b>Note:</b> you may wonder why Recursion should be used instead of nested loops, especially as you can nest many levels of loops (in the hundreds). Apart from many algorithms making use of recursion, compilers also make use of this to process nested code efficiently. In computer science theory there is also whats known as an <code>Ackermann function</code>. This is a function that grows very large very quickly and becomes difficult to compute without recursive methods.\n",
    "</div>"
   ]
  },
  {
   "cell_type": "markdown",
   "id": "f4710940",
   "metadata": {},
   "source": [
    "In the next notebook we will explore how we can handle errors in R and test our code using <code>unit tests</code>. Testing helps us to ensure our code works as expected and is reliable."
   ]
  },
  {
   "cell_type": "markdown",
   "id": "74572d45",
   "metadata": {},
   "source": [
    "### Notebook details\n",
    "<br>\n",
    "<i>Notebook created by <strong>Dr. Alan Davies</strong>.\n",
    "<br>\n",
    "&copy; Alan Davies 2022"
   ]
  },
  {
   "cell_type": "markdown",
   "id": "49ce588c",
   "metadata": {},
   "source": [
    "## Notes:"
   ]
  },
  {
   "cell_type": "code",
   "execution_count": null,
   "id": "14e8bce7",
   "metadata": {},
   "outputs": [],
   "source": []
  },
  {
   "cell_type": "code",
   "execution_count": null,
   "id": "807bda76",
   "metadata": {},
   "outputs": [],
   "source": []
  },
  {
   "cell_type": "code",
   "execution_count": 1,
   "id": "17e25cee",
   "metadata": {},
   "outputs": [
    {
     "data": {
      "text/html": [
       "<style>\n",
       "div.accessibility {    \n",
       "    background-color: #DDC4DE;\n",
       "    border-color: #8D398F;\n",
       "    border-left: 5px solid #8D398F;\n",
       "    padding: 0.5em;\n",
       "}\n",
       "</style>"
      ],
      "text/plain": [
       "<IPython.core.display.HTML object>"
      ]
     },
     "execution_count": 1,
     "metadata": {},
     "output_type": "execute_result"
    }
   ],
   "source": [
    "# This cell maintains the accessibility of the notebook content.\n",
    "from IPython.core.display import HTML\n",
    "def css_styling():\n",
    "    styles = open(\"./styles/custom.css\", \"r\").read()\n",
    "    return HTML(styles)\n",
    "css_styling()"
   ]
  },
  {
   "cell_type": "code",
   "execution_count": null,
   "id": "d27bcece",
   "metadata": {},
   "outputs": [],
   "source": []
  }
 ],
 "metadata": {
  "hide_input": false,
  "kernelspec": {
   "display_name": "Python 3 (ipykernel)",
   "language": "python",
   "name": "python3"
  },
  "language_info": {
   "codemirror_mode": {
    "name": "ipython",
    "version": 3
   },
   "file_extension": ".py",
   "mimetype": "text/x-python",
   "name": "python",
   "nbconvert_exporter": "python",
   "pygments_lexer": "ipython3",
   "version": "3.9.12"
  }
 },
 "nbformat": 4,
 "nbformat_minor": 5
}
