{
 "cells": [
  {
   "cell_type": "markdown",
   "id": "38d40ae2",
   "metadata": {},
   "source": [
    "<img src=\"./intro_images/MIE.PNG\" alt=\"notebook banner image\" width=\"100%\" align=\"left\" />"
   ]
  },
  {
   "cell_type": "markdown",
   "id": "ff3762f3",
   "metadata": {},
   "source": [
    "<table style=\"float:right;\">\n",
    "    <tr>\n",
    "        <td>                      \n",
    "            <div style=\"text-align: right\"><a href=\"https://alandavies.netlify.com\" target=\"_blank\">Dr Alan Davies</a></div>\n",
    "            <div style=\"text-align: right\">Senior Lecturer Health Data Science</div>\n",
    "            <div style=\"text-align: right\">University of Manchester</div>\n",
    "         </td>\n",
    "         <td>\n",
    "             <img src=\"./intro_images/alan.PNG\" alt=\"Alan Davies image\" width=\"30%\" />\n",
    "         </td>\n",
    "     </tr>\n",
    "</table>"
   ]
  },
  {
   "cell_type": "markdown",
   "id": "57c5cb3a",
   "metadata": {},
   "source": [
    "# 4.0 Operators and selection \n",
    "****"
   ]
  },
  {
   "cell_type": "markdown",
   "id": "cf9c010f",
   "metadata": {},
   "source": [
    "#### About this Notebook\n",
    "This notebook introduces <code>operators</code> that can be used for both arithmetic and logical computations. We also introduce <code>selection</code> that uses these operators in order to make decisions in programs and provide interactivity based on user input."
   ]
  },
  {
   "cell_type": "markdown",
   "id": "78e6906c",
   "metadata": {},
   "source": [
    "<div class=\"alert alert-block alert-warning\"><b>Learning Objectives:</b> \n",
    "<br/> At the end of this notebook you will be able to:\n",
    "    \n",
    "- Investigate the key features of arithmetic and logical operators in R\n",
    "\n",
    "- Explore and practice using selection to make decisions to alter the flow of execution in programs\n",
    "\n",
    "</div> "
   ]
  },
  {
   "cell_type": "markdown",
   "id": "5c9f8cff",
   "metadata": {},
   "source": [
    "<a id=\"top\"></a>\n",
    "\n",
    "<b>Table of contents</b><br>\n",
    "\n",
    "4.1 [Arithmetic operators](#arithops)\n",
    "\n",
    "4.2 [Logical operators](#logicops)\n",
    "\n",
    "4.3 [Selection](#selection)"
   ]
  },
  {
   "cell_type": "markdown",
   "id": "db0be89e",
   "metadata": {},
   "source": [
    "To carry out computational tasks, R (and all other high level programming languages) use operators. These operators can be broadly split into ones used for arithmetic, comparison (comparing things) and logic for making choices. The arithmetic operators allow basic mathematical tasks to be carried out, like addition and subtraction and can be combined to make more complex statements just as in maths. For example:"
   ]
  },
  {
   "cell_type": "code",
   "execution_count": 1,
   "id": "c1c12a87",
   "metadata": {},
   "outputs": [
    {
     "name": "stdout",
     "output_type": "stream",
     "text": [
      "[1] 50\n"
     ]
    }
   ],
   "source": [
    "some_number <- 20\n",
    "some_other_number <- 30\n",
    "print(some_number + some_other_number)"
   ]
  },
  {
   "cell_type": "code",
   "execution_count": 2,
   "id": "1a8e142b",
   "metadata": {},
   "outputs": [
    {
     "name": "stdout",
     "output_type": "stream",
     "text": [
      "[1] 53\n"
     ]
    }
   ],
   "source": [
    "print(some_number + some_other_number - 5 + 8)"
   ]
  },
  {
   "cell_type": "markdown",
   "id": "e3c32ed4",
   "metadata": {},
   "source": [
    "<div class=\"alert alert-success\">\n",
    "<b>Note:</b> As with maths the order of operations matters. This can be recalled with the acronym <code>BODMAS</code>. <strong>B</strong>rackets, <strong>O</strong>rders (powers, square roots etc.), <strong>D</strong>ivision Or <strong>M</strong>ultiplication (left to right) and <strong>A</strong>ddition or <strong>S</strong>ubtraction (left to right).\n",
    "</div>"
   ]
  },
  {
   "cell_type": "markdown",
   "id": "acbaca79",
   "metadata": {},
   "source": [
    "One issue to be aware of in computation is <code>division by zero</code>. This is where a value is divided by zero ($ a \\div 0$). This normally always causes an error in programing as the expression has no meaning. This can happen often by accident if the variable you are dividing by contains zero. In the case of R however it doesn't error but produces an infinite value For example: "
   ]
  },
  {
   "cell_type": "code",
   "execution_count": 3,
   "id": "d4b53bc4",
   "metadata": {},
   "outputs": [
    {
     "data": {
      "text/html": [
       "Inf"
      ],
      "text/latex": [
       "Inf"
      ],
      "text/markdown": [
       "Inf"
      ],
      "text/plain": [
       "[1] Inf"
      ]
     },
     "metadata": {},
     "output_type": "display_data"
    }
   ],
   "source": [
    "a <- 8\n",
    "a / 0"
   ]
  },
  {
   "cell_type": "markdown",
   "id": "177bb191",
   "metadata": {},
   "source": [
    "<a id=\"arithops\"></a>\n",
    "#### 4.1 Arithmetic operators"
   ]
  },
  {
   "cell_type": "markdown",
   "id": "cff3eec6",
   "metadata": {},
   "source": [
    "<style type=\"text/css\">\n",
    ".tg  {border-collapse:collapse;border-spacing:0;}\n",
    ".tg td{font-family:Arial, sans-serif;font-size:14px;padding:10px 5px;border-style:solid;border-width:1px;overflow:hidden;word-break:normal;border-color:black;}\n",
    ".tg th{font-family:Arial, sans-serif;font-size:14px;font-weight:normal;padding:10px 5px;border-style:solid;border-width:1px;overflow:hidden;word-break:normal;border-color:black;}\n",
    ".tg .tg-kiyi{font-weight:bold;border-color:inherit;text-align:left}\n",
    ".tg .tg-fymr{font-weight:bold;border-color:inherit;text-align:left;vertical-align:top}\n",
    ".tg .tg-xldj{border-color:inherit;text-align:left}\n",
    ".tg .tg-0pky{border-color:inherit;text-align:left;vertical-align:top}\n",
    "</style>\n",
    "<table class=\"tg\">\n",
    "  <tr>\n",
    "    <th class=\"tg-kiyi\">Example</th>\n",
    "    <th class=\"tg-kiyi\">Meaning</th>\n",
    "    <th class=\"tg-fymr\">Math</th>\n",
    "    <th class=\"tg-kiyi\">Description</th>\n",
    "  </tr>\n",
    "  <tr>\n",
    "    <td class=\"tg-xldj\">a + b</td>\n",
    "    <td class=\"tg-xldj\">Addition</td>\n",
    "    <td class=\"tg-0pky\">a + b</td>\n",
    "    <td class=\"tg-xldj\">Sums values</td>\n",
    "  </tr>\n",
    "  <tr>\n",
    "    <td class=\"tg-xldj\">a - b</td>\n",
    "    <td class=\"tg-xldj\">Subtraction</td>\n",
    "    <td class=\"tg-0pky\">a - b</td>\n",
    "    <td class=\"tg-xldj\">Subtracts second number from first</td>\n",
    "  </tr>\n",
    "  <tr>\n",
    "    <td class=\"tg-xldj\">a $\\text{*}$ b</td>\n",
    "    <td class=\"tg-xldj\">Multiplication</td>\n",
    "    <td class=\"tg-0pky\">a $\\times$ b</td>\n",
    "    <td class=\"tg-xldj\">Multiplies values (product)</td>\n",
    "  </tr>\n",
    "  <tr>\n",
    "    <td class=\"tg-xldj\">a / b</td>\n",
    "    <td class=\"tg-xldj\">Division</td>\n",
    "    <td class=\"tg-0pky\">a $\\div$ b</td>\n",
    "    <td class=\"tg-xldj\">Divides a by b</td>\n",
    "  </tr>\n",
    "  <tr>\n",
    "    <td class=\"tg-0pky\">a %% b</td>\n",
    "    <td class=\"tg-0pky\">Modulo</td>\n",
    "    <td class=\"tg-0pky\">mod</td>\n",
    "    <td class=\"tg-0pky\">The remainder of a division</td>\n",
    "  </tr>\n",
    "  <tr>\n",
    "    <td class=\"tg-0pky\">a %/% b</td>\n",
    "    <td class=\"tg-0pky\">Floor division</td>\n",
    "    <td class=\"tg-0pky\">floor()</td>\n",
    "    <td class=\"tg-0pky\">Division rounded to smallest integer</td>\n",
    "  </tr>\n",
    "  <tr>\n",
    "    <td class=\"tg-0pky\">a ^ b</td>\n",
    "    <td class=\"tg-0pky\">Exponentiation</td>\n",
    "    <td class=\"tg-0pky\">$a^b$</td>\n",
    "    <td class=\"tg-0pky\">Raises a to power of b</td>\n",
    "  </tr>\n",
    "</table>"
   ]
  },
  {
   "cell_type": "markdown",
   "id": "ee21364c",
   "metadata": {},
   "source": [
    "The table above shows the arithmetic operators along with a description. Most of these should be fairly straight forward if you are familiar with high school level maths. We will take a closer look at the <code>mod</code> operator as this may be one that is less familiar to some. This will give use the remainder of a division and can be useful for many things. One obvious example is to see if a number is odd or even. Other real world applications are applications that process money and need to give change."
   ]
  },
  {
   "cell_type": "code",
   "execution_count": 4,
   "id": "40e8af68",
   "metadata": {},
   "outputs": [
    {
     "data": {
      "text/html": [
       "0"
      ],
      "text/latex": [
       "0"
      ],
      "text/markdown": [
       "0"
      ],
      "text/plain": [
       "[1] 0"
      ]
     },
     "metadata": {},
     "output_type": "display_data"
    }
   ],
   "source": [
    "num <- 2\n",
    "num %% 2"
   ]
  },
  {
   "cell_type": "markdown",
   "id": "d4da7c90",
   "metadata": {},
   "source": [
    "An even number will give a zero answer and an odd number will not."
   ]
  },
  {
   "cell_type": "code",
   "execution_count": 5,
   "id": "e98a4bf0",
   "metadata": {},
   "outputs": [
    {
     "data": {
      "text/html": [
       "1"
      ],
      "text/latex": [
       "1"
      ],
      "text/markdown": [
       "1"
      ],
      "text/plain": [
       "[1] 1"
      ]
     },
     "metadata": {},
     "output_type": "display_data"
    }
   ],
   "source": [
    "num <- 9\n",
    "num %% 2"
   ]
  },
  {
   "cell_type": "markdown",
   "id": "04620813",
   "metadata": {
    "solution2": "hidden",
    "solution2_first": true
   },
   "source": [
    "<div class=\"alert alert-block alert-info\">\n",
    "<b>Task 1:</b>\n",
    "<br> \n",
    "Here is the formular for converting degrees from farenheit to celcius:\n",
    "$$ c = \\frac{5}{9}(f-32) $$\n",
    "Try and use the math operators to write this formular in R. To test it works try giving <code>f</code> the value of <code>32</code>. This should be around <code>0</code> in $ ^{\\circ}$C.\n",
    "</div>"
   ]
  },
  {
   "cell_type": "code",
   "execution_count": 6,
   "id": "239077d8",
   "metadata": {
    "solution2": "hidden"
   },
   "outputs": [
    {
     "name": "stdout",
     "output_type": "stream",
     "text": [
      "[1] 0\n"
     ]
    }
   ],
   "source": [
    "f <- 32\n",
    "c <- (f-32)*5/9\n",
    "print(c)"
   ]
  },
  {
   "cell_type": "code",
   "execution_count": null,
   "id": "e7caed80",
   "metadata": {},
   "outputs": [],
   "source": []
  },
  {
   "cell_type": "markdown",
   "id": "f18e2044",
   "metadata": {},
   "source": [
    "<a id=\"logicops\"></a>\n",
    "#### 4.2 Logical operators"
   ]
  },
  {
   "cell_type": "markdown",
   "id": "45240c03",
   "metadata": {},
   "source": [
    "When we have <code>TRUE</code> or <code>FALSE</code> expressions (called Boolean objects or expressions), we can evaluate them using logical operators. We can do this in programs to make choices. For example if you wanted to decide to take an umbrella with you or not, you may look out of the window and ask \"is it raining?\". If the answer is Yes (TRUE) you would take your umbrella. If however the answer was No (FALSE) you would not. More complex choices can be made by chaining these logical operators together. For example <b>if it is raining and I own an umbrella then take it.</b>. First lets look at the logical operators and then see how we can use them to preform <code>selection</code>."
   ]
  },
  {
   "cell_type": "markdown",
   "id": "37c2731d",
   "metadata": {},
   "source": [
    "<table class=\"tg\" width=\"600px;\">\n",
    "  <tr>\n",
    "    <th class=\"tg-kiyi\">Example</th>\n",
    "    <th class=\"tg-kiyi\">Meaning</th>\n",
    "    <th class=\"tg-fymr\">Math</th>\n",
    "    <th class=\"tg-kiyi\">Description</th>\n",
    "  </tr>\n",
    "  <tr>\n",
    "    <td class=\"tg-xldj\">!a</td>\n",
    "    <td class=\"tg-xldj\">Not</td>\n",
    "    <td class=\"tg-0pky\">$\\lnot a$, $\\bar{a}$</td>\n",
    "    <td class=\"tg-xldj\">Reverses value of a.<br> If TRUE becomes FALSE and vise versa</td>\n",
    "  </tr>\n",
    "  <tr>\n",
    "    <td class=\"tg-xldj\">a &amp; b</td>\n",
    "    <td class=\"tg-xldj\">And</td>\n",
    "    <td class=\"tg-0pky\" width=\"20%\">$a \\land b$, $a \\cap b$</td>\n",
    "    <td class=\"tg-xldj\">Element-wise. Outputs TRUE if both elements are TRUE</td>\n",
    "  </tr>\n",
    "  <tr>\n",
    "    <td class=\"tg-xldj\">a | b</td>\n",
    "    <td class=\"tg-xldj\">Or</td>\n",
    "    <td class=\"tg-0pky\">$a \\lor b$, $a \\cup b$</td>\n",
    "    <td class=\"tg-xldj\">Element-wise. This is TRUE is either a or b are TRUE</td>\n",
    "  </tr>\n",
    "  <tr>\n",
    "    <td class=\"tg-xldj\">a &amp;&amp; b</td>\n",
    "    <td class=\"tg-xldj\">And</td>\n",
    "    <td class=\"tg-0pky\">$a \\lor b$, $a \\cup b$</td>\n",
    "    <td class=\"tg-xldj\">This is TRUE is either a or b are TRUE</td>\n",
    "  </tr>\n",
    "  <tr>\n",
    "    <td class=\"tg-xldj\">a || b</td>\n",
    "    <td class=\"tg-xldj\">Or</td>\n",
    "    <td class=\"tg-0pky\">$a \\lor b$, $a \\cup b$</td>\n",
    "    <td class=\"tg-xldj\">This is TRUE is either a or b are TRUE</td>\n",
    "  </tr>\n",
    "</table>"
   ]
  },
  {
   "cell_type": "markdown",
   "id": "85aefb59",
   "metadata": {},
   "source": [
    "Another way of visualising this is with a <code>venn</code> diagram. The image below shows what this looks like for <code>and</code> and <code>or</code>. "
   ]
  },
  {
   "cell_type": "markdown",
   "id": "0a643fb9",
   "metadata": {},
   "source": [
    "<img src=\"./intro_images/fig2.PNG\" width=\"250\" />"
   ]
  },
  {
   "cell_type": "markdown",
   "id": "c4e5f39d",
   "metadata": {},
   "source": [
    "<div class=accessibility>\n",
    "<b>Accessibility:</b> The cell above illustrates two Venn diagrams. The first Venn diagram shows the area represented by A and B. Second Venn diagram shows the area represented by A or B.\n",
    "</div>"
   ]
  },
  {
   "cell_type": "markdown",
   "id": "f23d365f",
   "metadata": {},
   "source": [
    "<a id=\"selection\"></a>\n",
    "#### 4.3 Selection"
   ]
  },
  {
   "cell_type": "markdown",
   "id": "28f4ae09",
   "metadata": {},
   "source": [
    "We can combine these operators to make decisions in our programs. This is one of the main purposes of computer programs, the ability to do different things based on its input. Here we can see some examples of how we can make choices using these operators and the keywords <code>if</code> and <code>else</code>. "
   ]
  },
  {
   "cell_type": "code",
   "execution_count": 8,
   "id": "f3fd86c6",
   "metadata": {},
   "outputs": [
    {
     "name": "stdout",
     "output_type": "stream",
     "text": [
      "[1] \"Let's go\"\n"
     ]
    }
   ],
   "source": [
    "raining <- FALSE\n",
    "\n",
    "if(raining == TRUE){\n",
    "    print(\"Need to take umbrella\")\n",
    "}else{\n",
    "    print(\"Let's go\")\n",
    "}"
   ]
  },
  {
   "cell_type": "markdown",
   "id": "a22261df",
   "metadata": {},
   "source": [
    "<div class=\"alert alert-danger\">\n",
    "    <b>Note:</b> We use a double equals <code>==</code> for comparing equality (is the thing on the left equal to the thing on the right?) The single equals <code>=</code> is used for assignment. If you missed the second equals in the example above you would be assigning <code>TRUE</code> to <code>raining</code> instead of testing to see if the variable raining contains the the value TRUE.\n",
    "</div>"
   ]
  },
  {
   "cell_type": "markdown",
   "id": "9d7acf99",
   "metadata": {},
   "source": [
    "There are a few new things here to pay attention to. First we define a variable called <code>raining</code> and set it to <code>FALSE</code>. Then we ask a question (is it raining?). This line ends with a brace (<code>{</code>). This tells R that the preceding  code which is indented (moved/tabbed in) belongs to, or is contained within the lines starting and finishing with the open and closed braces <code>{}</code>. This means that the line <code>print(\"Need to take umbrella\")</code> will only be executed if the value of raining is <code>TRUE</code>. The <code>else</code> keyword describes what happens if the initial condition is not met. i.e. if raining is <code>FALSE</code>. "
   ]
  },
  {
   "cell_type": "markdown",
   "id": "9732e913",
   "metadata": {},
   "source": [
    "<div class=\"alert alert-success\">\n",
    "<b>Note:</b> It is not mandatory to have an <code>else</code> statement.  \n",
    "</div>"
   ]
  },
  {
   "cell_type": "markdown",
   "id": "a446a4f2",
   "metadata": {
    "solution2": "hidden",
    "solution2_first": true
   },
   "source": [
    "<div class=\"alert alert-block alert-info\">\n",
    "<b>Task 2:</b>\n",
    "<br> \n",
    "Change the value of <code>raining</code> from <code>False</code> to <code>True</code> and run the code in the cell above again.\n",
    "</div>"
   ]
  },
  {
   "cell_type": "code",
   "execution_count": 9,
   "id": "1a5a42bb",
   "metadata": {
    "solution2": "hidden"
   },
   "outputs": [
    {
     "name": "stdout",
     "output_type": "stream",
     "text": [
      "[1] \"Need to take umbrella\"\n"
     ]
    }
   ],
   "source": [
    "raining <- TRUE\n",
    "\n",
    "if(raining == TRUE){\n",
    "    print(\"Need to take umbrella\")\n",
    "}else{\n",
    "    print(\"Let's go\")\n",
    "}"
   ]
  },
  {
   "cell_type": "code",
   "execution_count": null,
   "id": "6709891c",
   "metadata": {},
   "outputs": [],
   "source": []
  },
  {
   "cell_type": "markdown",
   "id": "d5e9617a",
   "metadata": {},
   "source": [
    "If we want multiple alternative conditions to be checked we can use the <code>else if</code>. Below we have several statements combined with the <code>and</code> operator (<code>&amp;&amp;</code>). "
   ]
  },
  {
   "cell_type": "code",
   "execution_count": 11,
   "id": "f5aeb2d5",
   "metadata": {},
   "outputs": [
    {
     "name": "stdout",
     "output_type": "stream",
     "text": [
      "[1] \"Take umbrella\"\n"
     ]
    }
   ],
   "source": [
    "raining <- TRUE\n",
    "own_umbrella <- TRUE\n",
    "\n",
    "if(raining == TRUE && own_umbrella == TRUE){\n",
    "    print(\"Take umbrella\")\n",
    "}else if(raining == TRUE && own_umbrella == FALSE){\n",
    "    print(\"I'm going to get wet\")\n",
    "}else{\n",
    "    print(\"A nice day!\")\n",
    "}"
   ]
  },
  {
   "cell_type": "markdown",
   "id": "8d5f6cc3",
   "metadata": {},
   "source": [
    "We also don't have to explicitly say <code>== True</code>, as saying <code>if raining</code> works just as well. We could rewrite it as follows:"
   ]
  },
  {
   "cell_type": "code",
   "execution_count": 12,
   "id": "bd67a5c6",
   "metadata": {},
   "outputs": [
    {
     "name": "stdout",
     "output_type": "stream",
     "text": [
      "[1] \"Take umbrella\"\n"
     ]
    }
   ],
   "source": [
    "raining = TRUE\n",
    "own_umbrella = TRUE\n",
    "\n",
    "if(raining && own_umbrella){\n",
    "    print(\"Take umbrella\")\n",
    "}else if(raining && !own_umbrella){\n",
    "    print(\"I'm going to get wet\")\n",
    "}else{\n",
    "    print(\"A nice day!\")\n",
    "}"
   ]
  },
  {
   "cell_type": "markdown",
   "id": "acc547a5",
   "metadata": {},
   "source": [
    "This sort of short hand is something that you will develop with practice and intuition."
   ]
  },
  {
   "cell_type": "markdown",
   "id": "5910e6c8",
   "metadata": {
    "solution2": "hidden",
    "solution2_first": true
   },
   "source": [
    "<div class=\"alert alert-block alert-info\">\n",
    "<b>Task 3:</b>\n",
    "<br> \n",
    "1. Using what you have learnt. Use <code>if</code> and <code>else if/else</code> statements to take in an exam score and give the following grades:<br>\n",
    "less than 10 is a fail. Between 11 and 45 is a pass, between 46 and 65 is a merit and anything over 65 is a distinction.<br>\n",
    "2. Try changing the <code>exam_grade</code> to test that your logic is working as expected.\n",
    "<br>\n",
    "We started it off for you:\n",
    "</div>"
   ]
  },
  {
   "cell_type": "code",
   "execution_count": 13,
   "id": "ec9f1da4",
   "metadata": {
    "solution2": "hidden"
   },
   "outputs": [
    {
     "name": "stdout",
     "output_type": "stream",
     "text": [
      "[1] \"Distinction\"\n"
     ]
    }
   ],
   "source": [
    "exam_grade <- 56\n",
    "\n",
    "if(exam_grade < 10){\n",
    "    print(\"Fail\")\n",
    "}else if(exam_grade >= 11 && exam_grade <= 45){\n",
    "    print(\"Pass\")\n",
    "}else if(exam_grade >= 46 && exam_grade <= 55){\n",
    "    print(\"Merit\")\n",
    "}else if(exam_grade > 55){\n",
    "    print(\"Distinction\")\n",
    "}else{\n",
    "    print(\"Not a valid exam grade\")\n",
    "}"
   ]
  },
  {
   "cell_type": "code",
   "execution_count": null,
   "id": "2c9ede17",
   "metadata": {},
   "outputs": [],
   "source": [
    "exam_grade <- 56\n",
    "\n",
    "if(exam_grade < 10){\n",
    "    print(\"Fail\")\n",
    "}else if(exam_grade >= 11 && exam_grade <= 45){\n",
    "    print(\"Pass\")\n",
    "}# Add your code here!"
   ]
  },
  {
   "cell_type": "markdown",
   "id": "ed649756",
   "metadata": {},
   "source": [
    "The <code>readline</code> function let's a user enter a value that we can store in a variable. We can also ask a question using a string like so:"
   ]
  },
  {
   "cell_type": "code",
   "execution_count": 14,
   "id": "bc1139b6",
   "metadata": {},
   "outputs": [
    {
     "name": "stdout",
     "output_type": "stream",
     "text": [
      "Please enter your age: 34\n",
      "You are 34 years old"
     ]
    }
   ],
   "source": [
    "user_age = readline(prompt=\"Please enter your age: \")\n",
    "cat(\"You are\", user_age, \"years old\") "
   ]
  },
  {
   "cell_type": "markdown",
   "id": "478c48fb",
   "metadata": {
    "solution2": "hidden",
    "solution2_first": true
   },
   "source": [
    "<div class=\"alert alert-block alert-info\">\n",
    "<b>Task 4:</b>\n",
    "<br> \n",
    "1. Using the <code>readline</code> function, ask the user to enter a number. <br>\n",
    "2. Using the <code>mod</code> operator display a message telling the user if that the number was <code>odd</code> or <code>even</code>\n",
    "</div>"
   ]
  },
  {
   "cell_type": "code",
   "execution_count": 15,
   "id": "f431b975",
   "metadata": {
    "solution2": "hidden"
   },
   "outputs": [
    {
     "name": "stdout",
     "output_type": "stream",
     "text": [
      "Please enter a number: 3\n",
      "[1] \"Odd number\"\n"
     ]
    }
   ],
   "source": [
    "user_number <- as.integer(readline(prompt=\"Please enter a number: \"))\n",
    "if(user_number %% 2 == 0){\n",
    "    print(\"Even number\")\n",
    "}else{\n",
    "    print(\"Odd number\")\n",
    "}"
   ]
  },
  {
   "cell_type": "code",
   "execution_count": null,
   "id": "c99ea6e0",
   "metadata": {},
   "outputs": [],
   "source": []
  },
  {
   "cell_type": "markdown",
   "id": "92a9f6e1",
   "metadata": {},
   "source": [
    "So far we have used simple variables to store data. Next we will look at more complex data structures that can be used to store and manipulate data."
   ]
  },
  {
   "cell_type": "markdown",
   "id": "e913de07",
   "metadata": {},
   "source": [
    "### Notebook details\n",
    "<br>\n",
    "<i>Notebook created by <strong>Dr. Alan Davies</strong>.\n",
    "<br>\n",
    "&copy; Alan Davies 2022"
   ]
  },
  {
   "cell_type": "markdown",
   "id": "0700fea8",
   "metadata": {},
   "source": [
    "## Notes:"
   ]
  },
  {
   "cell_type": "code",
   "execution_count": null,
   "id": "c3af5def",
   "metadata": {},
   "outputs": [],
   "source": []
  },
  {
   "cell_type": "code",
   "execution_count": null,
   "id": "39e85a69",
   "metadata": {},
   "outputs": [],
   "source": []
  },
  {
   "cell_type": "code",
   "execution_count": 1,
   "id": "d9f28441",
   "metadata": {},
   "outputs": [
    {
     "data": {
      "text/html": [
       "<style>\n",
       "div.accessibility {    \n",
       "    background-color: #DDC4DE;\n",
       "    border-color: #8D398F;\n",
       "    border-left: 5px solid #8D398F;\n",
       "    padding: 0.5em;\n",
       "}\n",
       "</style>"
      ],
      "text/plain": [
       "<IPython.core.display.HTML object>"
      ]
     },
     "execution_count": 1,
     "metadata": {},
     "output_type": "execute_result"
    }
   ],
   "source": [
    "# This cell maintains the accessibility of the notebook content.\n",
    "from IPython.core.display import HTML\n",
    "def css_styling():\n",
    "    styles = open(\"./styles/custom.css\", \"r\").read()\n",
    "    return HTML(styles)\n",
    "css_styling()"
   ]
  },
  {
   "cell_type": "code",
   "execution_count": null,
   "id": "697171e3",
   "metadata": {},
   "outputs": [],
   "source": []
  }
 ],
 "metadata": {
  "hide_input": false,
  "kernelspec": {
   "display_name": "Python 3 (ipykernel)",
   "language": "python",
   "name": "python3"
  },
  "language_info": {
   "codemirror_mode": {
    "name": "ipython",
    "version": 3
   },
   "file_extension": ".py",
   "mimetype": "text/x-python",
   "name": "python",
   "nbconvert_exporter": "python",
   "pygments_lexer": "ipython3",
   "version": "3.9.12"
  }
 },
 "nbformat": 4,
 "nbformat_minor": 5
}
