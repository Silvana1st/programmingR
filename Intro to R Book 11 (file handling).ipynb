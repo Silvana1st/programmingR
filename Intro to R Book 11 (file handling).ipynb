{
 "cells": [
  {
   "cell_type": "markdown",
   "id": "ae1eaab5",
   "metadata": {},
   "source": [
    "<img src=\"./intro_images/MIE.PNG\" width=\"100%\" align=\"left\" />"
   ]
  },
  {
   "cell_type": "markdown",
   "id": "6f79f416",
   "metadata": {},
   "source": [
    "<table style=\"float:right;\">\n",
    "    <tr>\n",
    "        <td>                      \n",
    "            <div style=\"text-align: right\"><a href=\"https://alandavies.netlify.com\" target=\"_blank\">Dr Alan Davies</a></div>\n",
    "            <div style=\"text-align: right\">Senior Lecturer Health Data Science</div>\n",
    "            <div style=\"text-align: right\">University of Manchester</div>\n",
    "         </td>\n",
    "         <td>\n",
    "             <img src=\"./intro_images/alan.PNG\" width=\"30%\" />\n",
    "         </td>\n",
    "     </tr>\n",
    "</table>"
   ]
  },
  {
   "cell_type": "markdown",
   "id": "4731131c",
   "metadata": {},
   "source": [
    "# 11.0 File handling\n",
    "****"
   ]
  },
  {
   "cell_type": "markdown",
   "id": "5a7b3b9d",
   "metadata": {},
   "source": [
    "#### About this Notebook\n",
    "This notebook introduces working with common files in R. This includes how you can save, load and append to files."
   ]
  },
  {
   "cell_type": "markdown",
   "id": "e6facb43",
   "metadata": {},
   "source": [
    "<div class=\"alert alert-block alert-warning\"><b>Learning Objectives:</b> \n",
    "<br/> At the end of this notebook you will be able to:\n",
    "    \n",
    "- Investigate core concepts of file handling with R\n",
    "\n",
    "- Practice basic file handling tasks using R\n",
    "\n",
    "</div> "
   ]
  },
  {
   "cell_type": "markdown",
   "id": "e441c534",
   "metadata": {},
   "source": [
    "<a id=\"top\"></a>\n",
    "\n",
    "<b>Table of contents</b><br>\n",
    "\n",
    "11.1 [Basic file handling](#basic)\n",
    "\n",
    "11.2 [Working with other types of file](#other)\n",
    "\n",
    "11.3 [Navigating the file system](#nav)"
   ]
  },
  {
   "cell_type": "markdown",
   "id": "e813682b",
   "metadata": {},
   "source": [
    "The ability of a programming language to access and manipulate files and folders in a given operating system (e.g. Window, Linux, MacOS etc.) is a poweful tool that programmers can use to automate many processes. This is also a key part of many web-based applications. "
   ]
  },
  {
   "cell_type": "markdown",
   "id": "a0541d1b",
   "metadata": {},
   "source": [
    "Files are stored in folders (directories) on a given operating system. You may be familiar with selecting files and folders using software like the file explorer in Windows as seen in the image below where the <code>R</code> folder is inside another folder called <code>Documents</code>. "
   ]
  },
  {
   "cell_type": "markdown",
   "id": "47024b7c",
   "metadata": {},
   "source": [
    "<img src=\"./intro_images/files.PNG\" alt=\"File path image\" width=\"40%\" align=\"left\" />"
   ]
  },
  {
   "cell_type": "markdown",
   "id": "ccbf0a49",
   "metadata": {},
   "source": [
    "The exact location of a given file on an operating can be found with something called a <code>file path</code>. An example for a filepath for an image of the author called <code>alan.PNG</code> is located in the following path: "
   ]
  },
  {
   "cell_type": "markdown",
   "id": "dbd1b867",
   "metadata": {},
   "source": [
    "<code>C:\\Users\\Alan_Davies\\NLP\\alan.PNG</code>"
   ]
  },
  {
   "cell_type": "markdown",
   "id": "5e2f6caf",
   "metadata": {},
   "source": [
    "This tells us several things. The first letter <code>C</code> is the hard drive the file is stored on (C is the default drive on a Windows machine). Then we have a number of folders separated by slashes. On some operating systems the slashes may be the other way around. In this example, on the hard drive <code>C</code>, there is a folder called <code>Users</code>, within this, another folder called <code>Alan_Davies</code>, then a folder called <code>NLP</code> which contains the file <code>alan.PNG</code>. The other point to note is the letters that come after the dot (period) in a file name. This is referred to as the <code>file extension</code> and determines what type of file it is. In this case it's an image, specifically a Portable Network Graphic (PNG). You may be familiar with other types of file such as a word document <code>.docx</code> or a Portable Document Format (PDF) file <code>.pdf</code> and so on. This example is depicted graphically below."
   ]
  },
  {
   "cell_type": "markdown",
   "id": "44628d7f",
   "metadata": {},
   "source": [
    "<img src=\"./intro_images/filesfolders.PNG\" width=\"40%\" align=\"left\" />"
   ]
  },
  {
   "cell_type": "markdown",
   "id": "d233536b",
   "metadata": {},
   "source": [
    "<div class=accessibility>\n",
    "<b>Accessibility:</b> The cell above shows the file path for an image called alan.PNG. The root of the path is the C drive. Inside the C drive, there is a folder named Alan Davies. Inside that folder there is another folder, named NLP. The file named alan.PNG resides in the NLP folder. The file path is C:\\Alan_Davies\\NLP\\alan.PNG\n",
    "</div>"
   ]
  },
  {
   "cell_type": "markdown",
   "id": "972b6a0e",
   "metadata": {},
   "source": [
    "<a id=\"basic\"></a>\n",
    "#### 11.1 Basic file handling"
   ]
  },
  {
   "cell_type": "markdown",
   "id": "e492f5f7",
   "metadata": {},
   "source": [
    "Let's try to open a file. Here we will create a variable that stores the path and filename of the required file. This file is a text file (<code>*.txt</code>) and contains the lyrics for the Nirvana song \"Something in way\", which is also the name of the file. The <code>./</code> is for a <code>relative</code> path (relative to this notebook). This means the folder can be accessed if we put the notebook in different places as long as there is a folder called <code>file_handling</code> in the same folder the notebook is in. This saves us having to hard code the specific path. For example when I wrote this notebook, the file was here: <code>C:\\Users\\Alan_Davies\\Intro to programming (Python)\\file_handling\\Something in the way.txt</code>. I send these notebooks to someone who uploads them onto a server. The path could be quite different in this case. It might for example be: <code>E:\\data_files\\teaching\\FBMH\\SHS\\intro_programming\\file_handling\\Something in the way.txt</code>. This is where the power of relative paths comes in. As long as the folder <code>file_handling</code> is relative to this notebook file, we don't have to explicitly add the full file path to work with the file. "
   ]
  },
  {
   "cell_type": "code",
   "execution_count": 15,
   "id": "7ca1768a",
   "metadata": {},
   "outputs": [],
   "source": [
    "file_path <- \"./file_handling/Something in the way.txt\""
   ]
  },
  {
   "cell_type": "markdown",
   "id": "da4d86a8",
   "metadata": {},
   "source": [
    "Next we can use <code>read.delim</code> to open the file passing in the file path variable. The <code>header</code> can be set to <code>FALSE</code> as there is no header."
   ]
  },
  {
   "cell_type": "code",
   "execution_count": 28,
   "id": "d7da7353",
   "metadata": {},
   "outputs": [],
   "source": [
    "f <- read.delim(file_path, header = FALSE)"
   ]
  },
  {
   "cell_type": "code",
   "execution_count": 29,
   "id": "739a3e83",
   "metadata": {},
   "outputs": [
    {
     "name": "stdout",
     "output_type": "stream",
     "text": [
      "                                    V1\n",
      "1                 Something In The Way\n",
      "2                Underneath the bridge\n",
      "3               Tarp has sprung a leak\n",
      "4         And the animals I've trapped\n",
      "5              Have all become my pets\n",
      "6          And I'm living off of grass\n",
      "7   And the drippings from the ceiling\n",
      "8                It's okay to eat fish\n",
      "9  'Cause they don't have any feelings\n",
      "10           Something in the way, mmm\n",
      "11     Something in the way, yeah, mmm\n",
      "12           Something in the way, mmm\n",
      "13     Something in the way, yeah, mmm\n",
      "14           Something in the way, mmm\n",
      "15     Something in the way, yeah, mmm\n",
      "16               Underneath the bridge\n",
      "17              Tarp has sprung a leak\n",
      "18        And the animals I've trapped\n",
      "19             Have all become my pets\n",
      "20         And I'm living off of grass\n",
      "21  And the drippings from the ceiling\n",
      "22               It's okay to eat fish\n",
      "23 'Cause they don't have any feelings\n",
      "24           Something in the way, mmm\n",
      "25     Something in the way, yeah, mmm\n",
      "26           Something in the way, mmm\n",
      "27     Something in the way, yeah, mmm\n",
      "28           Something in the way, mmm\n",
      "29     Something in the way, yeah, mmm\n",
      "30           Something in the way, mmm\n",
      "31     Something in the way, yeah, mmm\n"
     ]
    }
   ],
   "source": [
    "print(f)"
   ]
  },
  {
   "cell_type": "markdown",
   "id": "cbfd83cc",
   "metadata": {
    "solution2": "hidden",
    "solution2_first": true
   },
   "source": [
    "<div class=\"alert alert-block alert-info\">\n",
    "<b>Task 1:</b>\n",
    "<br> \n",
    "1. Open the file in the location: <code>./file_handling/A/American Pie.txt</code> for reading.<br>\n",
    "2. Output it's contents\n",
    "</div>"
   ]
  },
  {
   "cell_type": "code",
   "execution_count": 4,
   "id": "7e0341f4",
   "metadata": {
    "solution2": "hidden"
   },
   "outputs": [
    {
     "name": "stderr",
     "output_type": "stream",
     "text": [
      "Warning message in scan(file = file, what = what, sep = sep, quote = quote, dec = dec, :\n",
      "\"EOF within quoted string\""
     ]
    },
    {
     "name": "stdout",
     "output_type": "stream",
     "text": [
      "                                                                                    V1\n",
      "1                                                                         American Pie\n",
      "2                                                             ...A long, long time ago\n",
      "3                            I can still remember how that music used to make me smile\n",
      "4                   And I knew if I had my chance that I could make those people dance\n",
      "5                                                And maybe they'd be happy for a while\n",
      "6                                                      ... But February made me shiver\n",
      "7                                                         With every paper I'd deliver\n",
      "8                                                             Bad news on the doorstep\n",
      "9                                                        I couldn't take one more step\n",
      "10                                                     ... I can't remember if I cried\n",
      "11                                                 When I read about his widowed bride\n",
      "12                                                But something touched me deep inside\n",
      "13                                                              The day the music died\n",
      "14                                                   ... So bye-bye, Miss American Pie\n",
      "15                                  Drove my Chevy to the levee, but the levee was dry\n",
      "16                                And them good old boys were drinkin' whiskey and rye\n",
      "17                Singin' This'll be the day that I die\\nThis'll be the day that I die\n",
      "18              ... Did you write the book of love, and do you have faith in God above\n",
      "19                                                          If the Bible tells you so?\n",
      "20                Now do you believe in rock and roll, can music save your mortal soul\n",
      "21                                        And can you teach me how to dance real slow?\n",
      "22                                       ... Well, I know that you're in love with him\n",
      "23                                                 'Cause I saw you dancin' in the gym\n",
      "24                                                      You both kicked off your shoes\n",
      "25                                                   Man, I dig those rhythm and blues\n",
      "26                                            ... I was a lonely teenage broncin' buck\n",
      "27                                            With a pink carnation and a pickup truck\n",
      "28                                                        But I knew I was out of luck\n",
      "29                                                              The day the music died\n",
      "30                                    ... I started singin' bye-bye, Miss American Pie\n",
      "31                                  Drove my Chevy to the levee, but the levee was dry\n",
      "32                                    Them good old boys were drinkin' whiskey and rye\n",
      "33            And singin' This'll be the day that I die\\nThis'll be the day that I die\n",
      "34  ... Now for ten years we've been on our own, and moss grows fat on a rollin' stone\n",
      "35                                                    But that's not how it used to be\n",
      "36   When the jester sang for the king and queen in a coat he borrowed from James Dean\n",
      "37                                               And a voice that came from you and me\n",
      "38                                         ... Oh, and while the king was looking down\n",
      "39                                                   The jester stole his thorny crown\n",
      "40                                                         The courtroom was adjourned\n",
      "41                                                             No verdict was returned\n",
      "42                                             ... And while Lenin read a book on Marx\n",
      "43                                                     A quartet practiced in the park\n",
      "44                                                      And we sang dirges in the dark\n",
      "45                                                              The day the music died\n",
      "46                                      ... We were singin' bye-bye, Miss American Pie\n",
      "47                                  Drove my Chevy to the levee, but the levee was dry\n",
      "48                                    Them good old boys were drinkin' whiskey and rye\n",
      "49                Singin' This'll be the day that I die\\nThis'll be the day that I die\n",
      "50   ... Helter skelter in a summer swelter, the birds flew off with a fallout shelter\n",
      "51                                                   Eight miles high and falling fast\n",
      "52                   It landed foul on the grass, the players tried for a forward pass\n",
      "53                                          With the jester on the sidelines in a cast\n",
      "54                                          ... Now the halftime air was sweet perfume\n",
      "55                                          While the sergeants played a marching tune\n",
      "56                                                              We all got up to dance\n",
      "57                                                     Oh, but we never got the chance\n",
      "58                                      ... 'Cause the players tried to take the field\n",
      "59                                                  The marching band refused to yield\n",
      "60                                                     Do you recall what was revealed\n",
      "61                                                             The day the music died?\n",
      "62                                   ... We started singin' bye-bye, Miss American Pie\n",
      "63                                  Drove my Chevy to the levee, but the levee was dry\n",
      "64                                    Them good old boys were drinkin' whiskey and rye\n",
      "65            And singin' This'll be the day that I die\\nThis'll be the day that I die\n",
      "66              ... Oh, and there we were all in one place, a generation lost in space\n",
      "67                                                    With no time left to start again\n",
      "68          So come on, Jack be nimble, Jack be quick, Jack Flash sat on a candlestick\n",
      "69                                              'Cause fire is the devil's only friend\n",
      "70                                           ... Oh, and as I watched him on the stage\n",
      "71                                             My hands were clenched in fists of rage\n",
      "72                                                               No angel born in Hell\n",
      "73                                                      Could break that Satan's spell\n",
      "74                                   ... And as the flames climbed high into the night\n",
      "75                                                       To light the sacrificial rite\n",
      "76                                                   I saw Satan laughing with delight\n",
      "77                                                              The day the music died\n",
      "78                                                            ... I started singin' it\n",
      "79                                                  Singin' bye-bye, Miss American Pie\n",
      "80                                  Drove my Chevy to the levee, but the levee was dry\n",
      "81                                    Them good old boys were drinkin' whiskey and rye\n",
      "82            And singin' This'll be the day that I die\\nThis'll be the day that I die\n",
      "83            ... I met a girl who sang the blues, and I asked her for some happy news\n",
      "84                                                 But she just smiled and turned away\n",
      "85              I went down to the sacred store where I'd heard the music years before\n",
      "86                                      But the man there said the music wouldn't play\n",
      "87                                       â\\200¦ And in the streets, the children screamed\n",
      "88                                             The lovers cried, and the poets dreamed\n",
      "89                                                           But not a word was spoken\n",
      "90                                                    The church bells all were broken\n",
      "91                                                 â\\200¦ And the three men I admire most\n",
      "92                                                 The Father, Son, and the Holy Ghost\n",
      "93                                            They caught the last train for the coast\n",
      "94                                                              The day the music died\n",
      "95                                â\\200¦ And they were singin' bye-bye, Miss American Pie\n",
      "96                                  Drove my Chevy to the levee, but the levee was dry\n",
      "97                                And them good old boys were drinkin' whiskey and rye\n",
      "98                Singin' This'll be the day that I die\\nThis'll be the day that I die\n",
      "99                                    â\\200¦ They were singin' bye-bye, Miss American Pie\n",
      "100                                 Drove my Chevy to the levee, but the levee was dry\n",
      "101                                   Them good old boys were drinkin' whiskey and rye\n",
      "102                                          And singin' This'll be the day that I die\n"
     ]
    }
   ],
   "source": [
    "file_path <- \"./file_handling/A/American Pie.txt\"\n",
    "f = read.delim(file_path, header = FALSE)\n",
    "print(f)"
   ]
  },
  {
   "cell_type": "code",
   "execution_count": null,
   "id": "754dc634",
   "metadata": {},
   "outputs": [],
   "source": []
  },
  {
   "cell_type": "markdown",
   "id": "236342c8",
   "metadata": {},
   "source": [
    "Another thing you are going to want to do when working with files is to put some error handling around using them to deal with issues like a file not being found etc. so your program doesn't just crash, but instead provides more meaningful error handling. Let's consider opening a file to read."
   ]
  },
  {
   "cell_type": "code",
   "execution_count": 1,
   "id": "9fce4361",
   "metadata": {},
   "outputs": [
    {
     "name": "stdout",
     "output_type": "stream",
     "text": [
      "\n",
      "The file exists, opening file...."
     ]
    }
   ],
   "source": [
    "file_path <- \"./file_handling/A/American Pie.txt\"\n",
    "if(file.exists(file_path)){\n",
    "    cat(\"\\nThe file exists, opening file....\")\n",
    "}else{\n",
    "    cat(\"\\nFile with name \", file_path, \" not found. Unable to open.\")\n",
    "}"
   ]
  },
  {
   "cell_type": "markdown",
   "id": "343e44cb",
   "metadata": {},
   "source": [
    "Here we checked first to see if the file exists using <code>file.exists()</code> before loading it. We can then control the error and inform the user rather than just crashing the program."
   ]
  },
  {
   "cell_type": "markdown",
   "id": "9e4d1d19",
   "metadata": {},
   "source": [
    "We can also write files as well. In the example below we concatenate the string <code>\"./file_handling/A/\"</code> with <code>\"output_file.txt\"</code> to produce <code>./file_handling/A/output_file.txt</code>. This is where we will save the file and what it will be called. Next we create a connection to the file and use <code>writeLines</code> to write a couple of lines of text to the file before closing the connection."
   ]
  },
  {
   "cell_type": "code",
   "execution_count": 20,
   "id": "18619bd1",
   "metadata": {},
   "outputs": [],
   "source": [
    "new_file_path <- \"./file_handling/A/\"\n",
    "file_name <- paste0(new_file_path, \"output_file.txt\")\n",
    "\n",
    "file_connection <- file(file_name)\n",
    "writeLines(c(\"to be\", \"or not to be.\"), file_connection)\n",
    "close(file_connection)"
   ]
  },
  {
   "cell_type": "markdown",
   "id": "3342ff88",
   "metadata": {},
   "source": [
    "<div class=\"alert alert-success\">\n",
    "<b>Note:</b> R actually provides a lot of different support for writing files. One example is the <code>sink</code> function. You can also write to files using <code>cat</code>. For example: <code>cat(\"hello\",\"world\",file=\"output_file.txt\",sep=\"\\n\",append=TRUE)</code>.\n",
    "</div>"
   ]
  },
  {
   "cell_type": "markdown",
   "id": "5934af0f",
   "metadata": {},
   "source": [
    "<a id=\"other\"></a>\n",
    "#### 11.2 Working with other types of file"
   ]
  },
  {
   "cell_type": "markdown",
   "id": "69e72f55",
   "metadata": {},
   "source": [
    "Let's create some data and store it in a list. Here we have some details for a patient. We may want to save this data to a file or transmit it over a network. This could represent many things, such as settings options for a program or app."
   ]
  },
  {
   "cell_type": "code",
   "execution_count": 2,
   "id": "ee38024c",
   "metadata": {},
   "outputs": [],
   "source": [
    "my_data <- list(name=\"Paul Smith\",\n",
    "                id=\"1342\",\n",
    "                age=45,\n",
    "                diagnosis=\"NIDDM\",\n",
    "                PMH=c(\"Hypertension\", \"IBS\", \"Bowel CA\"))"
   ]
  },
  {
   "cell_type": "markdown",
   "id": "55a9a1e8",
   "metadata": {},
   "source": [
    "If you want to make your programs more <code>interoperable</code> (work with other systems and languages) then you should consider using something like JSON (JavaScript Object Notation) instead. JSON is widely supported and is not limited to any specific programming language despite originating from JavaScript. For this we need to use the <code>rjson</code> library."
   ]
  },
  {
   "cell_type": "code",
   "execution_count": 3,
   "id": "6ee149ed",
   "metadata": {},
   "outputs": [
    {
     "name": "stderr",
     "output_type": "stream",
     "text": [
      "Loading required package: rjson\n",
      "\n",
      "Attaching package: 'rjson'\n",
      "\n",
      "The following objects are masked from 'package:jsonlite':\n",
      "\n",
      "    fromJSON, toJSON\n",
      "\n"
     ]
    }
   ],
   "source": [
    "require(rjson)"
   ]
  },
  {
   "cell_type": "code",
   "execution_count": 4,
   "id": "48753a02",
   "metadata": {},
   "outputs": [],
   "source": [
    "json_data <- toJSON(my_data)"
   ]
  },
  {
   "cell_type": "code",
   "execution_count": 5,
   "id": "a492486a",
   "metadata": {},
   "outputs": [
    {
     "data": {
      "text/html": [
       "'{\"name\":\"Paul Smith\",\"id\":\"1342\",\"age\":45,\"diagnosis\":\"NIDDM\",\"PMH\":[\"Hypertension\",\"IBS\",\"Bowel CA\"]}'"
      ],
      "text/latex": [
       "'\\{\"name\":\"Paul Smith\",\"id\":\"1342\",\"age\":45,\"diagnosis\":\"NIDDM\",\"PMH\":{[}\"Hypertension\",\"IBS\",\"Bowel CA\"{]}\\}'"
      ],
      "text/markdown": [
       "'{\"name\":\"Paul Smith\",\"id\":\"1342\",\"age\":45,\"diagnosis\":\"NIDDM\",\"PMH\":[\"Hypertension\",\"IBS\",\"Bowel CA\"]}'"
      ],
      "text/plain": [
       "[1] \"{\\\"name\\\":\\\"Paul Smith\\\",\\\"id\\\":\\\"1342\\\",\\\"age\\\":45,\\\"diagnosis\\\":\\\"NIDDM\\\",\\\"PMH\\\":[\\\"Hypertension\\\",\\\"IBS\\\",\\\"Bowel CA\\\"]}\""
      ]
     },
     "metadata": {},
     "output_type": "display_data"
    }
   ],
   "source": [
    "json_data"
   ]
  },
  {
   "cell_type": "markdown",
   "id": "621ebaf7",
   "metadata": {},
   "source": [
    "Once we have serialized the data into JSON format we can write the data to a file which we will call <code>health_record.json</code>."
   ]
  },
  {
   "cell_type": "code",
   "execution_count": 7,
   "id": "50c68aa5",
   "metadata": {},
   "outputs": [],
   "source": [
    "file_path <- \"./file_handling/B/health_record.json\"\n",
    "write(json_data, file_path)"
   ]
  },
  {
   "cell_type": "markdown",
   "id": "c9b7397f",
   "metadata": {},
   "source": [
    "We can then load the data back into a new variable called <code>health_data</code> and output its contents."
   ]
  },
  {
   "cell_type": "code",
   "execution_count": 9,
   "id": "e2a0a8b8",
   "metadata": {},
   "outputs": [
    {
     "name": "stdout",
     "output_type": "stream",
     "text": [
      "$name\n",
      "[1] \"Paul Smith\"\n",
      "\n",
      "$id\n",
      "[1] \"1342\"\n",
      "\n",
      "$age\n",
      "[1] 45\n",
      "\n",
      "$diagnosis\n",
      "[1] \"NIDDM\"\n",
      "\n",
      "$PMH\n",
      "[1] \"Hypertension\" \"IBS\"          \"Bowel CA\"    \n",
      "\n"
     ]
    }
   ],
   "source": [
    "health_data <- fromJSON(file=file_path)\n",
    "print(health_data)"
   ]
  },
  {
   "cell_type": "markdown",
   "id": "751cc67e",
   "metadata": {},
   "source": [
    "<div class=\"alert alert-block alert-info\">\n",
    "<b>Task 2:</b>\n",
    "<br> \n",
    "1. Using the method above, create some data in a list.<br>\n",
    "2. Use <code>toJSON</code> to save the file in the folder <code>./file_handling/B</code>.<br>\n",
    "3. Load the file into a new empty list and output its contents.<br><br>\n",
    "<strong>Note:</strong> We don't provide a solution here as the data you choose to store will be decided by each individual. \n",
    "</div>"
   ]
  },
  {
   "cell_type": "code",
   "execution_count": 14,
   "id": "bdf17912",
   "metadata": {},
   "outputs": [],
   "source": []
  },
  {
   "cell_type": "markdown",
   "id": "244b5189",
   "metadata": {},
   "source": [
    "<div class=\"alert alert-success\">\n",
    "<b>Note:</b> Additional functionality exists through libraries to work with various file types such as Word documents and PDF files to name a few. For example the <code>docxtractr</code> library that can be used to extract comments and data tables from word documents.\n",
    "</div>"
   ]
  },
  {
   "cell_type": "markdown",
   "id": "d9a50c1e",
   "metadata": {},
   "source": [
    "<a id=\"nav\"></a>\n",
    "#### 11.3 Navigating the file system"
   ]
  },
  {
   "cell_type": "markdown",
   "id": "127a2766",
   "metadata": {},
   "source": [
    "As you can see, to use files we also have to be comfortable with navigating through files and folders. Below is an example of listing the file/folder structure from a root folder. In this case we start at the <code>file_handling</code> folder relative to this notebook."
   ]
  },
  {
   "cell_type": "code",
   "execution_count": 24,
   "id": "456ba03d",
   "metadata": {},
   "outputs": [
    {
     "data": {
      "text/html": [
       "<ol class=list-inline>\n",
       "\t<li>'.'</li>\n",
       "\t<li>'..'</li>\n",
       "\t<li>'A'</li>\n",
       "\t<li>'B'</li>\n",
       "\t<li>'mytestfile.txt'</li>\n",
       "\t<li>'Something in the way.txt'</li>\n",
       "</ol>\n"
      ],
      "text/latex": [
       "\\begin{enumerate*}\n",
       "\\item '.'\n",
       "\\item '..'\n",
       "\\item 'A'\n",
       "\\item 'B'\n",
       "\\item 'mytestfile.txt'\n",
       "\\item 'Something in the way.txt'\n",
       "\\end{enumerate*}\n"
      ],
      "text/markdown": [
       "1. '.'\n",
       "2. '..'\n",
       "3. 'A'\n",
       "4. 'B'\n",
       "5. 'mytestfile.txt'\n",
       "6. 'Something in the way.txt'\n",
       "\n",
       "\n"
      ],
      "text/plain": [
       "[1] \".\"                        \"..\"                      \n",
       "[3] \"A\"                        \"B\"                       \n",
       "[5] \"mytestfile.txt\"           \"Something in the way.txt\""
      ]
     },
     "metadata": {},
     "output_type": "display_data"
    }
   ],
   "source": [
    "list.files(path=\"./file_handling\", pattern=NULL, all.files=TRUE, full.names=FALSE)"
   ]
  },
  {
   "cell_type": "markdown",
   "id": "12e37723",
   "metadata": {},
   "source": [
    "Another useful function in R is the <code>getwd()</code> that gives us the current working directory. We can alter this with <code>setwd()</code> if required:"
   ]
  },
  {
   "cell_type": "code",
   "execution_count": 21,
   "id": "e8701806",
   "metadata": {},
   "outputs": [
    {
     "data": {
      "text/html": [
       "'C:/Users/Alan_Davies/Dropbox (The University of Manchester)/Introduction to programming/Intro to programming (R)'"
      ],
      "text/latex": [
       "'C:/Users/Alan\\_Davies/Dropbox (The University of Manchester)/Introduction to programming/Intro to programming (R)'"
      ],
      "text/markdown": [
       "'C:/Users/Alan_Davies/Dropbox (The University of Manchester)/Introduction to programming/Intro to programming (R)'"
      ],
      "text/plain": [
       "[1] \"C:/Users/Alan_Davies/Dropbox (The University of Manchester)/Introduction to programming/Intro to programming (R)\""
      ]
     },
     "metadata": {},
     "output_type": "display_data"
    }
   ],
   "source": [
    "getwd()"
   ]
  },
  {
   "cell_type": "markdown",
   "id": "528b35cd",
   "metadata": {
    "solution2": "hidden",
    "solution2_first": true
   },
   "source": [
    "<div class=\"alert alert-block alert-info\">\n",
    "<b>Task 3:</b>\n",
    "<br> \n",
    "1. Using <code>list.files</code> as shown above. Modify the code to only display text files.<br>\n",
    "    2. List the files and folders in <code>./file_handling/B</code>.<br><br>\n",
    "    <strong>Hint:</strong> The file extension for a text file is <code>txt</code>.\n",
    "</div>"
   ]
  },
  {
   "cell_type": "code",
   "execution_count": 25,
   "id": "4965a883",
   "metadata": {
    "solution2": "hidden"
   },
   "outputs": [
    {
     "data": {
      "text/html": [
       "<ol class=list-inline>\n",
       "\t<li>'mytestfile.txt'</li>\n",
       "\t<li>'Something in the way.txt'</li>\n",
       "</ol>\n"
      ],
      "text/latex": [
       "\\begin{enumerate*}\n",
       "\\item 'mytestfile.txt'\n",
       "\\item 'Something in the way.txt'\n",
       "\\end{enumerate*}\n"
      ],
      "text/markdown": [
       "1. 'mytestfile.txt'\n",
       "2. 'Something in the way.txt'\n",
       "\n",
       "\n"
      ],
      "text/plain": [
       "[1] \"mytestfile.txt\"           \"Something in the way.txt\""
      ]
     },
     "metadata": {},
     "output_type": "display_data"
    }
   ],
   "source": [
    "list.files(path=\"./file_handling\", pattern=\"txt\", all.files=TRUE, full.names=FALSE)"
   ]
  },
  {
   "cell_type": "code",
   "execution_count": 30,
   "id": "4a342a86",
   "metadata": {
    "solution2": "hidden"
   },
   "outputs": [
    {
     "data": {
      "text/html": [
       "<ol class=list-inline>\n",
       "\t<li>'.'</li>\n",
       "\t<li>'..'</li>\n",
       "\t<li>'Chapter 1.docx'</li>\n",
       "\t<li>'exam data.csv'</li>\n",
       "\t<li>'health_record.json'</li>\n",
       "\t<li>'Sytematic reviews.pdf'</li>\n",
       "</ol>\n"
      ],
      "text/latex": [
       "\\begin{enumerate*}\n",
       "\\item '.'\n",
       "\\item '..'\n",
       "\\item 'Chapter 1.docx'\n",
       "\\item 'exam data.csv'\n",
       "\\item 'health\\_record.json'\n",
       "\\item 'Sytematic reviews.pdf'\n",
       "\\end{enumerate*}\n"
      ],
      "text/markdown": [
       "1. '.'\n",
       "2. '..'\n",
       "3. 'Chapter 1.docx'\n",
       "4. 'exam data.csv'\n",
       "5. 'health_record.json'\n",
       "6. 'Sytematic reviews.pdf'\n",
       "\n",
       "\n"
      ],
      "text/plain": [
       "[1] \".\"                     \"..\"                    \"Chapter 1.docx\"       \n",
       "[4] \"exam data.csv\"         \"health_record.json\"    \"Sytematic reviews.pdf\""
      ]
     },
     "metadata": {},
     "output_type": "display_data"
    }
   ],
   "source": [
    "list.files(path=\"./file_handling/B\", pattern=NULL, all.files=TRUE, full.names=FALSE)"
   ]
  },
  {
   "cell_type": "code",
   "execution_count": null,
   "id": "e9220c6a",
   "metadata": {},
   "outputs": [],
   "source": []
  },
  {
   "cell_type": "code",
   "execution_count": null,
   "id": "7860fbc1",
   "metadata": {},
   "outputs": [],
   "source": []
  },
  {
   "cell_type": "markdown",
   "id": "e911f79d",
   "metadata": {},
   "source": [
    "### Notebook details\n",
    "<br>\n",
    "<i>Notebook created by <strong>Dr. Alan Davies</strong>.\n",
    "<br>\n",
    "&copy; Alan Davies 2022"
   ]
  },
  {
   "cell_type": "markdown",
   "id": "2600c7cf",
   "metadata": {},
   "source": [
    "## Notes:"
   ]
  },
  {
   "cell_type": "code",
   "execution_count": null,
   "id": "6204c758",
   "metadata": {},
   "outputs": [],
   "source": []
  },
  {
   "cell_type": "code",
   "execution_count": null,
   "id": "9f5a1159",
   "metadata": {},
   "outputs": [],
   "source": []
  },
  {
   "cell_type": "code",
   "execution_count": null,
   "id": "8fa47db1",
   "metadata": {},
   "outputs": [],
   "source": []
  },
  {
   "cell_type": "code",
   "execution_count": 1,
   "id": "66f4b903",
   "metadata": {},
   "outputs": [
    {
     "data": {
      "text/html": [
       "<style>\n",
       "div.accessibility {    \n",
       "    background-color: #DDC4DE;\n",
       "    border-color: #8D398F;\n",
       "    border-left: 5px solid #8D398F;\n",
       "    padding: 0.5em;\n",
       "}\n",
       "</style>"
      ],
      "text/plain": [
       "<IPython.core.display.HTML object>"
      ]
     },
     "execution_count": 1,
     "metadata": {},
     "output_type": "execute_result"
    }
   ],
   "source": [
    "# This cell maintains the accessibility of the notebook content.\n",
    "from IPython.core.display import HTML\n",
    "def css_styling():\n",
    "    styles = open(\"./styles/custom.css\", \"r\").read()\n",
    "    return HTML(styles)\n",
    "css_styling()"
   ]
  },
  {
   "cell_type": "code",
   "execution_count": null,
   "id": "c4b5f3ad",
   "metadata": {},
   "outputs": [],
   "source": []
  }
 ],
 "metadata": {
  "hide_input": false,
  "kernelspec": {
   "display_name": "Python 3 (ipykernel)",
   "language": "python",
   "name": "python3"
  },
  "language_info": {
   "codemirror_mode": {
    "name": "ipython",
    "version": 3
   },
   "file_extension": ".py",
   "mimetype": "text/x-python",
   "name": "python",
   "nbconvert_exporter": "python",
   "pygments_lexer": "ipython3",
   "version": "3.9.12"
  }
 },
 "nbformat": 4,
 "nbformat_minor": 5
}
