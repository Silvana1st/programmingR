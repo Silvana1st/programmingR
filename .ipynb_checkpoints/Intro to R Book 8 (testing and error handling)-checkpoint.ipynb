{
 "cells": [
  {
   "cell_type": "markdown",
   "id": "ddaddd97",
   "metadata": {},
   "source": [
    "<img src=\"./intro_images/MIE.PNG\" width=\"100%\" align=\"left\" />"
   ]
  },
  {
   "cell_type": "markdown",
   "id": "e1e543a8",
   "metadata": {},
   "source": [
    "<table style=\"float:right;\">\n",
    "    <tr>\n",
    "        <td>                      \n",
    "            <div style=\"text-align: right\"><a href=\"https://alandavies.netlify.com\" target=\"_blank\">Dr Alan Davies</a></div>\n",
    "            <div style=\"text-align: right\">Senior Lecturer Health Data Science</div>\n",
    "            <div style=\"text-align: right\">University of Manchester</div>\n",
    "         </td>\n",
    "         <td>\n",
    "             <img src=\"./intro_images/alan.PNG\" width=\"30%\" />\n",
    "         </td>\n",
    "     </tr>\n",
    "</table>"
   ]
  },
  {
   "cell_type": "markdown",
   "id": "18cf0e10",
   "metadata": {},
   "source": [
    "# 8.0 Testing and handling errors\n",
    "****"
   ]
  },
  {
   "cell_type": "markdown",
   "id": "02f89a55",
   "metadata": {},
   "source": [
    "#### About this Notebook\n",
    "This notebook introduces the concepts of <code>unit testing</code> and <code>error handling</code> which can be used to make your programs more robust to errors and ensure they work as intended. "
   ]
  },
  {
   "cell_type": "markdown",
   "id": "cb8c4a4a",
   "metadata": {},
   "source": [
    "<div class=\"alert alert-block alert-warning\"><b>Learning Objectives:</b> \n",
    "<br/> At the end of this notebook you will be able to:\n",
    "    \n",
    "- Investigate key features of handling errors in R\n",
    "\n",
    "- Practice writing unit tests to test blocks of code\n",
    "\n",
    "</div> "
   ]
  },
  {
   "cell_type": "markdown",
   "id": "b20a83f2",
   "metadata": {},
   "source": [
    "<a id=\"top\"></a>\n",
    "\n",
    "<b>Table of contents</b><br>\n",
    "\n",
    "8.1 [Error handling](#error)\n",
    "\n",
    "8.2 [Testing](#testing)"
   ]
  },
  {
   "cell_type": "markdown",
   "id": "19a009ff",
   "metadata": {},
   "source": [
    "Another useful thing to be able to do when carrying out calculations is to handle any errors that may arise. <code>syntax</code> errors are when you make an error in the writing of your code such as forgetting a bracket or misspelling a keyword. The other type of error is called an <code>exception</code>. This type of error occurs when running the syntactically correct code leads to an error. We can see an example of this below with the <code>non-numeric argument to binary operator</code> error. This is caused by trying to add a character to a number."
   ]
  },
  {
   "cell_type": "code",
   "execution_count": 1,
   "id": "6991f597",
   "metadata": {},
   "outputs": [
    {
     "ename": "ERROR",
     "evalue": "Error in 10 + \"A\": non-numeric argument to binary operator\n",
     "output_type": "error",
     "traceback": [
      "Error in 10 + \"A\": non-numeric argument to binary operator\nTraceback:\n"
     ]
    }
   ],
   "source": [
    "10 + \"A\""
   ]
  },
  {
   "cell_type": "markdown",
   "id": "84c60fd8",
   "metadata": {},
   "source": [
    "<a id=\"error\"></a>\n",
    "#### 8.1 Error handling"
   ]
  },
  {
   "cell_type": "code",
   "execution_count": 7,
   "id": "ea53d855",
   "metadata": {},
   "outputs": [
    {
     "name": "stdout",
     "output_type": "stream",
     "text": [
      "[1] \"Error, attempting to add character to number\"\n"
     ]
    }
   ],
   "source": [
    "a <- tryCatch((10 + \"A\"), error = function(e){\n",
    "    print(\"Error, attempting to add character to number\")   \n",
    "})"
   ]
  },
  {
   "cell_type": "markdown",
   "id": "3b038ae8",
   "metadata": {},
   "source": [
    "<div class=\"alert alert-success\">\n",
    "<b>Note:</b> For more than one expression you will need to use the braces (<code>{}</code>).\n",
    "</div>"
   ]
  },
  {
   "cell_type": "markdown",
   "id": "e5235aec",
   "metadata": {},
   "source": [
    "This prevents the program from just stopping and allows you take other action, i.e. prompt the user to enter a different input. "
   ]
  },
  {
   "cell_type": "markdown",
   "id": "5ea28d83",
   "metadata": {},
   "source": [
    "You can also try to run some code, deal with an exception or otherwise run some code and finally do something else. The best way to understand this is with an example:"
   ]
  },
  {
   "cell_type": "code",
   "execution_count": 12,
   "id": "f146faf3",
   "metadata": {},
   "outputs": [
    {
     "name": "stdout",
     "output_type": "stream",
     "text": [
      "Numbers halved = 1.5 2.5 3 1.5 2.5 1"
     ]
    },
    {
     "name": "stderr",
     "output_type": "stream",
     "text": [
      "Attempted to halve number(s)\n"
     ]
    }
   ],
   "source": [
    "nums <- c(3, 5, 6, 3, 5, 2)\n",
    "ans <- tryCatch(\n",
    "        {\n",
    "            nums <- nums / 2\n",
    "            cat(\"Numbers halved =\", nums)\n",
    "        },\n",
    "        error=function(e) {\n",
    "            message(\"Input should be numeric and in the form of a vector or scalar\")            \n",
    "        },\n",
    "        warning=function(w) {\n",
    "            message(\"Warning triggered. Here is the original warning message:\")\n",
    "            message(w)\n",
    "        },\n",
    "        finally={\n",
    "            message(\"Attempted to halve number(s)\")\n",
    "        }\n",
    "    ) "
   ]
  },
  {
   "cell_type": "markdown",
   "id": "a699aef8",
   "metadata": {},
   "source": [
    "You can change or add a textual value to the <code>nums</code> vector above and then re-run the cell to see the different error message. The <code>finally</code> bit is where you can run any clean up code that is required whatever the outcome."
   ]
  },
  {
   "cell_type": "code",
   "execution_count": 13,
   "id": "ffbc789a",
   "metadata": {},
   "outputs": [],
   "source": [
    "check_prime <- function(num)\n",
    "{\n",
    "    num <- as.integer(num)\n",
    "    if(num == 1){\n",
    "        return(FALSE)\n",
    "    }else if(num == 2){\n",
    "        return(TRUE)\n",
    "    }else{\n",
    "        for(i in 2:length(num))\n",
    "        {\n",
    "            if(num %% i == 0)\n",
    "            {\n",
    "                return(FALSE)\n",
    "            }\n",
    "        }\n",
    "        return(TRUE) \n",
    "    }\n",
    "}"
   ]
  },
  {
   "cell_type": "code",
   "execution_count": 17,
   "id": "d384f2af",
   "metadata": {},
   "outputs": [
    {
     "name": "stdout",
     "output_type": "stream",
     "text": [
      "Enter a number:45\n",
      "Number is prime? FALSE"
     ]
    }
   ],
   "source": [
    "cat(\"Number is prime?\", check_prime(readline(prompt=\"Enter a number:\")))"
   ]
  },
  {
   "cell_type": "markdown",
   "id": "19dd850f",
   "metadata": {
    "solution2": "hidden",
    "solution2_first": true
   },
   "source": [
    "<div class=\"alert alert-block alert-info\">\n",
    "<b>Task 1:</b>\n",
    "<br> \n",
    "1. Run the code above again but this time enter a boolean value (TRUE or FALSE) or a string. What kind of error does it generate?<br />\n",
    "2. Using the exception handling principles above. Add some exception handling to the <code>check_prime()</code> function to deal with this error using an appropriate message to the user informing them to enter a numerical value. \n",
    "</div>"
   ]
  },
  {
   "cell_type": "code",
   "execution_count": 21,
   "id": "68a79fe3",
   "metadata": {
    "solution2": "hidden"
   },
   "outputs": [],
   "source": [
    "check_prime <- function(num)\n",
    "{\n",
    "    tryCatch({\n",
    "        num <- as.integer(num)\n",
    "        if(num == 1){\n",
    "            return(FALSE)\n",
    "        }else if(num == 2){\n",
    "            return(TRUE)\n",
    "        }else{\n",
    "            for(i in 2:length(num))\n",
    "            {\n",
    "                if(num %% i == 0)\n",
    "                {\n",
    "                    return(FALSE)\n",
    "                }\n",
    "            }\n",
    "            return(TRUE) \n",
    "        }\n",
    "    },\n",
    "    error=function(e) {\n",
    "        message(\"\\nPlease enter a numerical input\")            \n",
    "    })\n",
    "}"
   ]
  },
  {
   "cell_type": "code",
   "execution_count": 22,
   "id": "5850d8dd",
   "metadata": {
    "solution2": "hidden"
   },
   "outputs": [
    {
     "name": "stdout",
     "output_type": "stream",
     "text": [
      "Enter a number:TRUE\n"
     ]
    },
    {
     "name": "stderr",
     "output_type": "stream",
     "text": [
      "Warning message in doTryCatch(return(expr), name, parentenv, handler):\n",
      "\"NAs introduced by coercion\"\n",
      "Please enter a numerical input\n"
     ]
    },
    {
     "name": "stdout",
     "output_type": "stream",
     "text": [
      "Number is prime?"
     ]
    }
   ],
   "source": [
    "cat(\"Number is prime?\", check_prime(readline(prompt=\"Enter a number:\")))"
   ]
  },
  {
   "cell_type": "code",
   "execution_count": null,
   "id": "00dcd9bc",
   "metadata": {},
   "outputs": [],
   "source": []
  },
  {
   "cell_type": "markdown",
   "id": "dfeea34a",
   "metadata": {},
   "source": [
    "<a id=\"testing\"></a>\n",
    "#### 8.2 Testing"
   ]
  },
  {
   "cell_type": "markdown",
   "id": "8c476e12",
   "metadata": {},
   "source": [
    "There are several libraries in R for testing, such as the <code>testthat</code> module. This allows one to construct a test suite where we can add functions to test for specific sorts of errors. These are called <code>unit tests</code> which involve testing the smallest components of functionality in your software, checking they perform as intended. Let's first load the required library."
   ]
  },
  {
   "cell_type": "code",
   "execution_count": 23,
   "id": "0a5b2563",
   "metadata": {},
   "outputs": [
    {
     "name": "stderr",
     "output_type": "stream",
     "text": [
      "Loading required package: testthat\n",
      "Warning message:\n",
      "\"package 'testthat' was built under R version 3.6.3\""
     ]
    }
   ],
   "source": [
    "require(testthat)"
   ]
  },
  {
   "cell_type": "markdown",
   "id": "1fb9ff1d",
   "metadata": {},
   "source": [
    "<div class=\"alert alert-success\">\n",
    "<b>Note:</b> There are levels of testing above unit test, such as integration testing, system testing and acceptance testing within software testing that test higher levels of the software. These higher levels include such things as how different parts of the software work together with each other and the system as a whole.\n",
    "</div>"
   ]
  },
  {
   "cell_type": "markdown",
   "id": "7b903f51",
   "metadata": {},
   "source": [
    "Let's look at an example based on something we did earlier. If we wanted to build a function to convert degrees in fahrenheit to degrees in celsius we could do something like this"
   ]
  },
  {
   "cell_type": "code",
   "execution_count": 25,
   "id": "49ce5793",
   "metadata": {},
   "outputs": [],
   "source": [
    "farenheit_to_celsius <- function(f)\n",
    "{\n",
    "    return((f-32)*5/9)\n",
    "}"
   ]
  },
  {
   "cell_type": "code",
   "execution_count": 26,
   "id": "fa4abf35",
   "metadata": {},
   "outputs": [
    {
     "data": {
      "text/html": [
       "41.6666666666667"
      ],
      "text/latex": [
       "41.6666666666667"
      ],
      "text/markdown": [
       "41.6666666666667"
      ],
      "text/plain": [
       "[1] 41.66667"
      ]
     },
     "metadata": {},
     "output_type": "display_data"
    }
   ],
   "source": [
    "farenheit_to_celsius(107)"
   ]
  },
  {
   "cell_type": "markdown",
   "id": "b9607e2c",
   "metadata": {},
   "source": [
    "So for unit testing we might want to think of some of the ways that we could \"break\" the code. One way to do this is to think what would happen if it was used it in an unusual or unexpected way. We ideally want to design our code to be robust against such errors. One thing that might cause an issue is to pass in a variable type that is not a number, say a string or boolean (TRUE/FALSE) value."
   ]
  },
  {
   "cell_type": "code",
   "execution_count": 27,
   "id": "623b9075",
   "metadata": {},
   "outputs": [
    {
     "ename": "ERROR",
     "evalue": "Error in f - 32: non-numeric argument to binary operator\n",
     "output_type": "error",
     "traceback": [
      "Error in f - 32: non-numeric argument to binary operator\nTraceback:\n",
      "1. farenheit_to_celsius(\"Hello world\")"
     ]
    }
   ],
   "source": [
    "farenheit_to_celsius(\"Hello world\")"
   ]
  },
  {
   "cell_type": "markdown",
   "id": "fa6f0d87",
   "metadata": {},
   "source": [
    "Let's write a unit test to check for some expected values."
   ]
  },
  {
   "cell_type": "code",
   "execution_count": 28,
   "id": "b7b8342b",
   "metadata": {},
   "outputs": [
    {
     "name": "stdout",
     "output_type": "stream",
     "text": [
      "Test passed \n"
     ]
    }
   ],
   "source": [
    "test_that(\"Test expected values\", {\n",
    "  expect_equal(farenheit_to_celsius(32), 0)\n",
    "  expect_equal(farenheit_to_celsius(104), 40)\n",
    "})"
   ]
  },
  {
   "cell_type": "markdown",
   "id": "8b0976c8",
   "metadata": {},
   "source": [
    "Above we can see that the tests passed according to the message <code>Test passed</code>."
   ]
  },
  {
   "cell_type": "code",
   "execution_count": 32,
   "id": "c3f0176e",
   "metadata": {},
   "outputs": [
    {
     "name": "stdout",
     "output_type": "stream",
     "text": [
      "Test passed \n"
     ]
    }
   ],
   "source": [
    "test_that(\"Test expected input type\", {\n",
    "  expect_that(farenheit_to_celsius(32), is_a(\"numeric\"))\n",
    "})"
   ]
  },
  {
   "cell_type": "markdown",
   "id": "e080a382",
   "metadata": {},
   "source": [
    "You can imagine that there are many, many tests you dream up even for a simple piece of functionality. Adding exception handling and unit test to your code can improve its robustness. This is very important if you ever intend to ship your code and share it more widely with others. People expect code to work and not to be buggy. Code with a lot of bugs is unlikely to be recommended to others or taken up more widely. "
   ]
  },
  {
   "cell_type": "markdown",
   "id": "4800397f",
   "metadata": {},
   "source": [
    "<div class=\"alert alert-success\">\n",
    "    <b>Note:</b> You can read the documentation for the <code>testthat</code> package <a href=\"https://cran.r-project.org/web/packages/testthat/testthat.pdf\" target=\"_blank\">here</a>. It has many options for testing different parts of the code base.\n",
    "</div>"
   ]
  },
  {
   "cell_type": "markdown",
   "id": "8239371a",
   "metadata": {
    "solution2": "hidden",
    "solution2_first": true
   },
   "source": [
    "<div class=\"alert alert-block alert-info\">\n",
    "<b>Task 2:</b>\n",
    "<br> \n",
    "    Write a test to check that <code>\"THIS IS SOME TEXT\"</code> is the same as <code>toupper(\"this is some text\")</code>.\n",
    "</div>"
   ]
  },
  {
   "cell_type": "code",
   "execution_count": 33,
   "id": "df6f01bc",
   "metadata": {
    "solution2": "hidden"
   },
   "outputs": [
    {
     "name": "stdout",
     "output_type": "stream",
     "text": [
      "Test passed \n"
     ]
    }
   ],
   "source": [
    "test_that(\"Test text is upper case\", {\n",
    "  expect_equal(\"THIS IS SOME TEXT\", toupper(\"this is some text\"))\n",
    "})"
   ]
  },
  {
   "cell_type": "code",
   "execution_count": null,
   "id": "75fc83be",
   "metadata": {},
   "outputs": [],
   "source": []
  },
  {
   "cell_type": "markdown",
   "id": "366163ed",
   "metadata": {},
   "source": [
    "In the next notebook we will look at importing libraries and other source files in R. You have already seen an examples of this using the <code>testthat</code> library that allows us to access functions to test code. We can also use different source files to split our R programs up into different files and import them into one another. This allows us to create easily reusable and maintainable code."
   ]
  },
  {
   "cell_type": "markdown",
   "id": "e9abbe9b",
   "metadata": {},
   "source": [
    "### Notebook details\n",
    "<br>\n",
    "<i>Notebook created by <strong>Dr. Alan Davies</strong>.\n",
    "<br>\n",
    "&copy; Alan Davies 2022"
   ]
  },
  {
   "cell_type": "markdown",
   "id": "75967349",
   "metadata": {},
   "source": [
    "## Notes:"
   ]
  },
  {
   "cell_type": "code",
   "execution_count": null,
   "id": "0bcf0cee",
   "metadata": {},
   "outputs": [],
   "source": []
  },
  {
   "cell_type": "code",
   "execution_count": null,
   "id": "ca85f5f7",
   "metadata": {},
   "outputs": [],
   "source": []
  }
 ],
 "metadata": {
  "hide_input": false,
  "kernelspec": {
   "display_name": "R",
   "language": "R",
   "name": "ir"
  },
  "language_info": {
   "codemirror_mode": "r",
   "file_extension": ".r",
   "mimetype": "text/x-r-source",
   "name": "R",
   "pygments_lexer": "r",
   "version": "3.6.1"
  }
 },
 "nbformat": 4,
 "nbformat_minor": 5
}
