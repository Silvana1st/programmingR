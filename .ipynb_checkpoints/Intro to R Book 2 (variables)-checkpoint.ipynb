{
 "cells": [
  {
   "cell_type": "markdown",
   "id": "08244760",
   "metadata": {},
   "source": [
    "<img src=\"./intro_images/MIE.PNG\" width=\"100%\" align=\"left\" />"
   ]
  },
  {
   "cell_type": "markdown",
   "id": "9ede9b80",
   "metadata": {},
   "source": [
    "<table style=\"float:right;\">\n",
    "    <tr>\n",
    "        <td>                      \n",
    "            <div style=\"text-align: right\"><a href=\"https://alandavies.netlify.com\" target=\"_blank\">Dr Alan Davies</a></div>\n",
    "            <div style=\"text-align: right\">Senior Lecturer Health Data Science</div>\n",
    "            <div style=\"text-align: right\">University of Manchester</div>\n",
    "         </td>\n",
    "         <td>\n",
    "             <img src=\"./intro_images/alan.PNG\" width=\"30%\" />\n",
    "         </td>\n",
    "     </tr>\n",
    "</table>"
   ]
  },
  {
   "cell_type": "markdown",
   "id": "38d82446",
   "metadata": {},
   "source": [
    "# 2.0 Variables and strings\n",
    "****"
   ]
  },
  {
   "cell_type": "markdown",
   "id": "2f49451f",
   "metadata": {},
   "source": [
    "#### About this Notebook\n",
    "This notebook introduces the concept of <code>variables</code> that can be used to store data that vary in the programs that we write."
   ]
  },
  {
   "cell_type": "markdown",
   "id": "3e641e0e",
   "metadata": {},
   "source": [
    "<div class=\"alert alert-block alert-warning\"><b>Learning Objectives:</b> \n",
    "<br/> At the end of this notebook you will be able to:\n",
    "    \n",
    "- Explore the different types of variable available in R \n",
    "\n",
    "- Practice storing and accessing data in variables of different types\n",
    "    \n",
    "- Explore the storage, access and manipulation of textual data\n",
    "\n",
    "</div> "
   ]
  },
  {
   "cell_type": "markdown",
   "id": "974a3d7f",
   "metadata": {},
   "source": [
    "<a id=\"top\"></a>\n",
    "\n",
    "<b>Table of contents</b><br>\n",
    "\n",
    "2.1 [Variable names](#varnames)\n",
    "\n",
    "2.2 [Working with strings](#workingstrings)\n",
    "\n",
    "2.3 [Changing a variables type](#changingtype)"
   ]
  },
  {
   "cell_type": "markdown",
   "id": "c6d97741",
   "metadata": {},
   "source": [
    "Most programs receive data from some input that the program then manipulates in some way to produce a result or output. This input can be very diverse. For example it maybe a keypress in a video game to move a character on the screen, a list of payroll numbers or some data from a martian probe. In all cases we need to store this data somewhere. In computer programs we use <code>variables</code> to store data. The name variable implies that the thing being stored may vary. Lets look at some examples."
   ]
  },
  {
   "cell_type": "code",
   "execution_count": 6,
   "id": "310cf3c9",
   "metadata": {},
   "outputs": [],
   "source": [
    "x <- 1\n",
    "weight_kg <- 10.56\n",
    "my_name <- \"David Smith\"\n",
    "price <- 6\n",
    "quit <- TRUE"
   ]
  },
  {
   "cell_type": "markdown",
   "id": "af481d98",
   "metadata": {},
   "source": [
    "In the example above we have 4 variables called <code>x</code>, <code>weight_kg</code>, <code>my_name</code>, <code>price</code> and <code>quit</code>. There are 4 main types of data including:<br>\n",
    "<ul>\n",
    "<li><b>Integers</b> - whole number values</li>\n",
    "<li><b>Floating point/double</b> numbers - numbers with a point (period/dot) in them i.e. 10.56</li>\n",
    "<li><b>Strings</b> - contain text</li>\n",
    "<li><b>Boolean</b> - True or False values</li>\n",
    "</ul>\n",
    "R is able to work out which <code>type</code> a variable is based on the value stored within. For example, it knows <code>price</code> is an <code>integer</code> because it contains an integer (whole number) value <code>6</code>."
   ]
  },
  {
   "cell_type": "markdown",
   "id": "a4a96a38",
   "metadata": {},
   "source": [
    "<div class=\"alert alert-success\">\n",
    "<b>Note:</b> We use the term <code>floating point</code> because the dot doesn't necessarily represent a decimal point (base 10). It could be binary (base 2), octal (base 8) or hexidecimal (base 16) to name a few.  \n",
    "</div>"
   ]
  },
  {
   "cell_type": "markdown",
   "id": "3ba18658",
   "metadata": {},
   "source": [
    "The assignment operator <code>&lt;-</code> is used for variable assignment. This is basically saying store the value on the right of the operator in the label on the left of the operator. i.e. <code>x &lt;- 1</code> means put <code>1</code> into a label called <code>x</code>. We can see what is inside a variable (what value it contains) by using the print function and passing in the variable name. We will talk more about functions and passing variables to them later. For now we will just use <code>print()</code> to display values."
   ]
  },
  {
   "cell_type": "code",
   "execution_count": 7,
   "id": "2539cb4b",
   "metadata": {},
   "outputs": [
    {
     "name": "stdout",
     "output_type": "stream",
     "text": [
      "[1] 10.56\n"
     ]
    }
   ],
   "source": [
    "weight_kg <- 10.56\n",
    "print(weight_kg)"
   ]
  },
  {
   "cell_type": "markdown",
   "id": "e83efb26",
   "metadata": {},
   "source": [
    "Note that if we put a value between quotes like we did earlier i.e. <code>\"Hello world\"</code> this is a <code>string</code> (text value), in this case a <code>string literal</code>. If we don't use quotation marks, the value contained in the variable will output instead."
   ]
  },
  {
   "cell_type": "markdown",
   "id": "83e8ae18",
   "metadata": {},
   "source": [
    "Another way of looking at it is like a box that you want to store some data inside which you can give a meaningful label to in order to help organise and store your data i.e. <code>weight_kg &lt;- 10.56</code>"
   ]
  },
  {
   "cell_type": "markdown",
   "id": "65b3c728",
   "metadata": {},
   "source": [
    "<img src=\"./intro_images/box.PNG\" width=\"300\" />"
   ]
  },
  {
   "cell_type": "markdown",
   "id": "3c017e85",
   "metadata": {},
   "source": [
    "We can use the label when we want to retrieve that value later for some computation or other processing. We can also see what type a variable is by using the <code>typeof</code> function. For the <code>weight_kg</code> it is represented by the word <code>double</code> because the value has a point in it."
   ]
  },
  {
   "cell_type": "code",
   "execution_count": 8,
   "id": "cc60d0e2",
   "metadata": {},
   "outputs": [
    {
     "data": {
      "text/html": [
       "'double'"
      ],
      "text/latex": [
       "'double'"
      ],
      "text/markdown": [
       "'double'"
      ],
      "text/plain": [
       "[1] \"double\""
      ]
     },
     "metadata": {},
     "output_type": "display_data"
    }
   ],
   "source": [
    "weight_kg <- 10.56\n",
    "typeof(weight_kg)"
   ]
  },
  {
   "cell_type": "markdown",
   "id": "eaa7986d",
   "metadata": {
    "solution2": "hidden",
    "solution2_first": true
   },
   "source": [
    "<div class=\"alert alert-block alert-info\">\n",
    "<b>Task 1:</b>\n",
    "<br> \n",
    "1. What type do you think the variables above (<code>price</code> and <code>my_name</code>) are?<br> \n",
    "2. Use the <code>typeof()</code> function to check in the cells below.\n",
    "</div>"
   ]
  },
  {
   "cell_type": "code",
   "execution_count": 9,
   "id": "06902191",
   "metadata": {
    "solution2": "hidden"
   },
   "outputs": [
    {
     "data": {
      "text/html": [
       "'double'"
      ],
      "text/latex": [
       "'double'"
      ],
      "text/markdown": [
       "'double'"
      ],
      "text/plain": [
       "[1] \"double\""
      ]
     },
     "metadata": {},
     "output_type": "display_data"
    }
   ],
   "source": [
    "typeof(price)"
   ]
  },
  {
   "cell_type": "code",
   "execution_count": 10,
   "id": "9182f1c1",
   "metadata": {
    "solution2": "hidden"
   },
   "outputs": [
    {
     "data": {
      "text/html": [
       "'character'"
      ],
      "text/latex": [
       "'character'"
      ],
      "text/markdown": [
       "'character'"
      ],
      "text/plain": [
       "[1] \"character\""
      ]
     },
     "metadata": {},
     "output_type": "display_data"
    }
   ],
   "source": [
    "typeof(my_name)"
   ]
  },
  {
   "cell_type": "code",
   "execution_count": null,
   "id": "469029fa",
   "metadata": {},
   "outputs": [],
   "source": []
  },
  {
   "cell_type": "code",
   "execution_count": null,
   "id": "7651d84a",
   "metadata": {},
   "outputs": [],
   "source": []
  },
  {
   "cell_type": "markdown",
   "id": "b7917543",
   "metadata": {},
   "source": [
    "<a id=\"varnames\"></a>\n",
    "#### 2.1 Variable names"
   ]
  },
  {
   "cell_type": "markdown",
   "id": "569e6f6d",
   "metadata": {},
   "source": [
    "In the maths domain variables tend to be labeled with a single letter such as <code>i</code>, <code>x</code> and <code>j</code>... In programming we can afford to use longer and more descriptive labels that better describe the value they hold i.e. <code>weight_kg</code>, which suggests it might contain some data on weight measured in kilograms. The convention in R is often to separate words with a dot. For example <code>data.file</code>. In other languages however the dot is often used to denote objects. So to avoid confusion when using other languages we recommend using <code>snake case</code>. This is where words are written in lower case and separated by an underscore i.e. <code>data_file_loader</code>. Other languages like C and Java use <code>camel case</code> where new words (apart from the first word) are capitalised like the humps on a camel's back (i.e. <code>dataFileLoader</code>). There are a few restrictions to how we can name a variable in Python. These include:\n",
    "<ul>\n",
    "<li>The first character cannot be a number</li>\n",
    "<li>The name can't be the same as an existing R keyword (more about this later)</li>\n",
    "    <li>Variables can't start with an underscore</li>\n",
    "</ul>\n",
    "Variables can contain letters and numbers and be any length. Case is important though. A variable named <code>my_name</code> is not the same as one called <code>My_name</code>. In this case you would have made (declared) 2 separate variables."
   ]
  },
  {
   "cell_type": "markdown",
   "id": "2e0f66cb",
   "metadata": {
    "solution2": "hidden",
    "solution2_first": true
   },
   "source": [
    "<div class=\"alert alert-block alert-info\">\n",
    "<b>Task 2:</b>\n",
    "<br> \n",
    "1. Which of these are legal variable names? <code>_accounts</code>, <code>1005_accounts</code> and <code>my_accounts</code><br> \n",
    "2. Use the cells below to check and assign a value to each variable i.e. <code>_accounts &lt;- 10</code>.\n",
    "</div>"
   ]
  },
  {
   "cell_type": "code",
   "execution_count": 13,
   "id": "6f0b3f13",
   "metadata": {
    "solution2": "hidden"
   },
   "outputs": [
    {
     "ename": "ERROR",
     "evalue": "Error in parse(text = x, srcfile = src): <text>:1:1: unexpected input\n1: _\n    ^\n",
     "output_type": "error",
     "traceback": [
      "Error in parse(text = x, srcfile = src): <text>:1:1: unexpected input\n1: _\n    ^\nTraceback:\n"
     ]
    }
   ],
   "source": [
    "_accounts <- 10"
   ]
  },
  {
   "cell_type": "code",
   "execution_count": null,
   "id": "30941583",
   "metadata": {
    "solution2": "hidden"
   },
   "outputs": [],
   "source": [
    "1005_accounts <- 10"
   ]
  },
  {
   "cell_type": "code",
   "execution_count": null,
   "id": "ac889efe",
   "metadata": {
    "solution2": "hidden"
   },
   "outputs": [],
   "source": [
    "my_accounts <- 10"
   ]
  },
  {
   "cell_type": "code",
   "execution_count": null,
   "id": "bb37457e",
   "metadata": {},
   "outputs": [],
   "source": []
  },
  {
   "cell_type": "code",
   "execution_count": null,
   "id": "4b233001",
   "metadata": {},
   "outputs": [],
   "source": []
  },
  {
   "cell_type": "code",
   "execution_count": null,
   "id": "33a0fdbf",
   "metadata": {},
   "outputs": [],
   "source": []
  },
  {
   "cell_type": "markdown",
   "id": "09197ba0",
   "metadata": {},
   "source": [
    "<a id=\"workingstrings\"></a>\n",
    "#### 2.2 Working with strings"
   ]
  },
  {
   "cell_type": "markdown",
   "id": "1d9825d3",
   "metadata": {},
   "source": [
    "Strings refer to textual data in a programming context. A string is made up of a set of characters. In R strings are defined using either the single or double quotes."
   ]
  },
  {
   "cell_type": "code",
   "execution_count": 14,
   "id": "e7bedfa3",
   "metadata": {},
   "outputs": [
    {
     "data": {
      "text/html": [
       "'This is a string.'"
      ],
      "text/latex": [
       "'This is a string.'"
      ],
      "text/markdown": [
       "'This is a string.'"
      ],
      "text/plain": [
       "[1] \"This is a string.\""
      ]
     },
     "metadata": {},
     "output_type": "display_data"
    }
   ],
   "source": [
    "\"This is a string.\""
   ]
  },
  {
   "cell_type": "code",
   "execution_count": 15,
   "id": "9783e38e",
   "metadata": {},
   "outputs": [
    {
     "data": {
      "text/html": [
       "'So is this.'"
      ],
      "text/latex": [
       "'So is this.'"
      ],
      "text/markdown": [
       "'So is this.'"
      ],
      "text/plain": [
       "[1] \"So is this.\""
      ]
     },
     "metadata": {},
     "output_type": "display_data"
    }
   ],
   "source": [
    "'So is this.'"
   ]
  },
  {
   "cell_type": "markdown",
   "id": "e9f9ad6e",
   "metadata": {},
   "source": [
    "Strings can also be joined together (<code>concatenated</code>) using the <code>cat</code> function where strings are separated using commas."
   ]
  },
  {
   "cell_type": "code",
   "execution_count": 16,
   "id": "9f792276",
   "metadata": {},
   "outputs": [
    {
     "name": "stdout",
     "output_type": "stream",
     "text": [
      "This string can be joined to that string."
     ]
    }
   ],
   "source": [
    "cat(\"This string can be\",\"joined to that string.\")"
   ]
  },
  {
   "cell_type": "markdown",
   "id": "bc5e1598",
   "metadata": {},
   "source": [
    "There are some useful ways of interacting with strings in R. Let's say we had a string:"
   ]
  },
  {
   "cell_type": "code",
   "execution_count": 17,
   "id": "6c12c9a4",
   "metadata": {},
   "outputs": [],
   "source": [
    "my_string <- \"This is a text string.\""
   ]
  },
  {
   "cell_type": "markdown",
   "id": "ae0e1060",
   "metadata": {},
   "source": [
    "We can use the <code>nchar()</code> function to see the length of the string (number of characters in the string)."
   ]
  },
  {
   "cell_type": "code",
   "execution_count": 18,
   "id": "cb8854ff",
   "metadata": {},
   "outputs": [
    {
     "data": {
      "text/html": [
       "22"
      ],
      "text/latex": [
       "22"
      ],
      "text/markdown": [
       "22"
      ],
      "text/plain": [
       "[1] 22"
      ]
     },
     "metadata": {},
     "output_type": "display_data"
    }
   ],
   "source": [
    "nchar(my_string)"
   ]
  },
  {
   "cell_type": "markdown",
   "id": "68eac7dd",
   "metadata": {},
   "source": [
    "<div class=\"alert alert-success\">\n",
    "<b>Note:</b> This also counts the spaces too. These spaces are known as <code>white space</code>. \n",
    "</div>"
   ]
  },
  {
   "cell_type": "markdown",
   "id": "96421d0a",
   "metadata": {},
   "source": [
    "To access certain characters in a string, you just need to specify the position of the character in the string (starting from 1) and an end position. For example to access the letter <code>i</code> in the word <code>this</code> we would write:"
   ]
  },
  {
   "cell_type": "code",
   "execution_count": 19,
   "id": "be66e4c2",
   "metadata": {},
   "outputs": [
    {
     "data": {
      "text/html": [
       "'i'"
      ],
      "text/latex": [
       "'i'"
      ],
      "text/markdown": [
       "'i'"
      ],
      "text/plain": [
       "[1] \"i\""
      ]
     },
     "metadata": {},
     "output_type": "display_data"
    }
   ],
   "source": [
    "substring(my_string, 3,3)"
   ]
  },
  {
   "cell_type": "markdown",
   "id": "d62d6291",
   "metadata": {},
   "source": [
    "If we want to retrieve the whole word, we can provide a start (1) and end (4) position separated by a comma."
   ]
  },
  {
   "cell_type": "code",
   "execution_count": 20,
   "id": "6e5ae31c",
   "metadata": {},
   "outputs": [
    {
     "data": {
      "text/html": [
       "'This'"
      ],
      "text/latex": [
       "'This'"
      ],
      "text/markdown": [
       "'This'"
      ],
      "text/plain": [
       "[1] \"This\""
      ]
     },
     "metadata": {},
     "output_type": "display_data"
    }
   ],
   "source": [
    "substring(my_string, 1,4)"
   ]
  },
  {
   "cell_type": "markdown",
   "id": "5618a915",
   "metadata": {},
   "source": [
    "This is called string <code>slicing</code>. Here are some further examples:"
   ]
  },
  {
   "cell_type": "code",
   "execution_count": 21,
   "id": "e26b54e7",
   "metadata": {},
   "outputs": [
    {
     "name": "stdout",
     "output_type": "stream",
     "text": [
      "[1] \"This is a text string.\"\n",
      "[1] \".\"\n",
      "[1] \"s is a text st\"\n"
     ]
    }
   ],
   "source": [
    "print(substring(my_string, 1, nchar(my_string)))\n",
    "print(substring(my_string, nchar(my_string), nchar(my_string)))\n",
    "print(substring(my_string, 4, nchar(my_string)-5))"
   ]
  },
  {
   "cell_type": "markdown",
   "id": "a9d7817f",
   "metadata": {},
   "source": [
    "This is useful for processing textual data."
   ]
  },
  {
   "cell_type": "markdown",
   "id": "20a15e9a",
   "metadata": {
    "solution2": "hidden",
    "solution2_first": true
   },
   "source": [
    "<div class=\"alert alert-block alert-info\">\n",
    "<b>Task 3:</b>\n",
    "<br> Using string slicing, print the word <code>text</code> from <code>my_string</code>.\n",
    "</div>"
   ]
  },
  {
   "cell_type": "code",
   "execution_count": null,
   "id": "3177ca66",
   "metadata": {
    "solution2": "hidden"
   },
   "outputs": [],
   "source": [
    "substring(my_string, 11, 14)"
   ]
  },
  {
   "cell_type": "code",
   "execution_count": null,
   "id": "04dad0be",
   "metadata": {},
   "outputs": [],
   "source": []
  },
  {
   "cell_type": "markdown",
   "id": "cd7f0e96",
   "metadata": {},
   "source": [
    "It is important to also realise that numbers enclosed in quotes are strings and not numbers."
   ]
  },
  {
   "cell_type": "code",
   "execution_count": 22,
   "id": "eedbe82e",
   "metadata": {},
   "outputs": [
    {
     "name": "stdout",
     "output_type": "stream",
     "text": [
      "[1] \"123\"\n",
      "[1] \"character\"\n"
     ]
    }
   ],
   "source": [
    "x <- \"123\"\n",
    "print(x)\n",
    "print(typeof(x))"
   ]
  },
  {
   "cell_type": "markdown",
   "id": "5cf00775",
   "metadata": {},
   "source": [
    "<div class=\"alert alert-success\">\n",
    "<b>Note:</b> This can catch you out when doing things like asking for user input. This input may look like a number but may in fact be a string.\n",
    "</div>"
   ]
  },
  {
   "cell_type": "markdown",
   "id": "4c356963",
   "metadata": {},
   "source": [
    "In the next cell we try and add the number 4 to our string which causes an error. We get around this by using <code>type casting</code> to change the integer 4 into a character 4. We can then add it to the string. We discuss this in more detail in section 1.3"
   ]
  },
  {
   "cell_type": "code",
   "execution_count": 23,
   "id": "3e94c485",
   "metadata": {},
   "outputs": [
    {
     "ename": "ERROR",
     "evalue": "Error in x + 4: non-numeric argument to binary operator\n",
     "output_type": "error",
     "traceback": [
      "Error in x + 4: non-numeric argument to binary operator\nTraceback:\n"
     ]
    }
   ],
   "source": [
    "x + 4"
   ]
  },
  {
   "cell_type": "code",
   "execution_count": 24,
   "id": "34eb0f08",
   "metadata": {},
   "outputs": [
    {
     "name": "stdout",
     "output_type": "stream",
     "text": [
      "1234"
     ]
    }
   ],
   "source": [
    "cat(x, as.character(4), sep = \"\")"
   ]
  },
  {
   "cell_type": "markdown",
   "id": "f35f7465",
   "metadata": {},
   "source": [
    "Alternatively we could turn the string <code>x</code> into an integer and add the number 4 to it."
   ]
  },
  {
   "cell_type": "code",
   "execution_count": 25,
   "id": "92bb6b43",
   "metadata": {},
   "outputs": [
    {
     "data": {
      "text/html": [
       "127"
      ],
      "text/latex": [
       "127"
      ],
      "text/markdown": [
       "127"
      ],
      "text/plain": [
       "[1] 127"
      ]
     },
     "metadata": {},
     "output_type": "display_data"
    }
   ],
   "source": [
    "as.numeric(x) + 4"
   ]
  },
  {
   "cell_type": "markdown",
   "id": "0a8dda37",
   "metadata": {},
   "source": [
    "You can display strings with variables in several ways including using the <code>paste0</code>, <code>cat</code> and <code>sprintf</code> functions."
   ]
  },
  {
   "cell_type": "code",
   "execution_count": 26,
   "id": "da147cf5",
   "metadata": {},
   "outputs": [],
   "source": [
    "name <- \"Claire\""
   ]
  },
  {
   "cell_type": "code",
   "execution_count": 27,
   "id": "9e49ee17",
   "metadata": {},
   "outputs": [
    {
     "name": "stdout",
     "output_type": "stream",
     "text": [
      "[1] \"This is to say hi to Claire\"\n"
     ]
    }
   ],
   "source": [
    "print(paste0(\"This is to say hi to \", name))"
   ]
  },
  {
   "cell_type": "code",
   "execution_count": 28,
   "id": "d02e6d76",
   "metadata": {},
   "outputs": [
    {
     "name": "stdout",
     "output_type": "stream",
     "text": [
      "This is to say hi to Claire"
     ]
    }
   ],
   "source": [
    "cat(\"This is to say hi to\", name)"
   ]
  },
  {
   "cell_type": "code",
   "execution_count": 39,
   "id": "efab0aec",
   "metadata": {},
   "outputs": [
    {
     "data": {
      "text/html": [
       "'This is to say hi to Claire'"
      ],
      "text/latex": [
       "'This is to say hi to Claire'"
      ],
      "text/markdown": [
       "'This is to say hi to Claire'"
      ],
      "text/plain": [
       "[1] \"This is to say hi to Claire\""
      ]
     },
     "metadata": {},
     "output_type": "display_data"
    }
   ],
   "source": [
    "sprintf(\"This is to say hi to %s\", name)"
   ]
  },
  {
   "cell_type": "markdown",
   "id": "b1a085fb",
   "metadata": {},
   "source": [
    "The <code>sprintf</code> is inspired by the <code>C</code> language and uses percentages as placeholders and format for text. The letter after the percent is related to the type of variable you want to print. The <code>%s</code> is for <code>string</code>. Some of the more commonly used letters can be seen below."
   ]
  },
  {
   "cell_type": "markdown",
   "id": "c8a59cf2",
   "metadata": {},
   "source": [
    "<style type=\"text/css\">\n",
    ".tg  {border-collapse:collapse;border-spacing:0;}\n",
    ".tg td{font-family:Arial, sans-serif;font-size:14px;padding:10px 5px;border-style:solid;border-width:1px;overflow:hidden;word-break:normal;border-color:black;}\n",
    ".tg th{font-family:Arial, sans-serif;font-size:14px;font-weight:normal;padding:10px 5px;border-style:solid;border-width:1px;overflow:hidden;word-break:normal;border-color:black;}\n",
    ".tg .tg-kiyi{font-weight:bold;border-color:inherit;text-align:left}\n",
    ".tg .tg-fymr{font-weight:bold;border-color:inherit;text-align:left;vertical-align:top}\n",
    ".tg .tg-xldj{border-color:inherit;text-align:left}\n",
    ".tg .tg-0pky{border-color:inherit;text-align:left;vertical-align:top}\n",
    "</style>\n",
    "<table class=\"tg\">\n",
    "  <tr>\n",
    "    <th class=\"tg-kiyi\">Letter</th>\n",
    "    <th class=\"tg-kiyi\">Variable type</th>\n",
    "  </tr>\n",
    "  <tr>\n",
    "    <td class=\"tg-xldj\">d, i</td>   \n",
    "    <td class=\"tg-0pky\">Integer</td>\n",
    "  </tr>\n",
    "   <tr>\n",
    "    <td class=\"tg-xldj\">s</td>   \n",
    "    <td class=\"tg-0pky\">String</td>\n",
    "  </tr>\n",
    "   <tr>\n",
    "    <td class=\"tg-xldj\">f, g</td>   \n",
    "    <td class=\"tg-0pky\">Float</td>\n",
    "  </tr>\n",
    "</table>"
   ]
  },
  {
   "cell_type": "markdown",
   "id": "6feb883e",
   "metadata": {},
   "source": [
    "We can also use the <code>message</code> function to send messages of importance to the user:"
   ]
  },
  {
   "cell_type": "code",
   "execution_count": 76,
   "id": "62dc927b",
   "metadata": {},
   "outputs": [
    {
     "name": "stderr",
     "output_type": "stream",
     "text": [
      "Something went wrong!\n"
     ]
    }
   ],
   "source": [
    "message(\"Something went wrong!\")"
   ]
  },
  {
   "cell_type": "markdown",
   "id": "70db83f1",
   "metadata": {},
   "source": [
    "Another useful thing to be able to do is to find a word within a string. Let's say we were looking for a certain keyword in a string of text, such as <code>syncope</code> (a temporary loss of consciousness) in a longer string of text."
   ]
  },
  {
   "cell_type": "code",
   "execution_count": 29,
   "id": "a3e1dd83",
   "metadata": {},
   "outputs": [],
   "source": [
    "presenting_complaint <- \"A 68 year old male complained of feeling feint followed by an episode of syncope and headache.\""
   ]
  },
  {
   "cell_type": "code",
   "execution_count": 30,
   "id": "ba03ca2a",
   "metadata": {},
   "outputs": [
    {
     "data": {
      "text/html": [
       "TRUE"
      ],
      "text/latex": [
       "TRUE"
      ],
      "text/markdown": [
       "TRUE"
      ],
      "text/plain": [
       "[1] TRUE"
      ]
     },
     "metadata": {},
     "output_type": "display_data"
    }
   ],
   "source": [
    "grepl(\"syncope\", presenting_complaint)"
   ]
  },
  {
   "cell_type": "markdown",
   "id": "e72feaa1",
   "metadata": {},
   "source": [
    "This returns <code>TRUE</code> if found otherwise <code>FALSE</code>."
   ]
  },
  {
   "cell_type": "code",
   "execution_count": 31,
   "id": "02ab9839",
   "metadata": {},
   "outputs": [
    {
     "data": {
      "text/html": [
       "FALSE"
      ],
      "text/latex": [
       "FALSE"
      ],
      "text/markdown": [
       "FALSE"
      ],
      "text/plain": [
       "[1] FALSE"
      ]
     },
     "metadata": {},
     "output_type": "display_data"
    }
   ],
   "source": [
    "grepl(\"stroke\", presenting_complaint)"
   ]
  },
  {
   "cell_type": "markdown",
   "id": "aed398d6",
   "metadata": {},
   "source": [
    "You can also split a string up based on a character called a <code>delimiter</code>. In this case we can split the string by spaces. We could also split by comma or other character if relevant."
   ]
  },
  {
   "cell_type": "code",
   "execution_count": 32,
   "id": "831c6952",
   "metadata": {},
   "outputs": [
    {
     "name": "stdout",
     "output_type": "stream",
     "text": [
      "[[1]]\n",
      " [1] \"A\"          \"68\"         \"year\"       \"old\"        \"male\"      \n",
      " [6] \"complained\" \"of\"         \"feeling\"    \"feint\"      \"followed\"  \n",
      "[11] \"by\"         \"an\"         \"episode\"    \"of\"         \"syncope\"   \n",
      "[16] \"and\"        \"headache.\" \n",
      "\n"
     ]
    }
   ],
   "source": [
    "words <- strsplit(presenting_complaint, \" \")\n",
    "print(words)"
   ]
  },
  {
   "cell_type": "markdown",
   "id": "dd49dfe8",
   "metadata": {},
   "source": [
    "<div class=\"alert alert-success\">\n",
    "<b>Note:</b> This splits items and stores them as elements (items) in a <code>list</code> separated by commas. We will cover list's a little later. \n",
    "</div>"
   ]
  },
  {
   "cell_type": "markdown",
   "id": "e24f2843",
   "metadata": {},
   "source": [
    "You can also add a character in between when joining. Let's say you had some data you wanted to separate with dashes or with no separation at all, for example DNA."
   ]
  },
  {
   "cell_type": "code",
   "execution_count": 58,
   "id": "e280efc7",
   "metadata": {},
   "outputs": [
    {
     "data": {
      "text/html": [
       "<ol class=list-inline>\n",
       "\t<li>'ctga'</li>\n",
       "\t<li>'ccta'</li>\n",
       "\t<li>'aact'</li>\n",
       "</ol>\n"
      ],
      "text/latex": [
       "\\begin{enumerate*}\n",
       "\\item 'ctga'\n",
       "\\item 'ccta'\n",
       "\\item 'aact'\n",
       "\\end{enumerate*}\n"
      ],
      "text/markdown": [
       "1. 'ctga'\n",
       "2. 'ccta'\n",
       "3. 'aact'\n",
       "\n",
       "\n"
      ],
      "text/plain": [
       "[1] \"ctga\" \"ccta\" \"aact\""
      ]
     },
     "metadata": {},
     "output_type": "display_data"
    }
   ],
   "source": [
    "x <- c(\"ctga\", \"ccta\", \"aact\")\n",
    "x"
   ]
  },
  {
   "cell_type": "code",
   "execution_count": 60,
   "id": "003105d5",
   "metadata": {},
   "outputs": [
    {
     "name": "stdout",
     "output_type": "stream",
     "text": [
      "[1] \"ctga-ccta-aact\"\n"
     ]
    }
   ],
   "source": [
    "data_joined_dash <- paste(x, collapse=\"-\")\n",
    "print(data_joined_dash)"
   ]
  },
  {
   "cell_type": "code",
   "execution_count": 61,
   "id": "0742d24a",
   "metadata": {},
   "outputs": [
    {
     "name": "stdout",
     "output_type": "stream",
     "text": [
      "[1] \"ctgacctaaact\"\n"
     ]
    }
   ],
   "source": [
    "data_joined_nospace <- paste(x, collapse=\"\")\n",
    "print(data_joined_nospace)"
   ]
  },
  {
   "cell_type": "code",
   "execution_count": 62,
   "id": "6e1071ea",
   "metadata": {},
   "outputs": [],
   "source": [
    "comma_string <- \"name, dob, pmh, social_history, lab_results, next_of_kin\""
   ]
  },
  {
   "cell_type": "markdown",
   "id": "11f188af",
   "metadata": {
    "solution2": "hidden",
    "solution2_first": true
   },
   "source": [
    "<div class=\"alert alert-block alert-info\">\n",
    "<b>Task 4:</b>\n",
    "<br> Using the string split function. Split the string <code>comma_string</code> by comma.\n",
    "</div>"
   ]
  },
  {
   "cell_type": "code",
   "execution_count": 63,
   "id": "b426b645",
   "metadata": {
    "solution2": "hidden"
   },
   "outputs": [
    {
     "name": "stdout",
     "output_type": "stream",
     "text": [
      "[[1]]\n",
      "[1] \"name\"            \" dob\"            \" pmh\"            \" social_history\"\n",
      "[5] \" lab_results\"    \" next_of_kin\"   \n",
      "\n"
     ]
    }
   ],
   "source": [
    "words <- strsplit(comma_string, \",\")\n",
    "print(words)"
   ]
  },
  {
   "cell_type": "code",
   "execution_count": null,
   "id": "78bea85e",
   "metadata": {},
   "outputs": [],
   "source": []
  },
  {
   "cell_type": "markdown",
   "id": "50c17678",
   "metadata": {},
   "source": [
    "We can also replace a word or words in a string with other words. Let's say we wanted to replace <code>syncope</code> with <code>LOC</code> for Loss Of Consciousness because we think this is a more recognized word. Here we use the <code>gsub</code> function and put the word we want to replace first followed by a comma and then the new word."
   ]
  },
  {
   "cell_type": "code",
   "execution_count": 64,
   "id": "3295475a",
   "metadata": {},
   "outputs": [
    {
     "data": {
      "text/html": [
       "'A 68 year old male complained of feeling feint followed by an episode of LOC and headache.'"
      ],
      "text/latex": [
       "'A 68 year old male complained of feeling feint followed by an episode of LOC and headache.'"
      ],
      "text/markdown": [
       "'A 68 year old male complained of feeling feint followed by an episode of LOC and headache.'"
      ],
      "text/plain": [
       "[1] \"A 68 year old male complained of feeling feint followed by an episode of LOC and headache.\""
      ]
     },
     "metadata": {},
     "output_type": "display_data"
    }
   ],
   "source": [
    "gsub(\"syncope\", \"LOC\", presenting_complaint) "
   ]
  },
  {
   "cell_type": "markdown",
   "id": "e02e1bb9",
   "metadata": {},
   "source": [
    "Other useful string functions include:"
   ]
  },
  {
   "cell_type": "markdown",
   "id": "053925f9",
   "metadata": {},
   "source": [
    "<style type=\"text/css\">\n",
    ".tg  {border-collapse:collapse;border-spacing:0;}\n",
    ".tg td{font-family:Arial, sans-serif;font-size:14px;padding:10px 5px;border-style:solid;border-width:1px;overflow:hidden;word-break:normal;border-color:black;}\n",
    ".tg th{font-family:Arial, sans-serif;font-size:14px;font-weight:normal;padding:10px 5px;border-style:solid;border-width:1px;overflow:hidden;word-break:normal;border-color:black;}\n",
    ".tg .tg-kiyi{font-weight:bold;border-color:inherit;text-align:left}\n",
    ".tg .tg-fymr{font-weight:bold;border-color:inherit;text-align:left;vertical-align:top}\n",
    ".tg .tg-xldj{border-color:inherit;text-align:left}\n",
    ".tg .tg-0pky{border-color:inherit;text-align:left;vertical-align:top}\n",
    "</style>\n",
    "<table class=\"tg\">\n",
    "  <tr>\n",
    "    <th class=\"tg-kiyi\">Function</th>\n",
    "    <th class=\"tg-kiyi\">Description</th>\n",
    "  </tr>\n",
    "  <tr>\n",
    "    <td class=\"tg-xldj\">tolower()</td>   \n",
    "    <td class=\"tg-0pky\">Changes text to lower case</td>\n",
    "  </tr>\n",
    "  <tr>\n",
    "    <td class=\"tg-xldj\">toupper()</td>   \n",
    "    <td class=\"tg-0pky\">Changes text to upper case (capitals)</td>\n",
    "  </tr>\n",
    "  <tr>\n",
    "    <td class=\"tg-xldj\">substr()</td>   \n",
    "    <td class=\"tg-0pky\">Extracts parts of a string (sub-strings)</td>\n",
    "  </tr>\n",
    "  <tr>\n",
    "    <td class=\"tg-xldj\">grep()</td>   \n",
    "    <td class=\"tg-0pky\">Search for matches within a string</td>\n",
    "  </tr>\n",
    "  <tr>\n",
    "    <td class=\"tg-xldj\">strsplit()</td>   \n",
    "    <td class=\"tg-0pky\">Splits a string into sub-strings</td>\n",
    "  </tr>\n",
    "  <tr>\n",
    "    <td class=\"tg-xldj\">paste()</td>   \n",
    "    <td class=\"tg-0pky\">Turns objects into characters and concatenates</td>\n",
    "  </tr>\n",
    "  <tr>\n",
    "    <td class=\"tg-xldj\">sub()</td>   \n",
    "    <td class=\"tg-0pky\">Replaces the first occurrence of sub string in a string</td>\n",
    "  </tr>\n",
    "</table>"
   ]
  },
  {
   "cell_type": "markdown",
   "id": "70533ae1",
   "metadata": {},
   "source": [
    "There are also a list of <code>escape characters</code> that can be used inside strings. For example <code>\\t</code> for <code>tab</code>."
   ]
  },
  {
   "cell_type": "code",
   "execution_count": 66,
   "id": "7e59508f",
   "metadata": {},
   "outputs": [
    {
     "name": "stdout",
     "output_type": "stream",
     "text": [
      "This is \t a tab"
     ]
    }
   ],
   "source": [
    "cat(\"This is \\t a tab\")"
   ]
  },
  {
   "cell_type": "code",
   "execution_count": 67,
   "id": "8435dce7",
   "metadata": {},
   "outputs": [
    {
     "name": "stdout",
     "output_type": "stream",
     "text": [
      "This is a \n",
      " newline"
     ]
    }
   ],
   "source": [
    "cat(\"This is a \\n newline\")"
   ]
  },
  {
   "cell_type": "code",
   "execution_count": 68,
   "id": "0a4ac863",
   "metadata": {},
   "outputs": [
    {
     "name": "stdout",
     "output_type": "stream",
     "text": [
      "This is a \n",
      "\r",
      " newline and carriage return (like an old typewritter)"
     ]
    }
   ],
   "source": [
    "cat(\"This is a \\n\\r newline and carriage return (like an old typewritter)\")"
   ]
  },
  {
   "cell_type": "markdown",
   "id": "c6966596",
   "metadata": {},
   "source": [
    "<a id=\"changingtype\"></a>\n",
    "#### 2.3 Changing a variables type"
   ]
  },
  {
   "cell_type": "markdown",
   "id": "92cca793",
   "metadata": {},
   "source": [
    "To store and process the values contained inside variables you may need to change their type from time to time (called <code>type casting</code>). For example when storing a phone number, we might want to store this as text rather than as an integer. There are several functions in R for altering a variables type, including <code>as.chracter()</code>, <code>as.logical()</code>, <code>as.integer()</code> and <code>as.numeric()</code>. "
   ]
  },
  {
   "cell_type": "code",
   "execution_count": 72,
   "id": "7910b460",
   "metadata": {},
   "outputs": [
    {
     "data": {
      "text/html": [
       "'double'"
      ],
      "text/latex": [
       "'double'"
      ],
      "text/markdown": [
       "'double'"
      ],
      "text/plain": [
       "[1] \"double\""
      ]
     },
     "metadata": {},
     "output_type": "display_data"
    }
   ],
   "source": [
    "pi <- 3.141592\n",
    "typeof(pi)"
   ]
  },
  {
   "cell_type": "code",
   "execution_count": 73,
   "id": "ab5c598b",
   "metadata": {},
   "outputs": [
    {
     "data": {
      "text/html": [
       "'character'"
      ],
      "text/latex": [
       "'character'"
      ],
      "text/markdown": [
       "'character'"
      ],
      "text/plain": [
       "[1] \"character\""
      ]
     },
     "metadata": {},
     "output_type": "display_data"
    }
   ],
   "source": [
    "pi <- as.character(pi)\n",
    "typeof(pi)"
   ]
  },
  {
   "cell_type": "markdown",
   "id": "84ecaf27",
   "metadata": {},
   "source": [
    "In the example above, we declare a variable called <code>pi</code> and give it the value <code>3.141592</code> to represent the Greek letter pi ($\\pi$) that represents the ratio of a circumference of a circle to its diameter. When we use the <code>typeof</code> function we can see that it is a <code>double</code>. Next we use the <code>as.character()</code> function to convert it into a string and overwrite the existing value. Now when we view the type it is a <code>character (string)</code>."
   ]
  },
  {
   "cell_type": "markdown",
   "id": "6b9f78b1",
   "metadata": {
    "solution2": "hidden",
    "solution2_first": true
   },
   "source": [
    "<div class=\"alert alert-block alert-info\">\n",
    "<b>Task 5:</b>\n",
    "<br> 1. Cast the variable <code>pi</code> back into a <code>double</code> and then into an <code>integer</code>. Finally print its contents and it's type.\n",
    "<br> 2. What value would you expect to see?\n",
    "</div>"
   ]
  },
  {
   "cell_type": "code",
   "execution_count": 74,
   "id": "6989c68a",
   "metadata": {
    "solution2": "hidden"
   },
   "outputs": [
    {
     "name": "stdout",
     "output_type": "stream",
     "text": [
      "[1] 3\n"
     ]
    },
    {
     "data": {
      "text/html": [
       "'integer'"
      ],
      "text/latex": [
       "'integer'"
      ],
      "text/markdown": [
       "'integer'"
      ],
      "text/plain": [
       "[1] \"integer\""
      ]
     },
     "metadata": {},
     "output_type": "display_data"
    }
   ],
   "source": [
    "pi <- as.double(pi)\n",
    "pi <- as.integer(pi)\n",
    "print(pi)\n",
    "typeof(pi)"
   ]
  },
  {
   "cell_type": "markdown",
   "id": "21efa0d1",
   "metadata": {
    "solution2": "hidden"
   },
   "source": [
    "Or combining steps"
   ]
  },
  {
   "cell_type": "code",
   "execution_count": 75,
   "id": "989f466a",
   "metadata": {
    "solution2": "hidden"
   },
   "outputs": [
    {
     "name": "stdout",
     "output_type": "stream",
     "text": [
      "[1] 3\n"
     ]
    },
    {
     "data": {
      "text/html": [
       "'integer'"
      ],
      "text/latex": [
       "'integer'"
      ],
      "text/markdown": [
       "'integer'"
      ],
      "text/plain": [
       "[1] \"integer\""
      ]
     },
     "metadata": {},
     "output_type": "display_data"
    }
   ],
   "source": [
    "pi <- as.integer(as.double(pi))\n",
    "print(pi)\n",
    "typeof(pi)"
   ]
  },
  {
   "cell_type": "code",
   "execution_count": null,
   "id": "e6373d99",
   "metadata": {},
   "outputs": [],
   "source": []
  },
  {
   "cell_type": "markdown",
   "id": "4c73e524",
   "metadata": {},
   "source": [
    "In the next notebook we will take a look at how to add comments to code to document the code base and keywords used in the R programming language. "
   ]
  },
  {
   "cell_type": "markdown",
   "id": "ca456426",
   "metadata": {},
   "source": [
    "### Notebook details\n",
    "<br>\n",
    "<i>Notebook created by <strong>Dr. Alan Davies</strong>.\n",
    "<br>\n",
    "&copy; Alan Davies 2022"
   ]
  },
  {
   "cell_type": "code",
   "execution_count": 11,
   "id": "67ddc722",
   "metadata": {},
   "outputs": [],
   "source": []
  },
  {
   "cell_type": "code",
   "execution_count": null,
   "id": "43892011",
   "metadata": {},
   "outputs": [],
   "source": []
  },
  {
   "cell_type": "code",
   "execution_count": null,
   "id": "01ac03e2",
   "metadata": {},
   "outputs": [],
   "source": []
  }
 ],
 "metadata": {
  "hide_input": false,
  "kernelspec": {
   "display_name": "R",
   "language": "R",
   "name": "ir"
  },
  "language_info": {
   "codemirror_mode": "r",
   "file_extension": ".r",
   "mimetype": "text/x-r-source",
   "name": "R",
   "pygments_lexer": "r",
   "version": "3.6.1"
  }
 },
 "nbformat": 4,
 "nbformat_minor": 5
}
