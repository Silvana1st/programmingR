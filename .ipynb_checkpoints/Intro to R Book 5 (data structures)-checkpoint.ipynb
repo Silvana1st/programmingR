{
 "cells": [
  {
   "cell_type": "markdown",
   "id": "2cd21985",
   "metadata": {},
   "source": [
    "<img src=\"./intro_images/MIE.PNG\" width=\"100%\" align=\"left\" />"
   ]
  },
  {
   "cell_type": "markdown",
   "id": "fb1d18d2",
   "metadata": {},
   "source": [
    "<table style=\"float:right;\">\n",
    "    <tr>\n",
    "        <td>                      \n",
    "            <div style=\"text-align: right\"><a href=\"https://alandavies.netlify.com\" target=\"_blank\">Dr Alan Davies</a></div>\n",
    "            <div style=\"text-align: right\">Senior Lecturer Health Data Science</div>\n",
    "            <div style=\"text-align: right\">University of Manchester</div>\n",
    "         </td>\n",
    "         <td>\n",
    "             <img src=\"./intro_images/alan.PNG\" width=\"30%\" />\n",
    "         </td>\n",
    "     </tr>\n",
    "</table>"
   ]
  },
  {
   "cell_type": "markdown",
   "id": "614002a9",
   "metadata": {},
   "source": [
    "# 5.0 Data structures\n",
    "****"
   ]
  },
  {
   "cell_type": "markdown",
   "id": "3e7dbe17",
   "metadata": {},
   "source": [
    "#### About this Notebook\n",
    "This notebook introduces <code>data structures</code> in R These can be used to store data in more complex structures."
   ]
  },
  {
   "cell_type": "markdown",
   "id": "fe359c39",
   "metadata": {},
   "source": [
    "<div class=\"alert alert-block alert-warning\"><b>Learning Objectives:</b> \n",
    "<br/> At the end of this notebook you will be able to:\n",
    "    \n",
    "- Explore and practice using the main data structures available in R \n",
    "\n",
    "- Investigate how data can be stored and accessed in these structures \n",
    "\n",
    "</div> "
   ]
  },
  {
   "cell_type": "markdown",
   "id": "bfb31813",
   "metadata": {},
   "source": [
    "<a id=\"top\"></a>\n",
    "\n",
    "<b>Table of contents</b><br>\n",
    "\n",
    "5.1 [Atomic vectors](#vec)\n",
    "\n",
    "5.2 [Lists](#lists)\n",
    "\n",
    "5.3 [Matrices](#matrix)\n",
    "\n",
    "5.4 [Data frames](#df)"
   ]
  },
  {
   "cell_type": "markdown",
   "id": "38fdd52c",
   "metadata": {},
   "source": [
    "So far we have been using simple variables to store single items of data for our programs. R supports more advanced data structures for storing and organising data. These include <code>vectors</code>, <code>lists</code>, <code>matrices</code> and <code>data frames</code>. We will examine each in turn."
   ]
  },
  {
   "cell_type": "markdown",
   "id": "1abaa1cd",
   "metadata": {},
   "source": [
    "<a id=\"vec\"></a>\n",
    "#### 5.1 Atomic vectors"
   ]
  },
  {
   "cell_type": "markdown",
   "id": "dc11bbe6",
   "metadata": {},
   "source": [
    "Vectors can contain multiple variables. Below we create a vector called <code>fruit</code> and using brackets we add three items (in this case strings) to the vector separated by commas. We can use the <code>length()</code> function to see how many items <code>elements</code> are contained in our vector."
   ]
  },
  {
   "cell_type": "code",
   "execution_count": 1,
   "id": "d6c16743",
   "metadata": {},
   "outputs": [],
   "source": [
    "fruit <- c('apple', 'pear', 'banana')"
   ]
  },
  {
   "cell_type": "code",
   "execution_count": 2,
   "id": "71b6286a",
   "metadata": {},
   "outputs": [
    {
     "data": {
      "text/html": [
       "<ol class=list-inline>\n",
       "\t<li>'apple'</li>\n",
       "\t<li>'pear'</li>\n",
       "\t<li>'banana'</li>\n",
       "</ol>\n"
      ],
      "text/latex": [
       "\\begin{enumerate*}\n",
       "\\item 'apple'\n",
       "\\item 'pear'\n",
       "\\item 'banana'\n",
       "\\end{enumerate*}\n"
      ],
      "text/markdown": [
       "1. 'apple'\n",
       "2. 'pear'\n",
       "3. 'banana'\n",
       "\n",
       "\n"
      ],
      "text/plain": [
       "[1] \"apple\"  \"pear\"   \"banana\""
      ]
     },
     "metadata": {},
     "output_type": "display_data"
    }
   ],
   "source": [
    "fruit"
   ]
  },
  {
   "cell_type": "code",
   "execution_count": 3,
   "id": "3391b337",
   "metadata": {},
   "outputs": [
    {
     "data": {
      "text/html": [
       "3"
      ],
      "text/latex": [
       "3"
      ],
      "text/markdown": [
       "3"
      ],
      "text/plain": [
       "[1] 3"
      ]
     },
     "metadata": {},
     "output_type": "display_data"
    }
   ],
   "source": [
    "length(fruit)"
   ]
  },
  {
   "cell_type": "markdown",
   "id": "d5621eda",
   "metadata": {},
   "source": [
    "To access the individual elements (items) of our vector, we can use the index of the element. "
   ]
  },
  {
   "cell_type": "code",
   "execution_count": 5,
   "id": "9d3de712",
   "metadata": {},
   "outputs": [
    {
     "data": {
      "text/html": [
       "'apple'"
      ],
      "text/latex": [
       "'apple'"
      ],
      "text/markdown": [
       "'apple'"
      ],
      "text/plain": [
       "[1] \"apple\""
      ]
     },
     "metadata": {},
     "output_type": "display_data"
    }
   ],
   "source": [
    "fruit[1]"
   ]
  },
  {
   "cell_type": "code",
   "execution_count": 6,
   "id": "ef4bbe6a",
   "metadata": {},
   "outputs": [
    {
     "data": {
      "text/html": [
       "'pear'"
      ],
      "text/latex": [
       "'pear'"
      ],
      "text/markdown": [
       "'pear'"
      ],
      "text/plain": [
       "[1] \"pear\""
      ]
     },
     "metadata": {},
     "output_type": "display_data"
    }
   ],
   "source": [
    "fruit[2]"
   ]
  },
  {
   "cell_type": "markdown",
   "id": "8d10863f",
   "metadata": {},
   "source": [
    "<div class=\"alert alert-danger\">\n",
    "<b>Note:</b> In R the first element of a vector is <code>1</code> and not 0.\n",
    "</div>"
   ]
  },
  {
   "cell_type": "markdown",
   "id": "eae773ef",
   "metadata": {},
   "source": [
    "<img src=\"./intro_images/list.PNG\" width=\"500\" />"
   ]
  },
  {
   "cell_type": "markdown",
   "id": "88fb450d",
   "metadata": {},
   "source": [
    "The image above shows another way of looking at our fruit vector. You can image a vector as a series of connected boxes that can contain some data (in this case the names of some fruit). We can now pass this whole vector around like a single variable. This is very useful if you want to store a lot of data (for example all the players in a football team or a list of patients having a knee replacement operation). To access the individual data in the boxes you use the index number (the numbers on the bottom of the boxes in the image above starting at 1).  "
   ]
  },
  {
   "cell_type": "markdown",
   "id": "3923dddb",
   "metadata": {},
   "source": [
    "An empty vector can be defined by using the <code>vector</code> function. Vectors should contain all the same type of data for example all the elements should be numbers or text etc."
   ]
  },
  {
   "cell_type": "code",
   "execution_count": 7,
   "id": "243af609",
   "metadata": {},
   "outputs": [],
   "source": [
    "my_vec <- vector()"
   ]
  },
  {
   "cell_type": "code",
   "execution_count": 8,
   "id": "b033e86a",
   "metadata": {},
   "outputs": [
    {
     "data": {
      "text/html": [],
      "text/latex": [],
      "text/markdown": [],
      "text/plain": [
       "logical(0)"
      ]
     },
     "metadata": {},
     "output_type": "display_data"
    }
   ],
   "source": [
    "my_vec"
   ]
  },
  {
   "cell_type": "code",
   "execution_count": 9,
   "id": "97212056",
   "metadata": {},
   "outputs": [
    {
     "data": {
      "text/html": [
       "0"
      ],
      "text/latex": [
       "0"
      ],
      "text/markdown": [
       "0"
      ],
      "text/plain": [
       "[1] 0"
      ]
     },
     "metadata": {},
     "output_type": "display_data"
    }
   ],
   "source": [
    "length(my_vec)"
   ]
  },
  {
   "cell_type": "markdown",
   "id": "9d5aabe3",
   "metadata": {},
   "source": [
    "We can create vectors of a specific type such as <code>numeric</code> or <code>logical</code> by specifying a number of elements in brackets."
   ]
  },
  {
   "cell_type": "code",
   "execution_count": 11,
   "id": "cd503df0",
   "metadata": {},
   "outputs": [
    {
     "data": {
      "text/html": [
       "<ol class=list-inline>\n",
       "\t<li>0</li>\n",
       "\t<li>0</li>\n",
       "\t<li>0</li>\n",
       "\t<li>0</li>\n",
       "\t<li>0</li>\n",
       "</ol>\n"
      ],
      "text/latex": [
       "\\begin{enumerate*}\n",
       "\\item 0\n",
       "\\item 0\n",
       "\\item 0\n",
       "\\item 0\n",
       "\\item 0\n",
       "\\end{enumerate*}\n"
      ],
      "text/markdown": [
       "1. 0\n",
       "2. 0\n",
       "3. 0\n",
       "4. 0\n",
       "5. 0\n",
       "\n",
       "\n"
      ],
      "text/plain": [
       "[1] 0 0 0 0 0"
      ]
     },
     "metadata": {},
     "output_type": "display_data"
    }
   ],
   "source": [
    "numeric(5)"
   ]
  },
  {
   "cell_type": "code",
   "execution_count": 12,
   "id": "d37328f3",
   "metadata": {},
   "outputs": [
    {
     "data": {
      "text/html": [
       "<ol class=list-inline>\n",
       "\t<li>FALSE</li>\n",
       "\t<li>FALSE</li>\n",
       "\t<li>FALSE</li>\n",
       "\t<li>FALSE</li>\n",
       "\t<li>FALSE</li>\n",
       "</ol>\n"
      ],
      "text/latex": [
       "\\begin{enumerate*}\n",
       "\\item FALSE\n",
       "\\item FALSE\n",
       "\\item FALSE\n",
       "\\item FALSE\n",
       "\\item FALSE\n",
       "\\end{enumerate*}\n"
      ],
      "text/markdown": [
       "1. FALSE\n",
       "2. FALSE\n",
       "3. FALSE\n",
       "4. FALSE\n",
       "5. FALSE\n",
       "\n",
       "\n"
      ],
      "text/plain": [
       "[1] FALSE FALSE FALSE FALSE FALSE"
      ]
     },
     "metadata": {},
     "output_type": "display_data"
    }
   ],
   "source": [
    "logical(5)"
   ]
  },
  {
   "cell_type": "markdown",
   "id": "fe1cd5b3",
   "metadata": {},
   "source": [
    "We can also create vectors by generating a sequence of numbers. For example the numbers 1 to 10 by 0.1."
   ]
  },
  {
   "cell_type": "code",
   "execution_count": 15,
   "id": "db8fbef8",
   "metadata": {},
   "outputs": [],
   "source": [
    "seq_vec <- seq(1, 10, by=0.1)"
   ]
  },
  {
   "cell_type": "code",
   "execution_count": 16,
   "id": "996c7cf7",
   "metadata": {},
   "outputs": [
    {
     "data": {
      "text/html": [
       "<ol class=list-inline>\n",
       "\t<li>1</li>\n",
       "\t<li>1.1</li>\n",
       "\t<li>1.2</li>\n",
       "\t<li>1.3</li>\n",
       "\t<li>1.4</li>\n",
       "\t<li>1.5</li>\n",
       "\t<li>1.6</li>\n",
       "\t<li>1.7</li>\n",
       "\t<li>1.8</li>\n",
       "\t<li>1.9</li>\n",
       "\t<li>2</li>\n",
       "\t<li>2.1</li>\n",
       "\t<li>2.2</li>\n",
       "\t<li>2.3</li>\n",
       "\t<li>2.4</li>\n",
       "\t<li>2.5</li>\n",
       "\t<li>2.6</li>\n",
       "\t<li>2.7</li>\n",
       "\t<li>2.8</li>\n",
       "\t<li>2.9</li>\n",
       "\t<li>3</li>\n",
       "\t<li>3.1</li>\n",
       "\t<li>3.2</li>\n",
       "\t<li>3.3</li>\n",
       "\t<li>3.4</li>\n",
       "\t<li>3.5</li>\n",
       "\t<li>3.6</li>\n",
       "\t<li>3.7</li>\n",
       "\t<li>3.8</li>\n",
       "\t<li>3.9</li>\n",
       "\t<li>4</li>\n",
       "\t<li>4.1</li>\n",
       "\t<li>4.2</li>\n",
       "\t<li>4.3</li>\n",
       "\t<li>4.4</li>\n",
       "\t<li>4.5</li>\n",
       "\t<li>4.6</li>\n",
       "\t<li>4.7</li>\n",
       "\t<li>4.8</li>\n",
       "\t<li>4.9</li>\n",
       "\t<li>5</li>\n",
       "\t<li>5.1</li>\n",
       "\t<li>5.2</li>\n",
       "\t<li>5.3</li>\n",
       "\t<li>5.4</li>\n",
       "\t<li>5.5</li>\n",
       "\t<li>5.6</li>\n",
       "\t<li>5.7</li>\n",
       "\t<li>5.8</li>\n",
       "\t<li>5.9</li>\n",
       "\t<li>6</li>\n",
       "\t<li>6.1</li>\n",
       "\t<li>6.2</li>\n",
       "\t<li>6.3</li>\n",
       "\t<li>6.4</li>\n",
       "\t<li>6.5</li>\n",
       "\t<li>6.6</li>\n",
       "\t<li>6.7</li>\n",
       "\t<li>6.8</li>\n",
       "\t<li>6.9</li>\n",
       "\t<li>7</li>\n",
       "\t<li>7.1</li>\n",
       "\t<li>7.2</li>\n",
       "\t<li>7.3</li>\n",
       "\t<li>7.4</li>\n",
       "\t<li>7.5</li>\n",
       "\t<li>7.6</li>\n",
       "\t<li>7.7</li>\n",
       "\t<li>7.8</li>\n",
       "\t<li>7.9</li>\n",
       "\t<li>8</li>\n",
       "\t<li>8.1</li>\n",
       "\t<li>8.2</li>\n",
       "\t<li>8.3</li>\n",
       "\t<li>8.4</li>\n",
       "\t<li>8.5</li>\n",
       "\t<li>8.6</li>\n",
       "\t<li>8.7</li>\n",
       "\t<li>8.8</li>\n",
       "\t<li>8.9</li>\n",
       "\t<li>9</li>\n",
       "\t<li>9.1</li>\n",
       "\t<li>9.2</li>\n",
       "\t<li>9.3</li>\n",
       "\t<li>9.4</li>\n",
       "\t<li>9.5</li>\n",
       "\t<li>9.6</li>\n",
       "\t<li>9.7</li>\n",
       "\t<li>9.8</li>\n",
       "\t<li>9.9</li>\n",
       "\t<li>10</li>\n",
       "</ol>\n"
      ],
      "text/latex": [
       "\\begin{enumerate*}\n",
       "\\item 1\n",
       "\\item 1.1\n",
       "\\item 1.2\n",
       "\\item 1.3\n",
       "\\item 1.4\n",
       "\\item 1.5\n",
       "\\item 1.6\n",
       "\\item 1.7\n",
       "\\item 1.8\n",
       "\\item 1.9\n",
       "\\item 2\n",
       "\\item 2.1\n",
       "\\item 2.2\n",
       "\\item 2.3\n",
       "\\item 2.4\n",
       "\\item 2.5\n",
       "\\item 2.6\n",
       "\\item 2.7\n",
       "\\item 2.8\n",
       "\\item 2.9\n",
       "\\item 3\n",
       "\\item 3.1\n",
       "\\item 3.2\n",
       "\\item 3.3\n",
       "\\item 3.4\n",
       "\\item 3.5\n",
       "\\item 3.6\n",
       "\\item 3.7\n",
       "\\item 3.8\n",
       "\\item 3.9\n",
       "\\item 4\n",
       "\\item 4.1\n",
       "\\item 4.2\n",
       "\\item 4.3\n",
       "\\item 4.4\n",
       "\\item 4.5\n",
       "\\item 4.6\n",
       "\\item 4.7\n",
       "\\item 4.8\n",
       "\\item 4.9\n",
       "\\item 5\n",
       "\\item 5.1\n",
       "\\item 5.2\n",
       "\\item 5.3\n",
       "\\item 5.4\n",
       "\\item 5.5\n",
       "\\item 5.6\n",
       "\\item 5.7\n",
       "\\item 5.8\n",
       "\\item 5.9\n",
       "\\item 6\n",
       "\\item 6.1\n",
       "\\item 6.2\n",
       "\\item 6.3\n",
       "\\item 6.4\n",
       "\\item 6.5\n",
       "\\item 6.6\n",
       "\\item 6.7\n",
       "\\item 6.8\n",
       "\\item 6.9\n",
       "\\item 7\n",
       "\\item 7.1\n",
       "\\item 7.2\n",
       "\\item 7.3\n",
       "\\item 7.4\n",
       "\\item 7.5\n",
       "\\item 7.6\n",
       "\\item 7.7\n",
       "\\item 7.8\n",
       "\\item 7.9\n",
       "\\item 8\n",
       "\\item 8.1\n",
       "\\item 8.2\n",
       "\\item 8.3\n",
       "\\item 8.4\n",
       "\\item 8.5\n",
       "\\item 8.6\n",
       "\\item 8.7\n",
       "\\item 8.8\n",
       "\\item 8.9\n",
       "\\item 9\n",
       "\\item 9.1\n",
       "\\item 9.2\n",
       "\\item 9.3\n",
       "\\item 9.4\n",
       "\\item 9.5\n",
       "\\item 9.6\n",
       "\\item 9.7\n",
       "\\item 9.8\n",
       "\\item 9.9\n",
       "\\item 10\n",
       "\\end{enumerate*}\n"
      ],
      "text/markdown": [
       "1. 1\n",
       "2. 1.1\n",
       "3. 1.2\n",
       "4. 1.3\n",
       "5. 1.4\n",
       "6. 1.5\n",
       "7. 1.6\n",
       "8. 1.7\n",
       "9. 1.8\n",
       "10. 1.9\n",
       "11. 2\n",
       "12. 2.1\n",
       "13. 2.2\n",
       "14. 2.3\n",
       "15. 2.4\n",
       "16. 2.5\n",
       "17. 2.6\n",
       "18. 2.7\n",
       "19. 2.8\n",
       "20. 2.9\n",
       "21. 3\n",
       "22. 3.1\n",
       "23. 3.2\n",
       "24. 3.3\n",
       "25. 3.4\n",
       "26. 3.5\n",
       "27. 3.6\n",
       "28. 3.7\n",
       "29. 3.8\n",
       "30. 3.9\n",
       "31. 4\n",
       "32. 4.1\n",
       "33. 4.2\n",
       "34. 4.3\n",
       "35. 4.4\n",
       "36. 4.5\n",
       "37. 4.6\n",
       "38. 4.7\n",
       "39. 4.8\n",
       "40. 4.9\n",
       "41. 5\n",
       "42. 5.1\n",
       "43. 5.2\n",
       "44. 5.3\n",
       "45. 5.4\n",
       "46. 5.5\n",
       "47. 5.6\n",
       "48. 5.7\n",
       "49. 5.8\n",
       "50. 5.9\n",
       "51. 6\n",
       "52. 6.1\n",
       "53. 6.2\n",
       "54. 6.3\n",
       "55. 6.4\n",
       "56. 6.5\n",
       "57. 6.6\n",
       "58. 6.7\n",
       "59. 6.8\n",
       "60. 6.9\n",
       "61. 7\n",
       "62. 7.1\n",
       "63. 7.2\n",
       "64. 7.3\n",
       "65. 7.4\n",
       "66. 7.5\n",
       "67. 7.6\n",
       "68. 7.7\n",
       "69. 7.8\n",
       "70. 7.9\n",
       "71. 8\n",
       "72. 8.1\n",
       "73. 8.2\n",
       "74. 8.3\n",
       "75. 8.4\n",
       "76. 8.5\n",
       "77. 8.6\n",
       "78. 8.7\n",
       "79. 8.8\n",
       "80. 8.9\n",
       "81. 9\n",
       "82. 9.1\n",
       "83. 9.2\n",
       "84. 9.3\n",
       "85. 9.4\n",
       "86. 9.5\n",
       "87. 9.6\n",
       "88. 9.7\n",
       "89. 9.8\n",
       "90. 9.9\n",
       "91. 10\n",
       "\n",
       "\n"
      ],
      "text/plain": [
       " [1]  1.0  1.1  1.2  1.3  1.4  1.5  1.6  1.7  1.8  1.9  2.0  2.1  2.2  2.3  2.4\n",
       "[16]  2.5  2.6  2.7  2.8  2.9  3.0  3.1  3.2  3.3  3.4  3.5  3.6  3.7  3.8  3.9\n",
       "[31]  4.0  4.1  4.2  4.3  4.4  4.5  4.6  4.7  4.8  4.9  5.0  5.1  5.2  5.3  5.4\n",
       "[46]  5.5  5.6  5.7  5.8  5.9  6.0  6.1  6.2  6.3  6.4  6.5  6.6  6.7  6.8  6.9\n",
       "[61]  7.0  7.1  7.2  7.3  7.4  7.5  7.6  7.7  7.8  7.9  8.0  8.1  8.2  8.3  8.4\n",
       "[76]  8.5  8.6  8.7  8.8  8.9  9.0  9.1  9.2  9.3  9.4  9.5  9.6  9.7  9.8  9.9\n",
       "[91] 10.0"
      ]
     },
     "metadata": {},
     "output_type": "display_data"
    }
   ],
   "source": [
    "seq_vec"
   ]
  },
  {
   "cell_type": "markdown",
   "id": "1d25fc62",
   "metadata": {},
   "source": [
    "There are also some inbuilt helper vectors such as the upper and lower case letters."
   ]
  },
  {
   "cell_type": "code",
   "execution_count": 17,
   "id": "370992c4",
   "metadata": {},
   "outputs": [
    {
     "data": {
      "text/html": [
       "<ol class=list-inline>\n",
       "\t<li>'A'</li>\n",
       "\t<li>'B'</li>\n",
       "\t<li>'C'</li>\n",
       "\t<li>'D'</li>\n",
       "\t<li>'E'</li>\n",
       "</ol>\n"
      ],
      "text/latex": [
       "\\begin{enumerate*}\n",
       "\\item 'A'\n",
       "\\item 'B'\n",
       "\\item 'C'\n",
       "\\item 'D'\n",
       "\\item 'E'\n",
       "\\end{enumerate*}\n"
      ],
      "text/markdown": [
       "1. 'A'\n",
       "2. 'B'\n",
       "3. 'C'\n",
       "4. 'D'\n",
       "5. 'E'\n",
       "\n",
       "\n"
      ],
      "text/plain": [
       "[1] \"A\" \"B\" \"C\" \"D\" \"E\""
      ]
     },
     "metadata": {},
     "output_type": "display_data"
    }
   ],
   "source": [
    "LETTERS[1:5]"
   ]
  },
  {
   "cell_type": "code",
   "execution_count": 18,
   "id": "f58aae14",
   "metadata": {},
   "outputs": [
    {
     "data": {
      "text/html": [
       "<ol class=list-inline>\n",
       "\t<li>'a'</li>\n",
       "\t<li>'b'</li>\n",
       "\t<li>'c'</li>\n",
       "\t<li>'d'</li>\n",
       "\t<li>'e'</li>\n",
       "\t<li>'f'</li>\n",
       "\t<li>'g'</li>\n",
       "\t<li>'h'</li>\n",
       "</ol>\n"
      ],
      "text/latex": [
       "\\begin{enumerate*}\n",
       "\\item 'a'\n",
       "\\item 'b'\n",
       "\\item 'c'\n",
       "\\item 'd'\n",
       "\\item 'e'\n",
       "\\item 'f'\n",
       "\\item 'g'\n",
       "\\item 'h'\n",
       "\\end{enumerate*}\n"
      ],
      "text/markdown": [
       "1. 'a'\n",
       "2. 'b'\n",
       "3. 'c'\n",
       "4. 'd'\n",
       "5. 'e'\n",
       "6. 'f'\n",
       "7. 'g'\n",
       "8. 'h'\n",
       "\n",
       "\n"
      ],
      "text/plain": [
       "[1] \"a\" \"b\" \"c\" \"d\" \"e\" \"f\" \"g\" \"h\""
      ]
     },
     "metadata": {},
     "output_type": "display_data"
    }
   ],
   "source": [
    "letters[1:8]"
   ]
  },
  {
   "cell_type": "code",
   "execution_count": 19,
   "id": "04bf9b2b",
   "metadata": {},
   "outputs": [],
   "source": [
    "another_vec <- c(23, 13.3, 3, 6, 28)"
   ]
  },
  {
   "cell_type": "markdown",
   "id": "167edd16",
   "metadata": {
    "solution2": "hidden",
    "solution2_first": true
   },
   "source": [
    "<div class=\"alert alert-block alert-info\">\n",
    "<b>Task 1:</b>\n",
    "<br> \n",
    "1. Print the value <code>13.3</code> contained in element 2 of <code>another_vec</code><br>\n",
    "2. What element is the value <code>6</code> stored at in <code>another_vec</code>?\n",
    "</div>"
   ]
  },
  {
   "cell_type": "code",
   "execution_count": 20,
   "id": "a79e2165",
   "metadata": {
    "solution2": "hidden"
   },
   "outputs": [
    {
     "name": "stdout",
     "output_type": "stream",
     "text": [
      "[1] 13.3\n"
     ]
    }
   ],
   "source": [
    "print(another_vec[2])"
   ]
  },
  {
   "cell_type": "markdown",
   "id": "e7fe1c82",
   "metadata": {
    "solution2": "hidden"
   },
   "source": [
    "It is stored in element 4."
   ]
  },
  {
   "cell_type": "code",
   "execution_count": null,
   "id": "1ab29edb",
   "metadata": {},
   "outputs": [],
   "source": []
  },
  {
   "cell_type": "code",
   "execution_count": null,
   "id": "68731b2c",
   "metadata": {},
   "outputs": [],
   "source": []
  },
  {
   "cell_type": "markdown",
   "id": "08a48cf9",
   "metadata": {},
   "source": [
    "We can add items to the vector using the <code>append()</code> function. In the example below we use this function to add the number 5 to the end of the vector."
   ]
  },
  {
   "cell_type": "code",
   "execution_count": 29,
   "id": "9a6c3b98",
   "metadata": {},
   "outputs": [
    {
     "name": "stdout",
     "output_type": "stream",
     "text": [
      "[1] 1 2 3 4 5\n"
     ]
    }
   ],
   "source": [
    "my_vec <- c(1, 2, 3, 4)\n",
    "my_vec <- append(my_vec, 5) \n",
    "print(my_vec)"
   ]
  },
  {
   "cell_type": "markdown",
   "id": "8e086d72",
   "metadata": {},
   "source": [
    "We can also remove items from a vector using <code>%in%</code>. Here we essentially copy over all the items apart from the ones we want to remove which we specify in <code>elements_to_remove</code>."
   ]
  },
  {
   "cell_type": "code",
   "execution_count": 30,
   "id": "bdb8e78a",
   "metadata": {},
   "outputs": [
    {
     "name": "stdout",
     "output_type": "stream",
     "text": [
      "[1] 2 3 4 5\n"
     ]
    }
   ],
   "source": [
    "elements_to_remove <- c(1)\n",
    "my_vec <- my_vec[!(my_vec %in% elements_to_remove)]\n",
    "print(my_vec)"
   ]
  },
  {
   "cell_type": "markdown",
   "id": "b5ace35d",
   "metadata": {},
   "source": [
    "<a id=\"lists\"></a>\n",
    "#### 5.2 Lists"
   ]
  },
  {
   "cell_type": "markdown",
   "id": "5f9132f6",
   "metadata": {},
   "source": [
    "Lists in R can contain data of different types. Lists can also contain sub lists."
   ]
  },
  {
   "cell_type": "code",
   "execution_count": 22,
   "id": "b458247c",
   "metadata": {},
   "outputs": [],
   "source": [
    "my_list <- list(42, \"Paul\", 56, TRUE, 11)"
   ]
  },
  {
   "cell_type": "code",
   "execution_count": 24,
   "id": "cbd13b47",
   "metadata": {},
   "outputs": [
    {
     "name": "stdout",
     "output_type": "stream",
     "text": [
      "[[1]]\n",
      "[1] 42\n",
      "\n",
      "[[2]]\n",
      "[1] \"Paul\"\n",
      "\n",
      "[[3]]\n",
      "[1] 56\n",
      "\n",
      "[[4]]\n",
      "[1] TRUE\n",
      "\n",
      "[[5]]\n",
      "[1] 11\n",
      "\n"
     ]
    }
   ],
   "source": [
    "print(my_list)"
   ]
  },
  {
   "cell_type": "markdown",
   "id": "7ab14e08",
   "metadata": {},
   "source": [
    "We can output a list by specifying the elements in brackets like we do with vectors. "
   ]
  },
  {
   "cell_type": "code",
   "execution_count": 25,
   "id": "e8b49701",
   "metadata": {},
   "outputs": [
    {
     "name": "stdout",
     "output_type": "stream",
     "text": [
      "[[1]]\n",
      "[1] 42\n",
      "\n"
     ]
    }
   ],
   "source": [
    "print(my_list[1])"
   ]
  },
  {
   "cell_type": "markdown",
   "id": "cd112564",
   "metadata": {},
   "source": [
    "To get at the actual values we need to use double square brackets <code>[[]]</code>."
   ]
  },
  {
   "cell_type": "code",
   "execution_count": 26,
   "id": "b4be7dac",
   "metadata": {},
   "outputs": [
    {
     "name": "stdout",
     "output_type": "stream",
     "text": [
      "[1] 42\n"
     ]
    }
   ],
   "source": [
    "print(my_list[[1]])"
   ]
  },
  {
   "cell_type": "markdown",
   "id": "4ef9db0a",
   "metadata": {},
   "source": [
    "We can combine lists using <code>c</code>. Here we have one list <code>lst1</code> with values <code>2, 4 and 5</code>. We can combine this with a second list <code>lst2</code> and store the combined list in <code>lst3</code>. When we output the third lists content we see it contains the values of the two previous lists."
   ]
  },
  {
   "cell_type": "code",
   "execution_count": 32,
   "id": "ade85fc2",
   "metadata": {},
   "outputs": [
    {
     "name": "stdout",
     "output_type": "stream",
     "text": [
      "[[1]]\n",
      "[1] 2\n",
      "\n",
      "[[2]]\n",
      "[1] 4\n",
      "\n",
      "[[3]]\n",
      "[1] 5\n",
      "\n",
      "[[4]]\n",
      "[1] 2\n",
      "\n",
      "[[5]]\n",
      "[1] 5\n",
      "\n"
     ]
    }
   ],
   "source": [
    "lst1 <- list(2, 4, 5)\n",
    "lst2 <- list(2, 5)\n",
    "lst3 <- c(lst1, lst2)\n",
    "print(lst3)"
   ]
  },
  {
   "cell_type": "markdown",
   "id": "1b0c10c9",
   "metadata": {},
   "source": [
    "We can also remove elements from lists by specifying <code>NULL</code> in the element we want to remove. For example if we want to remove the <code>5</code> in the list below which is also the fifth element. When we output the list after this operation we see the last element has been removed."
   ]
  },
  {
   "cell_type": "code",
   "execution_count": 34,
   "id": "40081cad",
   "metadata": {},
   "outputs": [
    {
     "name": "stdout",
     "output_type": "stream",
     "text": [
      "[[1]]\n",
      "[1] 1\n",
      "\n",
      "[[2]]\n",
      "[1] 2\n",
      "\n",
      "[[3]]\n",
      "[1] 3\n",
      "\n",
      "[[4]]\n",
      "[1] 4\n",
      "\n"
     ]
    }
   ],
   "source": [
    "my_list <- list(1, 2, 3, 4, 5)\n",
    "my_list[[5]] <- NULL\n",
    "print(my_list)"
   ]
  },
  {
   "cell_type": "markdown",
   "id": "ff51fc13",
   "metadata": {
    "solution2": "hidden",
    "solution2_first": true
   },
   "source": [
    "<div class=\"alert alert-block alert-info\">\n",
    "<b>Task 2:</b>\n",
    "<br> \n",
    "1. Make a new vector with at least 5 text (string) items<br>\n",
    "2. Use the <code>sort()</code> function to put your list into alphabetical order<br>\n",
    "<strong>HINT:</strong> you may want to look up the sort function in the <a href=\"https://stat.ethz.ch/R-manual/R-devel/library/base/html/sort.html\" target=\"_blank\">documentation</a>.\n",
    "</div>"
   ]
  },
  {
   "cell_type": "code",
   "execution_count": 37,
   "id": "852e8000",
   "metadata": {
    "solution2": "hidden"
   },
   "outputs": [
    {
     "data": {
      "text/html": [
       "<ol class=list-inline>\n",
       "\t<li>'apples'</li>\n",
       "\t<li>'bananas'</li>\n",
       "\t<li>'grapes'</li>\n",
       "\t<li>'oranges'</li>\n",
       "\t<li>'pears'</li>\n",
       "</ol>\n"
      ],
      "text/latex": [
       "\\begin{enumerate*}\n",
       "\\item 'apples'\n",
       "\\item 'bananas'\n",
       "\\item 'grapes'\n",
       "\\item 'oranges'\n",
       "\\item 'pears'\n",
       "\\end{enumerate*}\n"
      ],
      "text/markdown": [
       "1. 'apples'\n",
       "2. 'bananas'\n",
       "3. 'grapes'\n",
       "4. 'oranges'\n",
       "5. 'pears'\n",
       "\n",
       "\n"
      ],
      "text/plain": [
       "[1] \"apples\"  \"bananas\" \"grapes\"  \"oranges\" \"pears\"  "
      ]
     },
     "metadata": {},
     "output_type": "display_data"
    }
   ],
   "source": [
    "new_vec <- c('apples', 'oranges', 'bananas', 'pears', 'grapes')\n",
    "sort(new_vec, decreasing = FALSE)"
   ]
  },
  {
   "cell_type": "code",
   "execution_count": null,
   "id": "13b3b2da",
   "metadata": {},
   "outputs": [],
   "source": []
  },
  {
   "cell_type": "markdown",
   "id": "b40e7f1c",
   "metadata": {},
   "source": [
    "Lists can also be used to create more complex structures but combining them together. Consider the following example that stores some medical information about a patient."
   ]
  },
  {
   "cell_type": "markdown",
   "id": "7a33a254",
   "metadata": {},
   "source": [
    "<img src=\"./intro_images/dr.jpg\" width=\"500\" />"
   ]
  },
  {
   "cell_type": "code",
   "execution_count": 40,
   "id": "aaaed0b0",
   "metadata": {},
   "outputs": [],
   "source": [
    "med_data <- list(name=\"Mike Smith\",\n",
    "                dob=\"13/12/1979\",\n",
    "                age=40,\n",
    "                BP=\"120/80\",\n",
    "                HR=76,\n",
    "                PMH=c(\"diabetes\", \"hypertension\", \"atrial fibrillation\"))"
   ]
  },
  {
   "cell_type": "code",
   "execution_count": 41,
   "id": "07dec1f4",
   "metadata": {},
   "outputs": [
    {
     "name": "stdout",
     "output_type": "stream",
     "text": [
      "$name\n",
      "[1] \"Mike Smith\"\n",
      "\n",
      "$dob\n",
      "[1] \"13/12/1979\"\n",
      "\n",
      "$age\n",
      "[1] 40\n",
      "\n",
      "$BP\n",
      "[1] \"120/80\"\n",
      "\n",
      "$HR\n",
      "[1] 76\n",
      "\n",
      "$PMH\n",
      "[1] \"diabetes\"            \"hypertension\"        \"atrial fibrillation\"\n",
      "\n"
     ]
    }
   ],
   "source": [
    "print(med_data)"
   ]
  },
  {
   "cell_type": "markdown",
   "id": "1889453b",
   "metadata": {},
   "source": [
    "Here we can store multiple items of information with associated names in a single data structure. The name is specified and then followed by an equals <code>=</code> with its associated value. We can access the data stored within using the square brackets notation like so:"
   ]
  },
  {
   "cell_type": "code",
   "execution_count": 42,
   "id": "430e25b2",
   "metadata": {},
   "outputs": [
    {
     "name": "stdout",
     "output_type": "stream",
     "text": [
      "[1] \"120/80\"\n"
     ]
    }
   ],
   "source": [
    "print(med_data[[\"BP\"]])"
   ]
  },
  {
   "cell_type": "code",
   "execution_count": 43,
   "id": "a3a50a65",
   "metadata": {},
   "outputs": [
    {
     "name": "stdout",
     "output_type": "stream",
     "text": [
      "[1] \"Mike Smith\"\n"
     ]
    }
   ],
   "source": [
    "print(med_data[[\"name\"]])"
   ]
  },
  {
   "cell_type": "code",
   "execution_count": 44,
   "id": "0120e618",
   "metadata": {},
   "outputs": [
    {
     "name": "stdout",
     "output_type": "stream",
     "text": [
      "[1] \"diabetes\"            \"hypertension\"        \"atrial fibrillation\"\n"
     ]
    }
   ],
   "source": [
    "print(med_data[[\"PMH\"]])"
   ]
  },
  {
   "cell_type": "code",
   "execution_count": 46,
   "id": "089435fb",
   "metadata": {},
   "outputs": [
    {
     "name": "stdout",
     "output_type": "stream",
     "text": [
      "[1] \"atrial fibrillation\"\n"
     ]
    }
   ],
   "source": [
    "print(med_data[[\"PMH\"]][3])"
   ]
  },
  {
   "cell_type": "markdown",
   "id": "32b5c72e",
   "metadata": {},
   "source": [
    "Another way of accessing the data by it's name is like so <code>&lt;name of list&gt;$&lt;name of list item&gt;</code> like so."
   ]
  },
  {
   "cell_type": "code",
   "execution_count": 47,
   "id": "4030aa06",
   "metadata": {},
   "outputs": [
    {
     "name": "stdout",
     "output_type": "stream",
     "text": [
      "[1] \"120/80\"\n"
     ]
    }
   ],
   "source": [
    "print(med_data$BP)"
   ]
  },
  {
   "cell_type": "markdown",
   "id": "d2633029",
   "metadata": {},
   "source": [
    "We can also change items stored at this label in the same way as a list. For example changing the blood pressure (BP) value:"
   ]
  },
  {
   "cell_type": "code",
   "execution_count": 48,
   "id": "fdd6ed77",
   "metadata": {},
   "outputs": [
    {
     "name": "stdout",
     "output_type": "stream",
     "text": [
      "[1] \"132/76\"\n"
     ]
    }
   ],
   "source": [
    "med_data$BP <- \"132/76\"\n",
    "print(med_data$BP)"
   ]
  },
  {
   "cell_type": "markdown",
   "id": "b3f84113",
   "metadata": {
    "solution2": "hidden",
    "solution2_first": true
   },
   "source": [
    "<div class=\"alert alert-block alert-info\">\n",
    "<b>Task 3:</b>\n",
    "<br> \n",
    "1. Add the medical condition <code>irritable bowel syndrome (IBS)</code> to the past medical history <code>(PMH)</code> in the list and print the result\n",
    "</div>"
   ]
  },
  {
   "cell_type": "code",
   "execution_count": 49,
   "id": "3ef42d4c",
   "metadata": {
    "solution2": "hidden"
   },
   "outputs": [
    {
     "name": "stdout",
     "output_type": "stream",
     "text": [
      "$name\n",
      "[1] \"Mike Smith\"\n",
      "\n",
      "$dob\n",
      "[1] \"13/12/1979\"\n",
      "\n",
      "$age\n",
      "[1] 40\n",
      "\n",
      "$BP\n",
      "[1] \"132/76\"\n",
      "\n",
      "$HR\n",
      "[1] 76\n",
      "\n",
      "$PMH\n",
      "[1] \"diabetes\"                       \"hypertension\"                  \n",
      "[3] \"atrial fibrillation\"            \"irritable bowel syndrome (IBS)\"\n",
      "\n"
     ]
    }
   ],
   "source": [
    "med_data[[\"PMH\"]][4] <- \"irritable bowel syndrome (IBS)\"\n",
    "print(med_data)"
   ]
  },
  {
   "cell_type": "code",
   "execution_count": null,
   "id": "94376e82",
   "metadata": {},
   "outputs": [],
   "source": []
  },
  {
   "cell_type": "markdown",
   "id": "e1a65df0",
   "metadata": {},
   "source": [
    "<a id=\"matrix\"></a>\n",
    "#### 5.3 Matrices"
   ]
  },
  {
   "cell_type": "markdown",
   "id": "b5b1999f",
   "metadata": {},
   "source": [
    "Matrices (singular matrix) are used to store data in a 2D arrangement with rows and columns. We often use matrices to store information for Machine Learning tasks. For example, how training data is organized prior to applying a ML model. Again we can reduce complex problems in higher dimensions into simpler linear problems that are easier to compute and solve using whats called <code>linear approximation</code>. Let's take a look at how we can create a matrix using R."
   ]
  },
  {
   "cell_type": "code",
   "execution_count": 50,
   "id": "2632aea7",
   "metadata": {},
   "outputs": [],
   "source": [
    "M <- matrix(c(1,2,3,4,2,4,5,2,5), nrow=3, ncol=3, byrow=TRUE)"
   ]
  },
  {
   "cell_type": "code",
   "execution_count": 52,
   "id": "b6e068ce",
   "metadata": {},
   "outputs": [
    {
     "name": "stdout",
     "output_type": "stream",
     "text": [
      "     [,1] [,2] [,3]\n",
      "[1,]    1    2    3\n",
      "[2,]    4    2    4\n",
      "[3,]    5    2    5\n"
     ]
    }
   ],
   "source": [
    "print(M)"
   ]
  },
  {
   "cell_type": "markdown",
   "id": "13034f4f",
   "metadata": {},
   "source": [
    "We would represent such a matrix in math notation as follows:"
   ]
  },
  {
   "cell_type": "markdown",
   "id": "687dafd7",
   "metadata": {},
   "source": [
    "$$ M = \\begin{bmatrix} 1 & 2 & 3 \\\\[0.3em] 4 & 2 & 4 \\\\[0.3em] 5 & 2 & 5 \\end{bmatrix}   $$"
   ]
  },
  {
   "cell_type": "markdown",
   "id": "ba090391",
   "metadata": {},
   "source": [
    "We can then refer to specific values using a subscript notation. Where $i$ is the row index and $j$ is the colum index."
   ]
  },
  {
   "cell_type": "markdown",
   "id": "8794a908",
   "metadata": {},
   "source": [
    "$$ M(_{i,j}) $$"
   ]
  },
  {
   "cell_type": "markdown",
   "id": "1e12ee37",
   "metadata": {},
   "source": [
    "$$\n",
    "\\begin{bmatrix} M_{1,1} & M_{1,2} & M_{1,3} \\\\[0.3em] M_{2,1} & M_{2,2} & M_{2,3} \\\\[0.3em] M_{3,1} & M_{3,2} & M_{3,3} \\end{bmatrix}  \n",
    "$$"
   ]
  },
  {
   "cell_type": "markdown",
   "id": "b02539f7",
   "metadata": {},
   "source": [
    "We can access individual elements of a matrix in R using the row then column index specified in square brackets. So if we wanted the number <code>4</code> which is on the 2nd row in the 1st column like so."
   ]
  },
  {
   "cell_type": "code",
   "execution_count": 53,
   "id": "bef7bd68",
   "metadata": {},
   "outputs": [
    {
     "name": "stdout",
     "output_type": "stream",
     "text": [
      "[1] 4\n"
     ]
    }
   ],
   "source": [
    "print(M[2, 1])"
   ]
  },
  {
   "cell_type": "markdown",
   "id": "51e79600",
   "metadata": {},
   "source": [
    "If a matrix is the same shape as another they can be summed. To do this we can simply add the numbers in the corresponding positions i.e."
   ]
  },
  {
   "cell_type": "markdown",
   "id": "72609df4",
   "metadata": {},
   "source": [
    "$$ \\begin{bmatrix} 1 & 0 \\\\[0.3em] 2 & 4 \\end{bmatrix} + \\begin{bmatrix} 3 & 6 \\\\[0.3em] 3 & 4 \\end{bmatrix} = \\begin{bmatrix} 1 + 3 & 0 + 6 \\\\[0.3em] 2 + 3 & 4 + 4 \\end{bmatrix} = \\begin{bmatrix} 4 & 6 \\\\[0.3em] 5 & 8 \\end{bmatrix}$$"
   ]
  },
  {
   "cell_type": "markdown",
   "id": "9493d148",
   "metadata": {},
   "source": [
    "We can recreate the two matrices shown above in R like so and then output them."
   ]
  },
  {
   "cell_type": "code",
   "execution_count": 54,
   "id": "a395ea79",
   "metadata": {},
   "outputs": [],
   "source": [
    "M_1 <- matrix(c(1,0,2,4), nrow=2, ncol=2, byrow=TRUE)\n",
    "M_2 <- matrix(c(3,6,3,4), nrow=2, ncol=2, byrow=TRUE)"
   ]
  },
  {
   "cell_type": "code",
   "execution_count": 55,
   "id": "56e7b48a",
   "metadata": {},
   "outputs": [
    {
     "name": "stdout",
     "output_type": "stream",
     "text": [
      "     [,1] [,2]\n",
      "[1,]    1    0\n",
      "[2,]    2    4\n",
      "     [,1] [,2]\n",
      "[1,]    3    6\n",
      "[2,]    3    4\n"
     ]
    }
   ],
   "source": [
    "print(M_1)\n",
    "print(M_2)"
   ]
  },
  {
   "cell_type": "markdown",
   "id": "e128429a",
   "metadata": {},
   "source": [
    "We can use the conventional plus operator <code>+</code> to add the two matrices together."
   ]
  },
  {
   "cell_type": "code",
   "execution_count": 56,
   "id": "a2008cbf",
   "metadata": {},
   "outputs": [
    {
     "name": "stdout",
     "output_type": "stream",
     "text": [
      "     [,1] [,2]\n",
      "[1,]    4    6\n",
      "[2,]    5    8\n"
     ]
    }
   ],
   "source": [
    "print(M_1 + M_2)"
   ]
  },
  {
   "cell_type": "markdown",
   "id": "e10ef04a",
   "metadata": {},
   "source": [
    "Unfortunately matrix multiplication works differently. To do this we need to ensure that the number of columns in the first matrix are equal to the number of rows in the second. Then we can multiply and then add the corresponding values."
   ]
  },
  {
   "cell_type": "markdown",
   "id": "c38d05c9",
   "metadata": {},
   "source": [
    "$$\n",
    "\\begin{bmatrix} 1 & 0 \\\\[0.3em] 2 & 4 \\\\[0.3em] \\end{bmatrix} \\times\n",
    "\\begin{bmatrix} 3 & 6 \\\\[0.3em] 3 & 4 \\\\[0.3em] \\end{bmatrix} =\n",
    "\\begin{bmatrix} (1 \\times 3) + (0 \\times 3) & (1 \\times 6) + (0 \\times 4) \\\\[0.3em] \n",
    "(2 \\times 3) + (4 \\times 3) & (2 \\times 6) + (4 \\times 4)\n",
    "\\\\[0.3em] \\end{bmatrix} = \n",
    "\\begin{bmatrix} 3 & 6 \\\\[0.3em] 18 & 28 \\\\[0.3em] \\end{bmatrix}\n",
    "$$"
   ]
  },
  {
   "cell_type": "markdown",
   "id": "2da08286",
   "metadata": {},
   "source": [
    "If we use the conventional multiplication operator <code>*</code> we get an incorrect result."
   ]
  },
  {
   "cell_type": "code",
   "execution_count": 57,
   "id": "d7f15827",
   "metadata": {},
   "outputs": [
    {
     "name": "stdout",
     "output_type": "stream",
     "text": [
      "     [,1] [,2]\n",
      "[1,]    3    0\n",
      "[2,]    6   16\n"
     ]
    }
   ],
   "source": [
    "print(M_1 * M_2)"
   ]
  },
  {
   "cell_type": "markdown",
   "id": "39aee736",
   "metadata": {},
   "source": [
    "The <code>dot product</code> operator needs to be used to instead, like so:"
   ]
  },
  {
   "cell_type": "code",
   "execution_count": 58,
   "id": "94cc5c2d",
   "metadata": {},
   "outputs": [
    {
     "name": "stdout",
     "output_type": "stream",
     "text": [
      "     [,1] [,2]\n",
      "[1,]    3    6\n",
      "[2,]   18   28\n"
     ]
    }
   ],
   "source": [
    "print(M_1 %*% M_2)"
   ]
  },
  {
   "cell_type": "markdown",
   "id": "f0d3b7b3",
   "metadata": {
    "solution2": "hidden",
    "solution2_first": true
   },
   "source": [
    "<div class=\"alert alert-block alert-info\">\n",
    "<b>Task 4:</b>\n",
    "<br> \n",
    "1. Create and output the following two matrices<br>\n",
    "$$\n",
    "A = \\begin{bmatrix} 1 & 4 & 4 & 2 \\\\[0.3em] 6 & 3 & 2 & 6 \\\\[0.3em] 4 & 4 & 2 & 5 \\\\[0.3em] 6 & 7 & 1 & 4 \\end{bmatrix}\n",
    "B = \\begin{bmatrix} 5 & 6 & 2 & 1 \\\\[0.3em] 6 & 3 & 1 & 4 \\\\[0.3em] 5 & 2 & 5 & 2 \\\\[0.3em] 6 & 4 & 5 & 2 \\end{bmatrix}\n",
    "$$\n",
    "2. Then output the sum and multiplication of the matrices.\n",
    "</div>"
   ]
  },
  {
   "cell_type": "code",
   "execution_count": 59,
   "id": "8ab7750b",
   "metadata": {
    "solution2": "hidden"
   },
   "outputs": [
    {
     "name": "stdout",
     "output_type": "stream",
     "text": [
      "     [,1] [,2] [,3] [,4]\n",
      "[1,]    1    4    4    2\n",
      "[2,]    6    3    2    6\n",
      "[3,]    4    4    2    5\n",
      "[4,]    6    7    1    4\n",
      "     [,1] [,2] [,3] [,4]\n",
      "[1,]    5    6    2    1\n",
      "[2,]    6    3    1    4\n",
      "[3,]    5    2    5    2\n",
      "[4,]    6    4    5    2\n"
     ]
    }
   ],
   "source": [
    "A <- matrix(c(1,4,4,2,6,3,2,6,4,4,2,5,6,7,1,4), nrow=4, ncol=4, byrow=TRUE)\n",
    "B <- matrix(c(5,6,2,1,6,3,1,4,5,2,5,2,6,4,5,2), nrow=4, ncol=4, byrow=TRUE)\n",
    "print(A)\n",
    "print(B)"
   ]
  },
  {
   "cell_type": "code",
   "execution_count": 60,
   "id": "01716648",
   "metadata": {
    "solution2": "hidden"
   },
   "outputs": [
    {
     "name": "stdout",
     "output_type": "stream",
     "text": [
      "     [,1] [,2] [,3] [,4]\n",
      "[1,]    6   10    6    3\n",
      "[2,]   12    6    3   10\n",
      "[3,]    9    6    7    7\n",
      "[4,]   12   11    6    6\n",
      "     [,1] [,2] [,3] [,4]\n",
      "[1,]   61   34   36   29\n",
      "[2,]   94   73   55   34\n",
      "[3,]   84   60   47   34\n",
      "[4,]  101   75   44   44\n"
     ]
    }
   ],
   "source": [
    "print(A + B)\n",
    "print(A %*% B)"
   ]
  },
  {
   "cell_type": "code",
   "execution_count": null,
   "id": "e65157f8",
   "metadata": {},
   "outputs": [],
   "source": []
  },
  {
   "cell_type": "code",
   "execution_count": null,
   "id": "4f571819",
   "metadata": {},
   "outputs": [],
   "source": []
  },
  {
   "cell_type": "markdown",
   "id": "aa30c98b",
   "metadata": {},
   "source": [
    "<a id=\"df\"></a>\n",
    "#### 5.4 Data frames"
   ]
  },
  {
   "cell_type": "markdown",
   "id": "8a5736bd",
   "metadata": {},
   "source": [
    "As R was designed for statistical analysis and not general purpose programming it comes with a build in data structure for representing data in tabular format. This is called a <code>data frame</code>."
   ]
  },
  {
   "cell_type": "markdown",
   "id": "59a29290",
   "metadata": {},
   "source": [
    "Here we can define column names such as <code>id, patient_name and appointment_date</code>. We can then create vectors of data for the columns using <code>c</code> and providing the data itself."
   ]
  },
  {
   "cell_type": "code",
   "execution_count": 66,
   "id": "56effe8f",
   "metadata": {},
   "outputs": [],
   "source": [
    "df <- data.frame(\n",
    "    id=c(\"123532\", \"454264\", \"564263\", \"675432\", \"853243\"),\n",
    "    patient_name=c(\"Paul Smith\", \"Dan Anders\", \"Suzzane Mills\", \"Jane Symoore\", \"Oludamillarie Samuals\"),\n",
    "    appointment_date=c(\"13/07/2022\", \"22/07/2022\", \"01/08/2022\", \"12/08/2022\", \"12/08/2022\")\n",
    ")"
   ]
  },
  {
   "cell_type": "code",
   "execution_count": 67,
   "id": "b7eaa5ed",
   "metadata": {},
   "outputs": [
    {
     "name": "stdout",
     "output_type": "stream",
     "text": [
      "      id          patient_name appointment_date\n",
      "1 123532            Paul Smith       13/07/2022\n",
      "2 454264            Dan Anders       22/07/2022\n",
      "3 564263         Suzzane Mills       01/08/2022\n",
      "4 675432          Jane Symoore       12/08/2022\n",
      "5 853243 Oludamillarie Samuals       12/08/2022\n"
     ]
    }
   ],
   "source": [
    "print(df)"
   ]
  },
  {
   "cell_type": "markdown",
   "id": "8c14f03b",
   "metadata": {},
   "source": [
    "<div class=\"alert alert-success\">\n",
    "<b>Note:</b> There are functions that can load data from files (e.g. Excel or CSV etc.) This data can then be loaded directly into a data frame object. \n",
    "</div>"
   ]
  },
  {
   "cell_type": "markdown",
   "id": "300348b8",
   "metadata": {},
   "source": [
    "In a similar way to lists we can access individual columns in several different ways, like so."
   ]
  },
  {
   "cell_type": "code",
   "execution_count": 68,
   "id": "1a295a0a",
   "metadata": {},
   "outputs": [
    {
     "data": {
      "text/html": [
       "<ol class=list-inline>\n",
       "\t<li>Paul Smith</li>\n",
       "\t<li>Dan Anders</li>\n",
       "\t<li>Suzzane Mills</li>\n",
       "\t<li>Jane Symoore</li>\n",
       "\t<li>Oludamillarie Samuals</li>\n",
       "</ol>\n",
       "\n",
       "<details>\n",
       "\t<summary style=display:list-item;cursor:pointer>\n",
       "\t\t<strong>Levels</strong>:\n",
       "\t</summary>\n",
       "\t<ol class=list-inline>\n",
       "\t\t<li>'Dan Anders'</li>\n",
       "\t\t<li>'Jane Symoore'</li>\n",
       "\t\t<li>'Oludamillarie Samuals'</li>\n",
       "\t\t<li>'Paul Smith'</li>\n",
       "\t\t<li>'Suzzane Mills'</li>\n",
       "\t</ol>\n",
       "</details>"
      ],
      "text/latex": [
       "\\begin{enumerate*}\n",
       "\\item Paul Smith\n",
       "\\item Dan Anders\n",
       "\\item Suzzane Mills\n",
       "\\item Jane Symoore\n",
       "\\item Oludamillarie Samuals\n",
       "\\end{enumerate*}\n",
       "\n",
       "\\emph{Levels}: \\begin{enumerate*}\n",
       "\\item 'Dan Anders'\n",
       "\\item 'Jane Symoore'\n",
       "\\item 'Oludamillarie Samuals'\n",
       "\\item 'Paul Smith'\n",
       "\\item 'Suzzane Mills'\n",
       "\\end{enumerate*}\n"
      ],
      "text/markdown": [
       "1. Paul Smith\n",
       "2. Dan Anders\n",
       "3. Suzzane Mills\n",
       "4. Jane Symoore\n",
       "5. Oludamillarie Samuals\n",
       "\n",
       "\n",
       "\n",
       "**Levels**: 1. 'Dan Anders'\n",
       "2. 'Jane Symoore'\n",
       "3. 'Oludamillarie Samuals'\n",
       "4. 'Paul Smith'\n",
       "5. 'Suzzane Mills'\n",
       "\n",
       "\n"
      ],
      "text/plain": [
       "[1] Paul Smith            Dan Anders            Suzzane Mills        \n",
       "[4] Jane Symoore          Oludamillarie Samuals\n",
       "5 Levels: Dan Anders Jane Symoore Oludamillarie Samuals ... Suzzane Mills"
      ]
     },
     "metadata": {},
     "output_type": "display_data"
    }
   ],
   "source": [
    "df$patient_name"
   ]
  },
  {
   "cell_type": "code",
   "execution_count": 69,
   "id": "98724daf",
   "metadata": {},
   "outputs": [
    {
     "data": {
      "text/html": [
       "<ol class=list-inline>\n",
       "\t<li>Paul Smith</li>\n",
       "\t<li>Dan Anders</li>\n",
       "\t<li>Suzzane Mills</li>\n",
       "\t<li>Jane Symoore</li>\n",
       "\t<li>Oludamillarie Samuals</li>\n",
       "</ol>\n",
       "\n",
       "<details>\n",
       "\t<summary style=display:list-item;cursor:pointer>\n",
       "\t\t<strong>Levels</strong>:\n",
       "\t</summary>\n",
       "\t<ol class=list-inline>\n",
       "\t\t<li>'Dan Anders'</li>\n",
       "\t\t<li>'Jane Symoore'</li>\n",
       "\t\t<li>'Oludamillarie Samuals'</li>\n",
       "\t\t<li>'Paul Smith'</li>\n",
       "\t\t<li>'Suzzane Mills'</li>\n",
       "\t</ol>\n",
       "</details>"
      ],
      "text/latex": [
       "\\begin{enumerate*}\n",
       "\\item Paul Smith\n",
       "\\item Dan Anders\n",
       "\\item Suzzane Mills\n",
       "\\item Jane Symoore\n",
       "\\item Oludamillarie Samuals\n",
       "\\end{enumerate*}\n",
       "\n",
       "\\emph{Levels}: \\begin{enumerate*}\n",
       "\\item 'Dan Anders'\n",
       "\\item 'Jane Symoore'\n",
       "\\item 'Oludamillarie Samuals'\n",
       "\\item 'Paul Smith'\n",
       "\\item 'Suzzane Mills'\n",
       "\\end{enumerate*}\n"
      ],
      "text/markdown": [
       "1. Paul Smith\n",
       "2. Dan Anders\n",
       "3. Suzzane Mills\n",
       "4. Jane Symoore\n",
       "5. Oludamillarie Samuals\n",
       "\n",
       "\n",
       "\n",
       "**Levels**: 1. 'Dan Anders'\n",
       "2. 'Jane Symoore'\n",
       "3. 'Oludamillarie Samuals'\n",
       "4. 'Paul Smith'\n",
       "5. 'Suzzane Mills'\n",
       "\n",
       "\n"
      ],
      "text/plain": [
       "[1] Paul Smith            Dan Anders            Suzzane Mills        \n",
       "[4] Jane Symoore          Oludamillarie Samuals\n",
       "5 Levels: Dan Anders Jane Symoore Oludamillarie Samuals ... Suzzane Mills"
      ]
     },
     "metadata": {},
     "output_type": "display_data"
    }
   ],
   "source": [
    "df[[\"patient_name\"]]"
   ]
  },
  {
   "cell_type": "code",
   "execution_count": 70,
   "id": "2c33e18d",
   "metadata": {},
   "outputs": [
    {
     "data": {
      "text/html": [
       "<table>\n",
       "<thead><tr><th scope=col>patient_name</th></tr></thead>\n",
       "<tbody>\n",
       "\t<tr><td>Paul Smith           </td></tr>\n",
       "\t<tr><td>Dan Anders           </td></tr>\n",
       "\t<tr><td>Suzzane Mills        </td></tr>\n",
       "\t<tr><td>Jane Symoore         </td></tr>\n",
       "\t<tr><td>Oludamillarie Samuals</td></tr>\n",
       "</tbody>\n",
       "</table>\n"
      ],
      "text/latex": [
       "\\begin{tabular}{r|l}\n",
       " patient\\_name\\\\\n",
       "\\hline\n",
       "\t Paul Smith           \\\\\n",
       "\t Dan Anders           \\\\\n",
       "\t Suzzane Mills        \\\\\n",
       "\t Jane Symoore         \\\\\n",
       "\t Oludamillarie Samuals\\\\\n",
       "\\end{tabular}\n"
      ],
      "text/markdown": [
       "\n",
       "| patient_name |\n",
       "|---|\n",
       "| Paul Smith            |\n",
       "| Dan Anders            |\n",
       "| Suzzane Mills         |\n",
       "| Jane Symoore          |\n",
       "| Oludamillarie Samuals |\n",
       "\n"
      ],
      "text/plain": [
       "  patient_name         \n",
       "1 Paul Smith           \n",
       "2 Dan Anders           \n",
       "3 Suzzane Mills        \n",
       "4 Jane Symoore         \n",
       "5 Oludamillarie Samuals"
      ]
     },
     "metadata": {},
     "output_type": "display_data"
    }
   ],
   "source": [
    "df[2]"
   ]
  },
  {
   "cell_type": "markdown",
   "id": "b446ca3d",
   "metadata": {},
   "source": [
    "You can also specify columns by their index (e.g. the second and third columns) and all rows. "
   ]
  },
  {
   "cell_type": "code",
   "execution_count": 71,
   "id": "31eef53a",
   "metadata": {},
   "outputs": [
    {
     "data": {
      "text/html": [
       "<table>\n",
       "<thead><tr><th scope=col>patient_name</th><th scope=col>appointment_date</th></tr></thead>\n",
       "<tbody>\n",
       "\t<tr><td>Paul Smith           </td><td>13/07/2022           </td></tr>\n",
       "\t<tr><td>Dan Anders           </td><td>22/07/2022           </td></tr>\n",
       "\t<tr><td>Suzzane Mills        </td><td>01/08/2022           </td></tr>\n",
       "\t<tr><td>Jane Symoore         </td><td>12/08/2022           </td></tr>\n",
       "\t<tr><td>Oludamillarie Samuals</td><td>12/08/2022           </td></tr>\n",
       "</tbody>\n",
       "</table>\n"
      ],
      "text/latex": [
       "\\begin{tabular}{r|ll}\n",
       " patient\\_name & appointment\\_date\\\\\n",
       "\\hline\n",
       "\t Paul Smith            & 13/07/2022           \\\\\n",
       "\t Dan Anders            & 22/07/2022           \\\\\n",
       "\t Suzzane Mills         & 01/08/2022           \\\\\n",
       "\t Jane Symoore          & 12/08/2022           \\\\\n",
       "\t Oludamillarie Samuals & 12/08/2022           \\\\\n",
       "\\end{tabular}\n"
      ],
      "text/markdown": [
       "\n",
       "| patient_name | appointment_date |\n",
       "|---|---|\n",
       "| Paul Smith            | 13/07/2022            |\n",
       "| Dan Anders            | 22/07/2022            |\n",
       "| Suzzane Mills         | 01/08/2022            |\n",
       "| Jane Symoore          | 12/08/2022            |\n",
       "| Oludamillarie Samuals | 12/08/2022            |\n",
       "\n"
      ],
      "text/plain": [
       "  patient_name          appointment_date\n",
       "1 Paul Smith            13/07/2022      \n",
       "2 Dan Anders            22/07/2022      \n",
       "3 Suzzane Mills         01/08/2022      \n",
       "4 Jane Symoore          12/08/2022      \n",
       "5 Oludamillarie Samuals 12/08/2022      "
      ]
     },
     "metadata": {},
     "output_type": "display_data"
    }
   ],
   "source": [
    "df[ ,c(2,3)]"
   ]
  },
  {
   "cell_type": "markdown",
   "id": "343d71d9",
   "metadata": {},
   "source": [
    "You can also specify a specific row or rows as here where we retrieve the first row and first three columns."
   ]
  },
  {
   "cell_type": "code",
   "execution_count": 75,
   "id": "77a3a0c5",
   "metadata": {},
   "outputs": [
    {
     "data": {
      "text/html": [
       "<table>\n",
       "<thead><tr><th scope=col>id</th><th scope=col>patient_name</th><th scope=col>appointment_date</th></tr></thead>\n",
       "<tbody>\n",
       "\t<tr><td>123532    </td><td>Paul Smith</td><td>13/07/2022</td></tr>\n",
       "</tbody>\n",
       "</table>\n"
      ],
      "text/latex": [
       "\\begin{tabular}{r|lll}\n",
       " id & patient\\_name & appointment\\_date\\\\\n",
       "\\hline\n",
       "\t 123532     & Paul Smith & 13/07/2022\\\\\n",
       "\\end{tabular}\n"
      ],
      "text/markdown": [
       "\n",
       "| id | patient_name | appointment_date |\n",
       "|---|---|---|\n",
       "| 123532     | Paul Smith | 13/07/2022 |\n",
       "\n"
      ],
      "text/plain": [
       "  id     patient_name appointment_date\n",
       "1 123532 Paul Smith   13/07/2022      "
      ]
     },
     "metadata": {},
     "output_type": "display_data"
    }
   ],
   "source": [
    "df[1, c(1,2,3)]"
   ]
  },
  {
   "cell_type": "markdown",
   "id": "0e2658d4",
   "metadata": {},
   "source": [
    "Other useful options include the number of rows and numbers of columns <code>nrow</code> and <code>ncol</code>."
   ]
  },
  {
   "cell_type": "code",
   "execution_count": 77,
   "id": "615e8551",
   "metadata": {},
   "outputs": [
    {
     "data": {
      "text/html": [
       "3"
      ],
      "text/latex": [
       "3"
      ],
      "text/markdown": [
       "3"
      ],
      "text/plain": [
       "[1] 3"
      ]
     },
     "metadata": {},
     "output_type": "display_data"
    }
   ],
   "source": [
    "ncol(df)"
   ]
  },
  {
   "cell_type": "code",
   "execution_count": 78,
   "id": "9f551908",
   "metadata": {},
   "outputs": [
    {
     "data": {
      "text/html": [
       "5"
      ],
      "text/latex": [
       "5"
      ],
      "text/markdown": [
       "5"
      ],
      "text/plain": [
       "[1] 5"
      ]
     },
     "metadata": {},
     "output_type": "display_data"
    }
   ],
   "source": [
    "nrow(df)"
   ]
  },
  {
   "cell_type": "markdown",
   "id": "4a175405",
   "metadata": {},
   "source": [
    "We can also list the column names with the <code>colnames</code> function."
   ]
  },
  {
   "cell_type": "code",
   "execution_count": 79,
   "id": "aa626d0d",
   "metadata": {},
   "outputs": [
    {
     "data": {
      "text/html": [
       "<ol class=list-inline>\n",
       "\t<li>'id'</li>\n",
       "\t<li>'patient_name'</li>\n",
       "\t<li>'appointment_date'</li>\n",
       "</ol>\n"
      ],
      "text/latex": [
       "\\begin{enumerate*}\n",
       "\\item 'id'\n",
       "\\item 'patient\\_name'\n",
       "\\item 'appointment\\_date'\n",
       "\\end{enumerate*}\n"
      ],
      "text/markdown": [
       "1. 'id'\n",
       "2. 'patient_name'\n",
       "3. 'appointment_date'\n",
       "\n",
       "\n"
      ],
      "text/plain": [
       "[1] \"id\"               \"patient_name\"     \"appointment_date\""
      ]
     },
     "metadata": {},
     "output_type": "display_data"
    }
   ],
   "source": [
    "colnames(df)"
   ]
  },
  {
   "cell_type": "markdown",
   "id": "372b75c9",
   "metadata": {},
   "source": [
    "You can use this to overwrite one of more of the column names as in this example where we rename the first column <code>id</code> to <code>Patient_id</code>."
   ]
  },
  {
   "cell_type": "code",
   "execution_count": 80,
   "id": "ad829da5",
   "metadata": {},
   "outputs": [],
   "source": [
    "colnames(df)[1] <- \"Patient_id\""
   ]
  },
  {
   "cell_type": "code",
   "execution_count": 81,
   "id": "1ea3d788",
   "metadata": {},
   "outputs": [
    {
     "name": "stdout",
     "output_type": "stream",
     "text": [
      "  Patient_id          patient_name appointment_date\n",
      "1     123532            Paul Smith       13/07/2022\n",
      "2     454264            Dan Anders       22/07/2022\n",
      "3     564263         Suzzane Mills       01/08/2022\n",
      "4     675432          Jane Symoore       12/08/2022\n",
      "5     853243 Oludamillarie Samuals       12/08/2022\n"
     ]
    }
   ],
   "source": [
    "print(df)"
   ]
  },
  {
   "cell_type": "markdown",
   "id": "709a88c2",
   "metadata": {},
   "source": [
    "Extra columns can be added by specifying the name of the data frame (in this case <code>df</code>) then a dollar sign <code>$</code> and the new column name. Here we add two new columns to represent the patients systolic and diastolic blood pressures. Note that the number of items you add must equal the number of existing rows or an error will be generated."
   ]
  },
  {
   "cell_type": "code",
   "execution_count": 82,
   "id": "dfd85a28",
   "metadata": {},
   "outputs": [],
   "source": [
    "df$BP_sys <- c(122, 130, 155, 142, 101)\n",
    "df$BP_dia <- c(70, 82, 76, 55, 66)"
   ]
  },
  {
   "cell_type": "code",
   "execution_count": 83,
   "id": "2535da7e",
   "metadata": {},
   "outputs": [
    {
     "name": "stdout",
     "output_type": "stream",
     "text": [
      "  Patient_id          patient_name appointment_date BP_sys BP_dia\n",
      "1     123532            Paul Smith       13/07/2022    122     70\n",
      "2     454264            Dan Anders       22/07/2022    130     82\n",
      "3     564263         Suzzane Mills       01/08/2022    155     76\n",
      "4     675432          Jane Symoore       12/08/2022    142     55\n",
      "5     853243 Oludamillarie Samuals       12/08/2022    101     66\n"
     ]
    }
   ],
   "source": [
    "print(df)"
   ]
  },
  {
   "cell_type": "markdown",
   "id": "9704d38c",
   "metadata": {},
   "source": [
    "The <code>summary</code> function can be used to provide statistical information for numerical fields such as the <code>mean</code>, <code>median</code>, <code>max</code> and <code>min</code> and quartiles."
   ]
  },
  {
   "cell_type": "code",
   "execution_count": 84,
   "id": "4a353362",
   "metadata": {},
   "outputs": [
    {
     "name": "stdout",
     "output_type": "stream",
     "text": [
      "  Patient_id                patient_name   appointment_date     BP_sys   \n",
      " 123532:1    Dan Anders           :1     01/08/2022:1       Min.   :101  \n",
      " 454264:1    Jane Symoore         :1     12/08/2022:2       1st Qu.:122  \n",
      " 564263:1    Oludamillarie Samuals:1     13/07/2022:1       Median :130  \n",
      " 675432:1    Paul Smith           :1     22/07/2022:1       Mean   :130  \n",
      " 853243:1    Suzzane Mills        :1                        3rd Qu.:142  \n",
      "                                                            Max.   :155  \n",
      "     BP_dia    \n",
      " Min.   :55.0  \n",
      " 1st Qu.:66.0  \n",
      " Median :70.0  \n",
      " Mean   :69.8  \n",
      " 3rd Qu.:76.0  \n",
      " Max.   :82.0  \n"
     ]
    }
   ],
   "source": [
    "print(summary(df))"
   ]
  },
  {
   "cell_type": "markdown",
   "id": "60531212",
   "metadata": {},
   "source": [
    "There are also several ways to extract subsets of data from a data frame. The following two examples show two ways of achieving the same result. In both cases we are interested in extracting all the values from the data frame where the systolic blood pressure is more than <code>130 mmHg</code>."
   ]
  },
  {
   "cell_type": "code",
   "execution_count": 88,
   "id": "2996d7ce",
   "metadata": {},
   "outputs": [
    {
     "data": {
      "text/html": [
       "<table>\n",
       "<thead><tr><th></th><th scope=col>Patient_id</th><th scope=col>patient_name</th><th scope=col>appointment_date</th><th scope=col>BP_sys</th><th scope=col>BP_dia</th></tr></thead>\n",
       "<tbody>\n",
       "\t<tr><th scope=row>3</th><td>564263       </td><td>Suzzane Mills</td><td>01/08/2022   </td><td>155          </td><td>76           </td></tr>\n",
       "\t<tr><th scope=row>4</th><td>675432       </td><td>Jane Symoore </td><td>12/08/2022   </td><td>142          </td><td>55           </td></tr>\n",
       "</tbody>\n",
       "</table>\n"
      ],
      "text/latex": [
       "\\begin{tabular}{r|lllll}\n",
       "  & Patient\\_id & patient\\_name & appointment\\_date & BP\\_sys & BP\\_dia\\\\\n",
       "\\hline\n",
       "\t3 & 564263        & Suzzane Mills & 01/08/2022    & 155           & 76           \\\\\n",
       "\t4 & 675432        & Jane Symoore  & 12/08/2022    & 142           & 55           \\\\\n",
       "\\end{tabular}\n"
      ],
      "text/markdown": [
       "\n",
       "| <!--/--> | Patient_id | patient_name | appointment_date | BP_sys | BP_dia |\n",
       "|---|---|---|---|---|---|\n",
       "| 3 | 564263        | Suzzane Mills | 01/08/2022    | 155           | 76            |\n",
       "| 4 | 675432        | Jane Symoore  | 12/08/2022    | 142           | 55            |\n",
       "\n"
      ],
      "text/plain": [
       "  Patient_id patient_name  appointment_date BP_sys BP_dia\n",
       "3 564263     Suzzane Mills 01/08/2022       155    76    \n",
       "4 675432     Jane Symoore  12/08/2022       142    55    "
      ]
     },
     "metadata": {},
     "output_type": "display_data"
    }
   ],
   "source": [
    "df[which(df$BP_sys > 130), ]"
   ]
  },
  {
   "cell_type": "code",
   "execution_count": 93,
   "id": "974799a7",
   "metadata": {},
   "outputs": [
    {
     "data": {
      "text/html": [
       "<table>\n",
       "<thead><tr><th></th><th scope=col>Patient_id</th><th scope=col>patient_name</th><th scope=col>appointment_date</th><th scope=col>BP_sys</th><th scope=col>BP_dia</th></tr></thead>\n",
       "<tbody>\n",
       "\t<tr><th scope=row>3</th><td>564263       </td><td>Suzzane Mills</td><td>01/08/2022   </td><td>155          </td><td>76           </td></tr>\n",
       "\t<tr><th scope=row>4</th><td>675432       </td><td>Jane Symoore </td><td>12/08/2022   </td><td>142          </td><td>55           </td></tr>\n",
       "</tbody>\n",
       "</table>\n"
      ],
      "text/latex": [
       "\\begin{tabular}{r|lllll}\n",
       "  & Patient\\_id & patient\\_name & appointment\\_date & BP\\_sys & BP\\_dia\\\\\n",
       "\\hline\n",
       "\t3 & 564263        & Suzzane Mills & 01/08/2022    & 155           & 76           \\\\\n",
       "\t4 & 675432        & Jane Symoore  & 12/08/2022    & 142           & 55           \\\\\n",
       "\\end{tabular}\n"
      ],
      "text/markdown": [
       "\n",
       "| <!--/--> | Patient_id | patient_name | appointment_date | BP_sys | BP_dia |\n",
       "|---|---|---|---|---|---|\n",
       "| 3 | 564263        | Suzzane Mills | 01/08/2022    | 155           | 76            |\n",
       "| 4 | 675432        | Jane Symoore  | 12/08/2022    | 142           | 55            |\n",
       "\n"
      ],
      "text/plain": [
       "  Patient_id patient_name  appointment_date BP_sys BP_dia\n",
       "3 564263     Suzzane Mills 01/08/2022       155    76    \n",
       "4 675432     Jane Symoore  12/08/2022       142    55    "
      ]
     },
     "metadata": {},
     "output_type": "display_data"
    }
   ],
   "source": [
    "subset(df, BP_sys > 130, select=c(1:5))"
   ]
  },
  {
   "cell_type": "markdown",
   "id": "127e4633",
   "metadata": {
    "solution2": "hidden",
    "solution2_first": true
   },
   "source": [
    "<div class=\"alert alert-block alert-info\">\n",
    "<b>Task 5:</b>\n",
    "<br> \n",
    "Using one of the methods for sub-setting, extract the data where the diastolic pressure is <code>70 or less</code> and only retrieve the patients name and diastolic BP. \n",
    "</div>"
   ]
  },
  {
   "cell_type": "code",
   "execution_count": 95,
   "id": "16b7fa7f",
   "metadata": {
    "solution2": "hidden"
   },
   "outputs": [
    {
     "data": {
      "text/html": [
       "<table>\n",
       "<thead><tr><th></th><th scope=col>patient_name</th><th scope=col>BP_dia</th></tr></thead>\n",
       "<tbody>\n",
       "\t<tr><th scope=row>1</th><td>Paul Smith           </td><td>70                   </td></tr>\n",
       "\t<tr><th scope=row>4</th><td>Jane Symoore         </td><td>55                   </td></tr>\n",
       "\t<tr><th scope=row>5</th><td>Oludamillarie Samuals</td><td>66                   </td></tr>\n",
       "</tbody>\n",
       "</table>\n"
      ],
      "text/latex": [
       "\\begin{tabular}{r|ll}\n",
       "  & patient\\_name & BP\\_dia\\\\\n",
       "\\hline\n",
       "\t1 & Paul Smith            & 70                   \\\\\n",
       "\t4 & Jane Symoore          & 55                   \\\\\n",
       "\t5 & Oludamillarie Samuals & 66                   \\\\\n",
       "\\end{tabular}\n"
      ],
      "text/markdown": [
       "\n",
       "| <!--/--> | patient_name | BP_dia |\n",
       "|---|---|---|\n",
       "| 1 | Paul Smith            | 70                    |\n",
       "| 4 | Jane Symoore          | 55                    |\n",
       "| 5 | Oludamillarie Samuals | 66                    |\n",
       "\n"
      ],
      "text/plain": [
       "  patient_name          BP_dia\n",
       "1 Paul Smith            70    \n",
       "4 Jane Symoore          55    \n",
       "5 Oludamillarie Samuals 66    "
      ]
     },
     "metadata": {},
     "output_type": "display_data"
    }
   ],
   "source": [
    "subset(df, BP_dia <= 70, select=c(2,5))"
   ]
  },
  {
   "cell_type": "code",
   "execution_count": null,
   "id": "58a6b9d8",
   "metadata": {},
   "outputs": [],
   "source": []
  },
  {
   "cell_type": "markdown",
   "id": "0c4beab7",
   "metadata": {},
   "source": [
    "In the next note book we look at <code>iteration</code> which can be used to run code multiple times or until a certain condition(s) is met. This is often used in conjunction with various data structures."
   ]
  },
  {
   "cell_type": "markdown",
   "id": "03103f91",
   "metadata": {},
   "source": [
    "### Notebook details\n",
    "<br>\n",
    "<i>Notebook created by <strong>Dr. Alan Davies</strong>.\n",
    "<br>\n",
    "&copy; Alan Davies 2022"
   ]
  },
  {
   "cell_type": "markdown",
   "id": "241bfbf4",
   "metadata": {},
   "source": [
    "## Notes:"
   ]
  },
  {
   "cell_type": "code",
   "execution_count": null,
   "id": "01a8a46a",
   "metadata": {},
   "outputs": [],
   "source": []
  },
  {
   "cell_type": "code",
   "execution_count": null,
   "id": "5b196eef",
   "metadata": {},
   "outputs": [],
   "source": []
  }
 ],
 "metadata": {
  "hide_input": false,
  "kernelspec": {
   "display_name": "R",
   "language": "R",
   "name": "ir"
  },
  "language_info": {
   "codemirror_mode": "r",
   "file_extension": ".r",
   "mimetype": "text/x-r-source",
   "name": "R",
   "pygments_lexer": "r",
   "version": "3.6.1"
  }
 },
 "nbformat": 4,
 "nbformat_minor": 5
}
