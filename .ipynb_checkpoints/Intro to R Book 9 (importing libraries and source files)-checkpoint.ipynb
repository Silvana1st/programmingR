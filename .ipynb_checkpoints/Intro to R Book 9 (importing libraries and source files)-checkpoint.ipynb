{
 "cells": [
  {
   "cell_type": "markdown",
   "id": "67a7db11",
   "metadata": {},
   "source": [
    "<img src=\"./intro_images/MIE.PNG\" width=\"100%\" align=\"left\" />"
   ]
  },
  {
   "cell_type": "markdown",
   "id": "78a1aaff",
   "metadata": {},
   "source": [
    "<table style=\"float:right;\">\n",
    "    <tr>\n",
    "        <td>                      \n",
    "            <div style=\"text-align: right\"><a href=\"https://alandavies.netlify.com\" target=\"_blank\">Dr Alan Davies</a></div>\n",
    "            <div style=\"text-align: right\">Senior Lecturer Health Data Science</div>\n",
    "            <div style=\"text-align: right\">University of Manchester</div>\n",
    "         </td>\n",
    "         <td>\n",
    "             <img src=\"./intro_images/alan.PNG\" width=\"30%\" />\n",
    "         </td>\n",
    "     </tr>\n",
    "</table>"
   ]
  },
  {
   "cell_type": "markdown",
   "id": "9b9a1d86",
   "metadata": {},
   "source": [
    "# 9.0 Importing libraries and source files\n",
    "****"
   ]
  },
  {
   "cell_type": "markdown",
   "id": "17bce36b",
   "metadata": {},
   "source": [
    "#### About this Notebook\n",
    "This notebook introduces the use of additional external R packages/libraries that can be used to expand the number of functions and tools available to you as a programmer. We can also create our own source files so we can break up long programs into separate more manageable files. "
   ]
  },
  {
   "cell_type": "markdown",
   "id": "364905d3",
   "metadata": {},
   "source": [
    "<div class=\"alert alert-block alert-warning\"><b>Learning Objectives:</b> \n",
    "<br/> At the end of this notebook you will be able to:\n",
    "    \n",
    "- Investigate key features of using external packages in R\n",
    "\n",
    "- Investigate key features of using our own source files in R\n",
    "\n",
    "</div> "
   ]
  },
  {
   "cell_type": "markdown",
   "id": "38eb6f9c",
   "metadata": {},
   "source": [
    "<a id=\"top\"></a>\n",
    "\n",
    "<b>Table of contents</b><br>\n",
    "\n",
    "9.1 [Installing additional packages](#install)\n",
    "\n",
    "9.2 [Working with multiple R files in a single project](#multiple)"
   ]
  },
  {
   "cell_type": "markdown",
   "id": "60849b2e",
   "metadata": {},
   "source": [
    "There are a massive amount of packages that have been written by various people that are available to use in R. This saves a lot time compared to writing your own functions to do things. Certainly for common tasks there is nearly always a pre-made option available for you to use. Let's consider the arithmetic <code>mean</code>. Finding the average of some numbers is a common statistical task. We could write our own function to add up a list of numbers and divide them by the length of the list. i.e:"
   ]
  },
  {
   "cell_type": "code",
   "execution_count": 2,
   "id": "4f1f5062",
   "metadata": {},
   "outputs": [],
   "source": [
    "average_function <- function(nums)\n",
    "{\n",
    "    total <- sum(nums)\n",
    "    return(total / length(nums))\n",
    "}"
   ]
  },
  {
   "cell_type": "code",
   "execution_count": 3,
   "id": "1c2bf5a9",
   "metadata": {},
   "outputs": [
    {
     "name": "stdout",
     "output_type": "stream",
     "text": [
      "Mean = 3.8"
     ]
    }
   ],
   "source": [
    "my_list <- c(5, 2, 4, 6, 2)\n",
    "cat(\"Mean =\", average_function(my_list))"
   ]
  },
  {
   "cell_type": "markdown",
   "id": "026bd05c",
   "metadata": {},
   "source": [
    "But why go to this trouble if someone has already made such a function for you; and probably tested the function thoroughly. In this case there is a built in <code>mean</code> function we can use."
   ]
  },
  {
   "cell_type": "code",
   "execution_count": 4,
   "id": "f321ca0c",
   "metadata": {},
   "outputs": [
    {
     "name": "stdout",
     "output_type": "stream",
     "text": [
      "Mean = 3.8"
     ]
    }
   ],
   "source": [
    "cat(\"Mean =\", mean(my_list))"
   ]
  },
  {
   "cell_type": "markdown",
   "id": "8a60a661",
   "metadata": {},
   "source": [
    "<a id=\"install\"></a>\n",
    "#### 9.1 Installing additional modules"
   ]
  },
  {
   "cell_type": "markdown",
   "id": "861b830b",
   "metadata": {},
   "source": [
    "If you already have a package installed on your machine you can include it your program using <code>library</code> and specifying the name of required library e.g. <code>library(lubridate)</code>. If the library is not currently installed we can install it like so: <code>install.packages(\"package_name\")</code> e.g. <code>install.packages(\"lubridate\")</code>. Another way to do this is using <code>RStudio</code> which the most commonly used R IDE (Integrated Development Environment). Here in the bottom right pane you can click the <code>install</code> button and then type in the name of the package (e.g. ggplot2) which is widely used for plotting. Once selected you can click the <code>install</code> button and it will be added to the list of installed libraries."
   ]
  },
  {
   "cell_type": "markdown",
   "id": "793ac02f",
   "metadata": {},
   "source": [
    "<img src=\"./intro_images/libs.PNG\" width=\"100%\" align=\"left\" />"
   ]
  },
  {
   "cell_type": "markdown",
   "id": "bf1df8fe",
   "metadata": {},
   "source": [
    "A final option is to use the <code>require</code> e.g."
   ]
  },
  {
   "cell_type": "code",
   "execution_count": 5,
   "id": "fedad73e",
   "metadata": {},
   "outputs": [
    {
     "name": "stderr",
     "output_type": "stream",
     "text": [
      "Loading required package: ggplot2\n",
      "Warning message:\n",
      "\"package 'ggplot2' was built under R version 3.6.3\""
     ]
    }
   ],
   "source": [
    "require(ggplot2)"
   ]
  },
  {
   "cell_type": "markdown",
   "id": "8f22eca4",
   "metadata": {},
   "source": [
    "The <code>library</code> option will return an error if the package is not installed/doesn't exist. The <code>require</code> option was designed to be used in functions. It returns a warning message and TRUE if the package is loaded and FALSE if not."
   ]
  },
  {
   "cell_type": "markdown",
   "id": "541f779e",
   "metadata": {},
   "source": [
    "As we have just loaded the <code>ggplot2</code> library, let's take a quick look at it. This package is used to create data visualisations. Let's create a simple data frame with some fictional data on hospital spending for two hospitals."
   ]
  },
  {
   "cell_type": "code",
   "execution_count": 6,
   "id": "9f12ab5c",
   "metadata": {},
   "outputs": [],
   "source": [
    "df <- data.frame(hospitals=c(\"All Saints\", \"Lost Hope\"), annual_spending=c(1460, 960))"
   ]
  },
  {
   "cell_type": "markdown",
   "id": "23d171f0",
   "metadata": {},
   "source": [
    "Next we create a bar plot. We specify the data to use (in this case our data frame <code>df</code>). The <code>aes</code> refers to the aesthetic where we specify which columns to use for the x and y axis. Finally the <code>geom_bar</code> specifies the bar plot. There are other options for line plots etc. The <code>ggplot2</code> package builds up a visualisation in layers. We use the plus to add additional layers to the plot."
   ]
  },
  {
   "cell_type": "code",
   "execution_count": 7,
   "id": "c5b4435d",
   "metadata": {},
   "outputs": [],
   "source": [
    "plt <- ggplot(data=df, aes(x=hospitals, y=annual_spending)) +\n",
    "    geom_bar(stat='identity')"
   ]
  },
  {
   "cell_type": "markdown",
   "id": "a8bd9a4f",
   "metadata": {},
   "source": [
    "Finally we can output the plot. Note I could have just written <code>plt</code> and the plot would be output. I tend to use <code>print</code> because this is necessary for some reason to output a plot from inside a function as just using <code>plt</code> (or whatever the name of your plot is) doesn't work inside functions."
   ]
  },
  {
   "cell_type": "code",
   "execution_count": 8,
   "id": "7995f82d",
   "metadata": {},
   "outputs": [
    {
     "data": {
      "image/png": "[encoded data removed]",
      "text/plain": [
       "plot without title"
      ]
     },
     "metadata": {},
     "output_type": "display_data"
    }
   ],
   "source": [
    "print(plt)"
   ]
  },
  {
   "cell_type": "markdown",
   "id": "2df7c8f8",
   "metadata": {},
   "source": [
    "We can of course supply additional options to further customize the plot. In the example below we change the font size, rotate the axis labels by 45&deg;, add a plot title and change the colour of the bars."
   ]
  },
  {
   "cell_type": "code",
   "execution_count": 11,
   "id": "af958b00",
   "metadata": {},
   "outputs": [
    {
     "data": {
      "image/png": "[encoded data removed]",
      "text/plain": [
       "plot without title"
      ]
     },
     "metadata": {},
     "output_type": "display_data"
    }
   ],
   "source": [
    "plt <- ggplot(data=df, aes(x=hospitals, y=annual_spending, fill=hospitals)) +\n",
    "    geom_bar(stat='identity') +\n",
    "    theme(axis.text.x=element_text(size=12, angle=45), axis.text.y=element_text(size=12)) +\n",
    "    xlab(\"Hospitals\") +\n",
    "    ylab(\"Annual spending (millions £)\") +\n",
    "    ggtitle(\"Annual spending per hospital\")\n",
    "print(plt)"
   ]
  },
  {
   "cell_type": "markdown",
   "id": "68db36ac",
   "metadata": {},
   "source": [
    "Let's create another data frame for a task."
   ]
  },
  {
   "cell_type": "code",
   "execution_count": 24,
   "id": "9189d050",
   "metadata": {},
   "outputs": [
    {
     "name": "stdout",
     "output_type": "stream",
     "text": [
      "   year spending hospital\n",
      "1  2018     1004   Saints\n",
      "2  2019     1200   Saints\n",
      "3  2020     1330   Saints\n",
      "4  2021     1360   Saints\n",
      "5  2022     1460   Saints\n",
      "6  2018      780     Hope\n",
      "7  2019      790     Hope\n",
      "8  2020      820     Hope\n",
      "9  2021      890     Hope\n",
      "10 2022      960     Hope\n"
     ]
    }
   ],
   "source": [
    "df <- data.frame(year=c('2018','2019','2020','2021','2022','2018','2019','2020','2021','2022'), \n",
    "                 spending=c(1004, 1200, 1330, 1360, 1460, 780, 790, 820, 890, 960), \n",
    "                 hospital=c('Saints','Saints','Saints','Saints','Saints','Hope','Hope','Hope','Hope','Hope'))\n",
    "print(df)"
   ]
  },
  {
   "cell_type": "markdown",
   "id": "e6ff4c1c",
   "metadata": {
    "solution2": "hidden",
    "solution2_first": true
   },
   "source": [
    "<div class=\"alert alert-block alert-info\">\n",
    "<b>Task 1:</b>\n",
    "<br> \n",
    "1. Using the data frame above, create a line plot to show spending for the two hospitals by year from 2018 to 2022. Make sure to add a title and appropriate x and y axis labels. <br>\n",
    "2. Make the lines for each hospital are different in some way (e.g. different line style, colour etc.)<br>\n",
    "    <strong>HINT:</strong> You may want to carry out an internet search for <code>geom_line</code>.\n",
    "</div>"
   ]
  },
  {
   "cell_type": "code",
   "execution_count": 33,
   "id": "c98bc301",
   "metadata": {
    "solution2": "hidden"
   },
   "outputs": [
    {
     "data": {
      "image/png": "[encoded data removed]",
      "text/plain": [
       "plot without title"
      ]
     },
     "metadata": {},
     "output_type": "display_data"
    }
   ],
   "source": [
    "plt <- ggplot(data=df, aes(x=year, y=spending, group=hospital)) +\n",
    "    geom_line(aes(color=hospital)) +\n",
    "    geom_point(size=3) +\n",
    "    xlab(\"Year\") +\n",
    "    ylab(\"Spending (millions £)\") +\n",
    "    ggtitle(\"Hospital annual spending (2018-2022)\")\n",
    "print(plt)"
   ]
  },
  {
   "cell_type": "code",
   "execution_count": null,
   "id": "35c2c29d",
   "metadata": {},
   "outputs": [],
   "source": []
  },
  {
   "cell_type": "markdown",
   "id": "61175853",
   "metadata": {},
   "source": [
    "Another of the widely used libraries in R that we will introduce briefly is the <code>tidyverse</code>. This is actually a collection of several different packages for data science tasks. These include <code>dplyr</code>, <code>tibble</code>, <code>tidyr</code> among others."
   ]
  },
  {
   "cell_type": "code",
   "execution_count": 34,
   "id": "1beb7324",
   "metadata": {},
   "outputs": [
    {
     "name": "stderr",
     "output_type": "stream",
     "text": [
      "Warning message:\n",
      "\"package 'tidyverse' was built under R version 3.6.3\"-- Attaching packages ------------------------------------------------------------------------------- tidyverse 1.3.0 --\n",
      "v tibble  3.0.4     v dplyr   1.0.2\n",
      "v tidyr   1.1.2     v stringr 1.4.0\n",
      "v readr   1.4.0     v forcats 0.5.0\n",
      "v purrr   0.3.4     \n",
      "Warning message:\n",
      "\"package 'tibble' was built under R version 3.6.3\"Warning message:\n",
      "\"package 'tidyr' was built under R version 3.6.3\"Warning message:\n",
      "\"package 'readr' was built under R version 3.6.3\"Warning message:\n",
      "\"package 'purrr' was built under R version 3.6.3\"Warning message:\n",
      "\"package 'dplyr' was built under R version 3.6.3\"Warning message:\n",
      "\"package 'forcats' was built under R version 3.6.3\"-- Conflicts ---------------------------------------------------------------------------------- tidyverse_conflicts() --\n",
      "x dplyr::filter()  masks stats::filter()\n",
      "x purrr::flatten() masks jsonlite::flatten()\n",
      "x dplyr::lag()     masks stats::lag()\n"
     ]
    }
   ],
   "source": [
    "library(tidyverse)"
   ]
  },
  {
   "cell_type": "markdown",
   "id": "0c1f846c",
   "metadata": {},
   "source": [
    "A table of data table is considered to be tidy when each row represents an observation and each column represent the variables available for each observation."
   ]
  },
  {
   "cell_type": "markdown",
   "id": "9d5e5634",
   "metadata": {},
   "source": [
    "This lets use use <code>pipes</code> to pipe the output of an operation into another using <code>%>%</code>. here we send the data frame to <code>group_by</code> to group by hospital then pipe this to <code>summarize</code> generating the mean for each hospital."
   ]
  },
  {
   "cell_type": "code",
   "execution_count": 38,
   "id": "1307975a",
   "metadata": {},
   "outputs": [
    {
     "name": "stderr",
     "output_type": "stream",
     "text": [
      "`summarise()` ungrouping output (override with `.groups` argument)\n"
     ]
    },
    {
     "name": "stdout",
     "output_type": "stream",
     "text": [
      "# A tibble: 2 x 2\n",
      "  hospital   avg\n",
      "  <fct>    <dbl>\n",
      "1 Hope      848 \n",
      "2 Saints   1271.\n"
     ]
    }
   ],
   "source": [
    "hosp_summary <- df %>%\n",
    "  group_by(hospital) %>%\n",
    "  summarize(avg = mean(spending)) %>% \n",
    "  ungroup() \n",
    "print(hosp_summary)"
   ]
  },
  {
   "cell_type": "markdown",
   "id": "43780274",
   "metadata": {},
   "source": [
    "<div class=\"alert alert-success\">\n",
    "<b>Note:</b> For more information on the <code>tidyverse</code> take a look at <a href=\"https://rviews.rstudio.com/2017/06/08/what-is-the-tidyverse/\" target=\"_blank\">this</a> short article. \n",
    "</div>"
   ]
  },
  {
   "cell_type": "code",
   "execution_count": 40,
   "id": "98a1b39c",
   "metadata": {},
   "outputs": [
    {
     "name": "stdout",
     "output_type": "stream",
     "text": [
      "          student mark\n",
      "1      Paul smith   27\n",
      "2    Leanne Jones   15\n",
      "3    Viktor Golas   20\n",
      "4      Salma Khan   22\n",
      "5   Wendy Biggins   18\n",
      "6       Jane Carr   17\n",
      "7  Bradley Samson   26\n",
      "8    Wayne Jakobs   22\n",
      "9     Hannah King    7\n",
      "10       Amy Bird   19\n"
     ]
    }
   ],
   "source": [
    "marks <- data.frame(student=c('Paul smith','Leanne Jones','Viktor Golas','Salma Khan','Wendy Biggins',\n",
    "                              'Jane Carr','Bradley Samson','Wayne Jakobs','Hannah King','Amy Bird'),\n",
    "                    mark=c(27, 15, 20, 22, 18, 17, 26, 22, 7, 19))\n",
    "print(marks)"
   ]
  },
  {
   "cell_type": "markdown",
   "id": "dd7d2e9c",
   "metadata": {
    "solution2": "hidden",
    "solution2_first": true
   },
   "source": [
    "<div class=\"alert alert-block alert-info\">\n",
    "<b>Task 2:</b>\n",
    "<br> The data frame above contains marks for an MSc module programming exam. The marks are out of 30. Look up how to use the <code>mutate</code> function and use it to add a new column to the data showing the percentage mark.  \n",
    "</div>"
   ]
  },
  {
   "cell_type": "code",
   "execution_count": 41,
   "id": "5ec55ff6",
   "metadata": {
    "solution2": "hidden"
   },
   "outputs": [
    {
     "name": "stdout",
     "output_type": "stream",
     "text": [
      "          student mark       pc\n",
      "1      Paul smith   27 90.00000\n",
      "2    Leanne Jones   15 50.00000\n",
      "3    Viktor Golas   20 66.66667\n",
      "4      Salma Khan   22 73.33333\n",
      "5   Wendy Biggins   18 60.00000\n",
      "6       Jane Carr   17 56.66667\n",
      "7  Bradley Samson   26 86.66667\n",
      "8    Wayne Jakobs   22 73.33333\n",
      "9     Hannah King    7 23.33333\n",
      "10       Amy Bird   19 63.33333\n"
     ]
    }
   ],
   "source": [
    "pc <- mutate(marks, pc = (mark / 30) * 100)\n",
    "print(pc)"
   ]
  },
  {
   "cell_type": "code",
   "execution_count": null,
   "id": "d7dcb47f",
   "metadata": {},
   "outputs": [],
   "source": []
  },
  {
   "cell_type": "markdown",
   "id": "00ff3d49",
   "metadata": {},
   "source": [
    "<a id=\"multiple\"></a>\n",
    "#### 9.2 Working with multiple R files in a single project"
   ]
  },
  {
   "cell_type": "markdown",
   "id": "9ef8b477",
   "metadata": {},
   "source": [
    "Sometimes programs can get quite large and you may want to split them up across several source files. This could also be because your following a particular design pattern and/or other people are working on a larger project together that uses multiple source files. R source code files end with the <code>.r</code> file extension. Let's take a look a simple example. "
   ]
  },
  {
   "cell_type": "markdown",
   "id": "76220f77",
   "metadata": {},
   "source": [
    "I have created an R source code file called <code>experimental_data.r</code>. I put this in a folder relative to this notebook called <code>resources</code>. The screen shot below shows this file and the three simple functions it contains. The first loads a CSV (Comma, Separated Values) file, the second adds a column to this data frame with a percentage score and the final one returns the maximum mark. "
   ]
  },
  {
   "cell_type": "markdown",
   "id": "da1248ad",
   "metadata": {},
   "source": [
    "<img src=\"./intro_images/source.PNG\" width=\"60%\" align=\"left\" />"
   ]
  },
  {
   "cell_type": "markdown",
   "id": "c110aaa5",
   "metadata": {},
   "source": [
    "If I wanted to use these simple helper functions in another program (perhaps many programs) I can import this file into my current source file (or in this case a notebook) using the <code>source</code> function and specifying the path to my source file."
   ]
  },
  {
   "cell_type": "code",
   "execution_count": 66,
   "id": "0385ef12",
   "metadata": {},
   "outputs": [],
   "source": [
    "source('./resources/experimental_data.r')"
   ]
  },
  {
   "cell_type": "markdown",
   "id": "5c84b481",
   "metadata": {},
   "source": [
    "Once loaded I can make use of any variables and functions in the file directly. For example:"
   ]
  },
  {
   "cell_type": "code",
   "execution_count": 64,
   "id": "bdd1df71",
   "metadata": {},
   "outputs": [
    {
     "name": "stdout",
     "output_type": "stream",
     "text": [
      "              name candidate_number score\n",
      "1        Adam West           124532    56\n",
      "2     Paul Bradley           543433    62\n",
      "3    Suzzane Smith           445342    71\n",
      "4   Wiktoria Chleb           654257    66\n",
      "5 Paulina Westbury           543254    77\n",
      "6      David Green           541663    51\n",
      "7    Harrold Grund           765332    48\n"
     ]
    }
   ],
   "source": [
    "df <- openDataFile('./resources/exam data.csv')\n",
    "print(df)"
   ]
  },
  {
   "cell_type": "code",
   "execution_count": 67,
   "id": "64bb714d",
   "metadata": {},
   "outputs": [
    {
     "name": "stdout",
     "output_type": "stream",
     "text": [
      "              name candidate_number score    pc\n",
      "1        Adam West           124532    56 70.00\n",
      "2     Paul Bradley           543433    62 77.50\n",
      "3    Suzzane Smith           445342    71 88.75\n",
      "4   Wiktoria Chleb           654257    66 82.50\n",
      "5 Paulina Westbury           543254    77 96.25\n",
      "6      David Green           541663    51 63.75\n",
      "7    Harrold Grund           765332    48 60.00\n"
     ]
    }
   ],
   "source": [
    "pc_df <- calculatePercentage(df, 'score', 80)\n",
    "print(pc_df)"
   ]
  },
  {
   "cell_type": "code",
   "execution_count": 68,
   "id": "efc5299e",
   "metadata": {},
   "outputs": [
    {
     "name": "stdout",
     "output_type": "stream",
     "text": [
      "The max mark is: 77"
     ]
    }
   ],
   "source": [
    "cat(\"The max mark is:\", getMaximumMark(df, 'score'))"
   ]
  },
  {
   "cell_type": "markdown",
   "id": "f3ca9663",
   "metadata": {},
   "source": [
    "You can also set a working directory in R to place files and project you are working on. You can see what this is set to using <code>getwd()</code>."
   ]
  },
  {
   "cell_type": "code",
   "execution_count": 42,
   "id": "708305a7",
   "metadata": {},
   "outputs": [
    {
     "data": {
      "text/html": [
       "'C:/Users/Alan_Davies/Intro to programming (R)'"
      ],
      "text/latex": [
       "'C:/Users/Alan\\_Davies/Intro to programming (R)'"
      ],
      "text/markdown": [
       "'C:/Users/Alan_Davies/Intro to programming (R)'"
      ],
      "text/plain": [
       "[1] \"C:/Users/Alan_Davies/Intro to programming (R)\""
      ]
     },
     "metadata": {},
     "output_type": "display_data"
    }
   ],
   "source": [
    "getwd()"
   ]
  },
  {
   "cell_type": "markdown",
   "id": "7ca4b492",
   "metadata": {},
   "source": [
    "Being able to spread code across multiple files is useful as you can reuse bits of code in other project and make the code more readable by splitting it up in semantically related files. This can help to make it easier to maintain and share code. The next notebook explores <code>Object Orientated Programming (OOP)</code>. This allows us to store related data structures and functions together in a data structure called a <code>class</code>. We can use OOP to model things in the real world in our R programs.  "
   ]
  },
  {
   "cell_type": "markdown",
   "id": "0bfc1e93",
   "metadata": {},
   "source": [
    "### Notebook details\n",
    "<br>\n",
    "<i>Notebook created by <strong>Dr. Alan Davies</strong>.\n",
    "<br>\n",
    "&copy; Alan Davies 2022"
   ]
  },
  {
   "cell_type": "markdown",
   "id": "34ae6822",
   "metadata": {},
   "source": [
    "## Notes:"
   ]
  },
  {
   "cell_type": "code",
   "execution_count": null,
   "id": "4dd4e141",
   "metadata": {},
   "outputs": [],
   "source": []
  },
  {
   "cell_type": "code",
   "execution_count": null,
   "id": "3f55c7d1",
   "metadata": {},
   "outputs": [],
   "source": []
  }
 ],
 "metadata": {
  "hide_input": false,
  "kernelspec": {
   "display_name": "R",
   "language": "R",
   "name": "ir"
  },
  "language_info": {
   "codemirror_mode": "r",
   "file_extension": ".r",
   "mimetype": "text/x-r-source",
   "name": "R",
   "pygments_lexer": "r",
   "version": "3.6.1"
  }
 },
 "nbformat": 4,
 "nbformat_minor": 5
}
